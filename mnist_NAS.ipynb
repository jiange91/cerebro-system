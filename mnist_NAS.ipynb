{
 "cells": [
  {
   "cell_type": "code",
   "execution_count": 1,
   "id": "45ee794b",
   "metadata": {},
   "outputs": [
    {
     "name": "stderr",
     "output_type": "stream",
     "text": [
      "21/12/02 01:47:11 WARN NativeCodeLoader: Unable to load native-hadoop library for your platform... using builtin-java classes where applicable\n",
      "Using Spark's default log4j profile: org/apache/spark/log4j-defaults.properties\n",
      "Setting default log level to \"WARN\".\n",
      "To adjust logging level use sc.setLogLevel(newLevel). For SparkR, use setLogLevel(newLevel).\n"
     ]
    },
    {
     "name": "stdout",
     "output_type": "stream",
     "text": [
      "CEREBRO => Time: 2021-12-02 01:47:14, Running 1 Workers\n"
     ]
    }
   ],
   "source": [
    "from cerebro.backend import SparkBackend\n",
    "from cerebro.keras import SparkEstimator\n",
    "\n",
    "# datas storage for intermediate data and model artifacts.\n",
    "from cerebro.storage import LocalStore, HDFSStore\n",
    "\n",
    "# Model selection/AutoML methods.\n",
    "from cerebro.tune import GridSearch, RandomSearch, TPESearch\n",
    "\n",
    "# Utility functions for specifying the search space.\n",
    "from cerebro.tune import hp_choice, hp_uniform, hp_quniform, hp_loguniform, hp_qloguniform\n",
    "\n",
    "import tensorflow as tf\n",
    "from tensorflow import keras\n",
    "from tensorflow.keras import layers\n",
    "from pyspark.sql import SparkSession\n",
    "import numpy as np\n",
    "\n",
    "\n",
    "spark = SparkSession \\\n",
    "    .builder \\\n",
    "    .appName(\"Cerebro Example\") \\\n",
    "    .getOrCreate()\n",
    "\n",
    "...\n",
    "work_dir = '/Users/zijian/Desktop/ucsd/cse234/project/cerebro-system/'\n",
    "backend = SparkBackend(spark_context=spark.sparkContext, num_workers=1)\n",
    "store = LocalStore(prefix_path=work_dir + 'test/')\n",
    "\n",
    "df = spark.read.format(\"libsvm\") \\\n",
    "    .option(\"numFeatures\", \"784\") \\\n",
    "    .load(\"/Users/zijian/Desktop/ucsd/cse234/project/mnist/mnist.scale\")"
   ]
  },
  {
   "cell_type": "code",
   "execution_count": 2,
   "id": "4fcbb94b",
   "metadata": {},
   "outputs": [
    {
     "name": "stderr",
     "output_type": "stream",
     "text": [
      "                                                                                \r"
     ]
    },
    {
     "data": {
      "text/plain": [
       "60000"
      ]
     },
     "execution_count": 2,
     "metadata": {},
     "output_type": "execute_result"
    }
   ],
   "source": [
    "df.count()"
   ]
  },
  {
   "cell_type": "code",
   "execution_count": 3,
   "id": "1b31a9e7",
   "metadata": {},
   "outputs": [
    {
     "name": "stderr",
     "output_type": "stream",
     "text": [
      "\r",
      "[Stage 2:====>                                                    (1 + 11) / 12]\r",
      "                                                                                \r"
     ]
    }
   ],
   "source": [
    "from pyspark.ml.feature import OneHotEncoderEstimator\n",
    "\n",
    "encoder = OneHotEncoderEstimator(dropLast=False)\n",
    "encoder.setInputCols([\"label\"])\n",
    "encoder.setOutputCols([\"label_OHE\"])\n",
    "\n",
    "encoder_model = encoder.fit(df)\n",
    "encoded = encoder_model.transform(df)\n",
    "\n",
    "feature_columns=['features']\n",
    "label_columns=['label_OHE']\n",
    "train_df, test_df = encoded.randomSplit([0.8, 0.2], seed=100)"
   ]
  },
  {
   "cell_type": "code",
   "execution_count": 4,
   "id": "7bdc9484",
   "metadata": {},
   "outputs": [],
   "source": [
    "from keras_tuner.engine import hyperparameters\n",
    "import autokeras as ak\n",
    "from cerebro.nas.hphpmodel import HyperHyperModel\n",
    "\n",
    "img_shape = (28, 28, 1)\n",
    "\n",
    "input_node = ak.ImageInput()\n",
    "output_node = ak.ConvBlock(\n",
    "    kernel_size=hyperparameters.Fixed('kernel_size', value=3),\n",
    "    num_blocks=hyperparameters.Fixed('num_blocks', value=1),\n",
    "    num_layers=hyperparameters.Fixed('num_layers', value=2),\n",
    ")(input_node)\n",
    "output_node = ak.ClassificationHead()(output_node)\n",
    "am = HyperHyperModel(input_node, output_node, seed=2000)\n",
    "\n",
    "am.resource_bind(\n",
    "    backend=backend, \n",
    "    store=store,\n",
    "    feature_columns=feature_columns,\n",
    "    label_columns=label_columns,\n",
    "    evaluation_metric='accuracy', \n",
    ")\n",
    "\n",
    "am.tuner_bind(\n",
    "    tuner=\"greedy\", \n",
    "    hyperparameters=None, \n",
    "    objective=\"val_accuracy\",\n",
    "    max_trials=12,\n",
    "    overwrite=True,\n",
    "    exploration=0.3,\n",
    ")"
   ]
  },
  {
   "cell_type": "code",
   "execution_count": null,
   "id": "4f6dd6a8",
   "metadata": {},
   "outputs": [
    {
     "name": "stdout",
     "output_type": "stream",
     "text": [
      "Trial 1 Complete [00h 06m 32s]\n",
      "val_accuracy: 0.8634759187698364\n",
      "\n",
      "Best val_accuracy So Far: 0.8634759187698364\n",
      "Total elapsed time: 00h 06m 32s\n",
      "\n",
      "Search: Running Trial #2\n",
      "\n",
      "Hyperparameter    |Value             |Best Value So Far \n",
      "conv_block_1/ke...|3                 |3                 \n",
      "conv_block_1/se...|False             |True              \n",
      "conv_block_1/ma...|False             |True              \n",
      "conv_block_1/dr...|0.5               |0                 \n",
      "conv_block_1/nu...|1                 |1                 \n",
      "conv_block_1/nu...|2                 |2                 \n",
      "conv_block_1/fi...|256               |256               \n",
      "conv_block_1/fi...|32                |32                \n",
      "classification_...|global_avg        |flatten           \n",
      "classification_...|0.25              |0.25              \n",
      "optimizer         |adam_weight_decay |adam              \n",
      "learning_rate     |0.0001            |2e-05             \n",
      "\n"
     ]
    },
    {
     "name": "stderr",
     "output_type": "stream",
     "text": [
      "WARNING:tensorflow:Expected a shuffled dataset but input dataset `x` is not shuffled. Please invoke `shuffle()` on input dataset.\n",
      "Train on 1201 steps\n",
      "1201/1201 [==============================] - 141s 118ms/step - batch: 600.0000 - size: 1.0000 - loss: 2.3034 - accuracy: 0.0931\n",
      "2021-12-02 01:57:47.420503: W tensorflow/core/framework/op_kernel.cc:1751] Invalid argument: ValueError: callback pyfunc_23 is not found\n",
      "Traceback (most recent call last):\n",
      "\n",
      "  File \"/Users/zijian/.pyenv/versions/nocerebro/lib/python3.7/site-packages/tensorflow/python/ops/script_ops.py\", line 238, in __call__\n",
      "    raise ValueError(\"callback %s is not found\" % token)\n",
      "\n",
      "ValueError: callback pyfunc_23 is not found\n",
      "\n",
      "\n",
      "2021-12-02 01:57:47.420908: W tensorflow/core/kernels/data/generator_dataset_op.cc:107] Error occurred when finalizing GeneratorDataset iterator: Invalid argument: ValueError: callback pyfunc_23 is not found\n",
      "Traceback (most recent call last):\n",
      "\n",
      "  File \"/Users/zijian/.pyenv/versions/nocerebro/lib/python3.7/site-packages/tensorflow/python/ops/script_ops.py\", line 238, in __call__\n",
      "    raise ValueError(\"callback %s is not found\" % token)\n",
      "\n",
      "ValueError: callback pyfunc_23 is not found\n",
      "\n",
      "\n",
      "\t [[{{node PyFunc}}]]\n",
      "CEREBRO => Time: 2021-12-02 01:57:47, Model: model_1_1638438924, Mode: TRAIN, Initialization Time: 0.49019694328308105, Training Time: 142.02011704444885, Finalization Time: 0.2207939624786377\n",
      "[Stage 11:>                                                         (0 + 1) / 1]2021-12-02 01:57:58.551596: W tensorflow/core/framework/op_kernel.cc:1751] Invalid argument: ValueError: callback pyfunc_26 is not found\n",
      "Traceback (most recent call last):\n",
      "\n",
      "  File \"/Users/zijian/.pyenv/versions/nocerebro/lib/python3.7/site-packages/tensorflow/python/ops/script_ops.py\", line 238, in __call__\n",
      "    raise ValueError(\"callback %s is not found\" % token)\n",
      "\n",
      "ValueError: callback pyfunc_26 is not found\n",
      "\n",
      "\n",
      "2021-12-02 01:57:58.552013: W tensorflow/core/kernels/data/generator_dataset_op.cc:107] Error occurred when finalizing GeneratorDataset iterator: Invalid argument: ValueError: callback pyfunc_26 is not found\n",
      "Traceback (most recent call last):\n",
      "\n",
      "  File \"/Users/zijian/.pyenv/versions/nocerebro/lib/python3.7/site-packages/tensorflow/python/ops/script_ops.py\", line 238, in __call__\n",
      "    raise ValueError(\"callback %s is not found\" % token)\n",
      "\n",
      "ValueError: callback pyfunc_26 is not found\n",
      "\n",
      "\n",
      "\t [[{{node PyFunc}}]]\n",
      "CEREBRO => Time: 2021-12-02 01:57:58, Model: model_1_1638438924, Mode: VALID, Initialization Time: 0.966472864151001, Training Time: 7.877780914306641, Finalization Time: 0.14983510971069336\n",
      "WARNING:tensorflow:Expected a shuffled dataset but input dataset `x` is not shuffled. Please invoke `shuffle()` on input dataset.\n",
      "Train on 1201 steps\n",
      "Epoch 2/2\n",
      "1201/1201 [==============================] - 134s 111ms/step - batch: 600.0000 - size: 1.0000 - loss: 2.3034 - accuracy: 0.0935 1:41 - batch: 149.5000 - size: 1.0000 - loss: 2.3 - ETA: 1:20 -  - ETA: 52s - batch: 368.0000 - si - ETA: 45s - batch: 396.5000 - size: 1.0000 - loss: 2.3036 -  - ETA: 43s - batch: 406.5000 - size: 1.0000 - loss: 2.303 - ETA: 41s - batch: 417.5000  - ETA: 34s - batch: 444.5000 - size: 1. - ETA: 30s - batch: 464.0000 - size: 1.0000 - loss: 2.3035 - accuracy:  - ETA: 29s - batch: 467.5000 - size: 1.0000 - loss: 2.3 - ETA: 26s - batch: 480.0000 - size: 1.0000 - loss: 2.3034 - accuracy: 0.09 - ETA: 26s - batch: 481.0000 - size: 1.0000 - loss: 2 - ETA: 23s -  - ETA: 4s - batch: 579.5000 - size: 1.0000 - loss: 2.30\n",
      "2021-12-02 02:00:17.665888: W tensorflow/core/framework/op_kernel.cc:1751] Invalid argument: ValueError: callback pyfunc_29 is not found\n",
      "Traceback (most recent call last):\n",
      "\n",
      "  File \"/Users/zijian/.pyenv/versions/nocerebro/lib/python3.7/site-packages/tensorflow/python/ops/script_ops.py\", line 238, in __call__\n",
      "    raise ValueError(\"callback %s is not found\" % token)\n",
      "\n",
      "ValueError: callback pyfunc_29 is not found\n",
      "\n",
      "\n",
      "2021-12-02 02:00:17.666315: W tensorflow/core/kernels/data/generator_dataset_op.cc:107] Error occurred when finalizing GeneratorDataset iterator: Invalid argument: ValueError: callback pyfunc_29 is not found\n",
      "Traceback (most recent call last):\n",
      "\n",
      "  File \"/Users/zijian/.pyenv/versions/nocerebro/lib/python3.7/site-packages/tensorflow/python/ops/script_ops.py\", line 238, in __call__\n",
      "    raise ValueError(\"callback %s is not found\" % token)\n",
      "\n",
      "ValueError: callback pyfunc_29 is not found\n",
      "\n",
      "\n",
      "\t [[{{node PyFunc}}]]\n",
      "CEREBRO => Time: 2021-12-02 02:00:17, Model: model_1_1638438924, Mode: TRAIN, Initialization Time: 1.2438089847564697, Training Time: 134.51622915267944, Finalization Time: 0.20655584335327148\n",
      "2021-12-02 02:00:27.663220: W tensorflow/core/framework/op_kernel.cc:1751] Invalid argument: ValueError: callback pyfunc_32 is not found\n",
      "Traceback (most recent call last):\n",
      "\n",
      "  File \"/Users/zijian/.pyenv/versions/nocerebro/lib/python3.7/site-packages/tensorflow/python/ops/script_ops.py\", line 238, in __call__\n",
      "    raise ValueError(\"callback %s is not found\" % token)\n",
      "\n",
      "ValueError: callback pyfunc_32 is not found\n",
      "\n",
      "\n",
      "2021-12-02 02:00:27.663691: W tensorflow/core/kernels/data/generator_dataset_op.cc:107] Error occurred when finalizing GeneratorDataset iterator: Invalid argument: ValueError: callback pyfunc_32 is not found\n",
      "Traceback (most recent call last):\n",
      "\n",
      "  File \"/Users/zijian/.pyenv/versions/nocerebro/lib/python3.7/site-packages/tensorflow/python/ops/script_ops.py\", line 238, in __call__\n",
      "    raise ValueError(\"callback %s is not found\" % token)\n",
      "\n",
      "ValueError: callback pyfunc_32 is not found\n",
      "\n",
      "\n",
      "\t [[{{node PyFunc}}]]\n",
      "CEREBRO => Time: 2021-12-02 02:00:27, Model: model_1_1638438924, Mode: VALID, Initialization Time: 0.7936558723449707, Training Time: 6.297760009765625, Finalization Time: 0.11828303337097168\n",
      "WARNING:tensorflow:Expected a shuffled dataset but input dataset `x` is not shuffled. Please invoke `shuffle()` on input dataset.\n",
      "Train on 1201 steps\n",
      "Epoch 3/3\n",
      " 904/1201 [=====================>........] - ETA: 32s - batch: 451.5000 - size: 1.0000 - loss: 2.3036 - accuracy: 0.0907"
     ]
    }
   ],
   "source": [
    "rel = am.fit(train_df, epochs=4, input_shape=img_shape)"
   ]
  },
  {
   "cell_type": "code",
   "execution_count": null,
   "id": "88b6140f",
   "metadata": {},
   "outputs": [],
   "source": [
    "rel.metrics"
   ]
  },
  {
   "cell_type": "code",
   "execution_count": null,
   "id": "27c9c038",
   "metadata": {},
   "outputs": [],
   "source": []
  }
 ],
 "metadata": {
  "kernelspec": {
   "display_name": "Python 3 (ipykernel)",
   "language": "python",
   "name": "python3"
  },
  "language_info": {
   "codemirror_mode": {
    "name": "ipython",
    "version": 3
   },
   "file_extension": ".py",
   "mimetype": "text/x-python",
   "name": "python",
   "nbconvert_exporter": "python",
   "pygments_lexer": "ipython3",
   "version": "3.7.6"
  }
 },
 "nbformat": 4,
 "nbformat_minor": 5
}
