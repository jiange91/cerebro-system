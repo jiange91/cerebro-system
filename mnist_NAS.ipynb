{
 "cells": [
  {
   "cell_type": "code",
   "execution_count": 1,
   "id": "45ee794b",
   "metadata": {},
   "outputs": [
    {
     "name": "stderr",
     "output_type": "stream",
     "text": [
      "21/12/01 20:07:33 WARN NativeCodeLoader: Unable to load native-hadoop library for your platform... using builtin-java classes where applicable\n",
      "Using Spark's default log4j profile: org/apache/spark/log4j-defaults.properties\n",
      "Setting default log level to \"WARN\".\n",
      "To adjust logging level use sc.setLogLevel(newLevel). For SparkR, use setLogLevel(newLevel).\n",
      "21/12/01 20:07:34 WARN Utils: Service 'SparkUI' could not bind on port 4040. Attempting port 4041.\n"
     ]
    },
    {
     "name": "stdout",
     "output_type": "stream",
     "text": [
      "CEREBRO => Time: 2021-12-01 20:07:34, Running 1 Workers\n"
     ]
    }
   ],
   "source": [
    "from cerebro.backend import SparkBackend\n",
    "from cerebro.keras import SparkEstimator\n",
    "\n",
    "# datas storage for intermediate data and model artifacts.\n",
    "from cerebro.storage import LocalStore, HDFSStore\n",
    "\n",
    "# Model selection/AutoML methods.\n",
    "from cerebro.tune import GridSearch, RandomSearch, TPESearch\n",
    "\n",
    "# Utility functions for specifying the search space.\n",
    "from cerebro.tune import hp_choice, hp_uniform, hp_quniform, hp_loguniform, hp_qloguniform\n",
    "\n",
    "import tensorflow as tf\n",
    "from tensorflow import keras\n",
    "from tensorflow.keras import layers\n",
    "from pyspark.sql import SparkSession\n",
    "import numpy as np\n",
    "\n",
    "\n",
    "spark = SparkSession \\\n",
    "    .builder \\\n",
    "    .appName(\"Cerebro Example\") \\\n",
    "    .getOrCreate()\n",
    "\n",
    "...\n",
    "work_dir = '/Users/zijian/Desktop/ucsd/cse234/project/cerebro-system/'\n",
    "backend = SparkBackend(spark_context=spark.sparkContext, num_workers=1)\n",
    "store = LocalStore(prefix_path=work_dir + 'test/')\n",
    "\n",
    "df = spark.read.format(\"libsvm\") \\\n",
    "    .option(\"numFeatures\", \"784\") \\\n",
    "    .load(\"/Users/zijian/Desktop/ucsd/cse234/project/mnist/mnist.scale\")"
   ]
  },
  {
   "cell_type": "code",
   "execution_count": 2,
   "id": "4fcbb94b",
   "metadata": {},
   "outputs": [
    {
     "name": "stderr",
     "output_type": "stream",
     "text": [
      "                                                                                \r"
     ]
    },
    {
     "data": {
      "text/plain": [
       "60000"
      ]
     },
     "execution_count": 2,
     "metadata": {},
     "output_type": "execute_result"
    }
   ],
   "source": [
    "df.count()"
   ]
  },
  {
   "cell_type": "code",
   "execution_count": 3,
   "id": "1b31a9e7",
   "metadata": {},
   "outputs": [
    {
     "name": "stderr",
     "output_type": "stream",
     "text": [
      "\r",
      "[Stage 2:====>                                                    (1 + 11) / 12]\r",
      "                                                                                \r"
     ]
    }
   ],
   "source": [
    "from pyspark.ml.feature import OneHotEncoderEstimator\n",
    "\n",
    "encoder = OneHotEncoderEstimator(dropLast=False)\n",
    "encoder.setInputCols([\"label\"])\n",
    "encoder.setOutputCols([\"label_OHE\"])\n",
    "\n",
    "encoder_model = encoder.fit(df)\n",
    "encoded = encoder_model.transform(df)\n",
    "\n",
    "feature_columns=['features']\n",
    "label_columns=['label_OHE']\n",
    "train_df, test_df = encoded.randomSplit([0.8, 0.2], seed=100)"
   ]
  },
  {
   "cell_type": "code",
   "execution_count": 4,
   "id": "8004fba0",
   "metadata": {},
   "outputs": [],
   "source": [
    "from keras_tuner.engine import hyperparameters\n",
    "import autokeras as ak\n",
    "from cerebro.nas.hphpmodel import HyperHyperModel\n",
    "\n",
    "img_shape = (28, 28, 1)\n",
    "\n",
    "input_node = ak.ImageInput()\n",
    "output_node = ak.ConvBlock(\n",
    "    kernel_size=hyperparameters.Fixed('kernel_size', value=3),\n",
    "    num_blocks=hyperparameters.Fixed('num_blocks', value=1),\n",
    "    num_layers=hyperparameters.Fixed('num_layers', value=2),\n",
    ")(input_node)\n",
    "output_node = ak.ClassificationHead()(output_node)\n",
    "am = HyperHyperModel(input_node, output_node, seed=2000)\n",
    "\n",
    "am.resource_bind(\n",
    "    backend=backend, \n",
    "    store=store,\n",
    "    feature_columns=feature_columns,\n",
    "    label_columns=label_columns,\n",
    "    evaluation_metric='accuracy', \n",
    ")\n",
    "\n",
    "am.tuner_bind(\n",
    "    tuner=\"greedy\", \n",
    "    hyperparameters=None, \n",
    "    objective=\"val_accuracy\",\n",
    "    max_trials=10,\n",
    "    overwrite=True,\n",
    "    exploration=0.3,\n",
    ")"
   ]
  },
  {
   "cell_type": "code",
   "execution_count": 5,
   "id": "8ae4a05e",
   "metadata": {},
   "outputs": [
    {
     "name": "stdout",
     "output_type": "stream",
     "text": [
      "Trial 10 Complete [00h 08m 05s]\n",
      "val_accuracy: 0.9673958420753479\n",
      "\n",
      "Best val_accuracy So Far: 0.9765625\n",
      "Total elapsed time: 00h 55m 32s\n"
     ]
    }
   ],
   "source": [
    "rel = am.fit(train_df, epochs=3, input_shape=img_shape)"
   ]
  },
  {
   "cell_type": "code",
   "execution_count": 6,
   "id": "b06663ff",
   "metadata": {},
   "outputs": [
    {
     "data": {
      "text/plain": [
       "{'model_0_1638418138': {'trial': <keras_tuner.engine.trial.Trial at 0x17d865910>,\n",
       "  'train_loss': [2.228817156963856, 1.16497028389707, 0.5962928835730287],\n",
       "  'train_accuracy': [0.311148077249527,\n",
       "   0.7241836786270142,\n",
       "   0.8192595839500427],\n",
       "  'val_loss': [1.9101210645834605, 0.6646093040704727, 0.4766809039687117],\n",
       "  'val_accuracy': [0.5494791865348816,\n",
       "   0.8109375238418579,\n",
       "   0.8585416674613953]},\n",
       " 'model_1_1638418396': {'trial': <keras_tuner.engine.trial.Trial at 0x17d905090>,\n",
       "  'train_loss': [2.303350294489234, 2.303333997528089, 2.3033328339978185],\n",
       "  'train_accuracy': [0.1070091500878334,\n",
       "   0.10347338020801544,\n",
       "   0.10664517432451248],\n",
       "  'val_loss': [2.3032669043540954, 2.3030954241752624, 2.303153946399689],\n",
       "  'val_accuracy': [0.11708333343267441,\n",
       "   0.1133333370089531,\n",
       "   0.11395833641290665]},\n",
       " 'model_2_1638418815': {'trial': <keras_tuner.engine.trial.Trial at 0x17d9547d0>,\n",
       "  'train_loss': [0.48381913319201414, 0.09026713565258727, 0.063960221128877],\n",
       "  'train_accuracy': [0.8421640992164612,\n",
       "   0.9723637700080872,\n",
       "   0.9802672863006592],\n",
       "  'val_loss': [0.104289349601216, 0.0767495622994223, 0.0958706081310993],\n",
       "  'val_accuracy': [0.9688541889190674,\n",
       "   0.9761458039283752,\n",
       "   0.9725000262260437]},\n",
       " 'model_3_1638419175': {'trial': <keras_tuner.engine.trial.Trial at 0x17d5cfc50>,\n",
       "  'train_loss': [2.304911117783799, 2.3046195713335185, 2.304277604114196],\n",
       "  'train_accuracy': [0.10651518404483795,\n",
       "   0.10277142375707626,\n",
       "   0.10643719136714935],\n",
       "  'val_loss': [2.3033455061912536, 2.3033512751261394, 2.3033283138275147],\n",
       "  'val_accuracy': [0.11270833015441895,\n",
       "   0.11239583045244217,\n",
       "   0.11281249672174454]},\n",
       " 'model_4_1638419462': {'trial': <keras_tuner.engine.trial.Trial at 0x17d80f450>,\n",
       "  'train_loss': [2.2992311745832446, 2.2814303218029104, 2.242578488221383],\n",
       "  'train_accuracy': [0.09871568530797958,\n",
       "   0.12871776521205902,\n",
       "   0.17821858823299408],\n",
       "  'val_loss': [2.2884163427352906, 2.255124890009562, 2.190754852294922],\n",
       "  'val_accuracy': [0.09677083045244217,\n",
       "   0.1927083283662796,\n",
       "   0.2916666567325592]},\n",
       " 'model_5_1638419584': {'trial': <keras_tuner.engine.trial.Trial at 0x17d806e50>,\n",
       "  'train_loss': [2.3323298353522075, 2.295377684611449, 2.1149771895860874],\n",
       "  'train_accuracy': [0.06967554241418839,\n",
       "   0.12037229537963867,\n",
       "   0.20697274804115295],\n",
       "  'val_loss': [2.3013616522153217, 2.1961977263291677, 1.904920026063919],\n",
       "  'val_accuracy': [0.11760416626930237,\n",
       "   0.21281249821186066,\n",
       "   0.25854167342185974]},\n",
       " 'model_6_1638419956': {'trial': <keras_tuner.engine.trial.Trial at 0x17d806850>,\n",
       "  'train_loss': [0.3846887947871685, 0.09723346033520487, 0.06680445856922818],\n",
       "  'train_accuracy': [0.8811095952987671,\n",
       "   0.9706218838691711,\n",
       "   0.9807352423667908],\n",
       "  'val_loss': [0.12238568737870083, 0.1002675821291147, 0.08097183507952044],\n",
       "  'val_accuracy': [0.9628124833106995, 0.9694791436195374, 0.9765625]},\n",
       " 'model_7_1638420348': {'trial': <keras_tuner.engine.trial.Trial at 0x17d7f3250>,\n",
       "  'train_loss': [2.3197543412794093, 2.324354013369206, 2.243184665871936],\n",
       "  'train_accuracy': [0.08777038007974625,\n",
       "   0.09000623971223831,\n",
       "   0.15261022746562958],\n",
       "  'val_loss': [2.2981653038660683, 2.285041969617208, 2.1099523536364235],\n",
       "  'val_accuracy': [0.14645832777023315,\n",
       "   0.17166666686534882,\n",
       "   0.23218749463558197]},\n",
       " 'model_8_1638420665': {'trial': <keras_tuner.engine.trial.Trial at 0x17d9db950>,\n",
       "  'train_loss': [2.3127897366906165, 2.306004750351739, 2.305901200521409],\n",
       "  'train_accuracy': [0.08093281835317612,\n",
       "   0.10963498055934906,\n",
       "   0.11135087162256241],\n",
       "  'val_loss': [2.300924315452576, 2.3006063580513, 2.300528500874837],\n",
       "  'val_accuracy': [0.11812499910593033,\n",
       "   0.11760416626930237,\n",
       "   0.11770833283662796]},\n",
       " 'model_9_1638420985': {'trial': <keras_tuner.engine.trial.Trial at 0x17da0a950>,\n",
       "  'train_loss': [0.33928383420985764,\n",
       "   0.10786833764431504,\n",
       "   0.05900071284011153],\n",
       "  'train_accuracy': [0.8959806561470032,\n",
       "   0.9666961431503296,\n",
       "   0.9823991060256958],\n",
       "  'val_loss': [0.16341767950022282, 0.1208783987853288, 0.10861805652782398],\n",
       "  'val_accuracy': [0.9477083086967468,\n",
       "   0.9646875262260437,\n",
       "   0.9673958420753479]}}"
      ]
     },
     "execution_count": 6,
     "metadata": {},
     "output_type": "execute_result"
    },
    {
     "name": "stderr",
     "output_type": "stream",
     "text": [
      "[Stage 11:>                                                         (0 + 1) / 1]"
     ]
    }
   ],
   "source": [
    "rel.metrics"
   ]
  },
  {
   "cell_type": "code",
   "execution_count": null,
   "id": "6dbda713",
   "metadata": {},
   "outputs": [],
   "source": []
  }
 ],
 "metadata": {
  "kernelspec": {
   "display_name": "Python 3",
   "language": "python",
   "name": "python3"
  },
  "language_info": {
   "codemirror_mode": {
    "name": "ipython",
    "version": 3
   },
   "file_extension": ".py",
   "mimetype": "text/x-python",
   "name": "python",
   "nbconvert_exporter": "python",
   "pygments_lexer": "ipython3",
   "version": "3.6.9"
  }
 },
 "nbformat": 4,
 "nbformat_minor": 5
}
