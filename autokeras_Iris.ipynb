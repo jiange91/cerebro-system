{
 "cells": [
  {
   "cell_type": "code",
   "execution_count": 1,
   "id": "9fe239c9",
   "metadata": {},
   "outputs": [
    {
     "name": "stderr",
     "output_type": "stream",
     "text": [
      "21/11/22 06:01:12 WARN NativeCodeLoader: Unable to load native-hadoop library for your platform... using builtin-java classes where applicable\n",
      "Using Spark's default log4j profile: org/apache/spark/log4j-defaults.properties\n",
      "Setting default log level to \"WARN\".\n",
      "To adjust logging level use sc.setLogLevel(newLevel). For SparkR, use setLogLevel(newLevel).\n",
      "21/11/22 06:01:12 WARN Utils: Service 'SparkUI' could not bind on port 4040. Attempting port 4041.\n",
      "21/11/22 06:01:12 WARN Utils: Service 'SparkUI' could not bind on port 4041. Attempting port 4042.\n",
      "21/11/22 06:01:12 WARN Utils: Service 'SparkUI' could not bind on port 4042. Attempting port 4043.\n"
     ]
    },
    {
     "name": "stdout",
     "output_type": "stream",
     "text": [
      "CEREBRO => Time: 2021-11-22 06:01:13, Running 1 Workers\n"
     ]
    }
   ],
   "source": [
    "from cerebro.backend import SparkBackend\n",
    "from cerebro.keras import SparkEstimator\n",
    "\n",
    "# datas storage for intermediate data and model artifacts.\n",
    "from cerebro.storage import LocalStore, HDFSStore\n",
    "\n",
    "# Model selection/AutoML methods.\n",
    "from cerebro.tune import GridSearch, RandomSearch, TPESearch\n",
    "\n",
    "# Utility functions for specifying the search space.\n",
    "from cerebro.tune import hp_choice, hp_uniform, hp_quniform, hp_loguniform, hp_qloguniform\n",
    "\n",
    "import tensorflow as tf\n",
    "# tf.config.run_functions_eagerly(True)\n",
    "\n",
    "from pyspark.sql import SparkSession\n",
    "import numpy as np\n",
    "import autokeras as ak\n",
    "\n",
    "spark = SparkSession \\\n",
    "    .builder \\\n",
    "    .appName(\"Cerebro Iris\") \\\n",
    "    .getOrCreate()\n",
    "\n",
    "...\n",
    "\n",
    "backend = SparkBackend(spark_context=spark.sparkContext, num_workers=1)\n",
    "store = LocalStore(prefix_path='/Users/zijian/Desktop/ucsd/cse234/project/cerebro-system/experiments')\n",
    "\n",
    "from pyspark.ml.feature import OneHotEncoderEstimator\n",
    "\n",
    "df = spark.read.csv(\"/Users/zijian/Desktop/ucsd/cse234/project/cerebro-system/Iris_clean.csv\", header=True, inferSchema=True)\n",
    "\n",
    "encoder = OneHotEncoderEstimator(dropLast=False)\n",
    "encoder.setInputCols([\"Species\"])\n",
    "encoder.setOutputCols([\"Species_OHE\"])\n",
    "\n",
    "encoder_model = encoder.fit(df)\n",
    "encoded = encoder_model.transform(df)\n",
    "\n",
    "feature_columns=['SepalLengthCm', 'SepalWidthCm', 'PetalLengthCm', 'PetalWidthCm']\n",
    "label_columns=['Species_OHE']\n",
    "\n",
    "# Initialize input DataFrames.\n",
    "# You can download sample dataset from https://apache.googlesource.com/spark/+/master/data/mllib/sample_libsvm_data.txt\n",
    "\n",
    "train_df, test_df = encoded.randomSplit([0.8, 0.2], 100)"
   ]
  },
  {
   "cell_type": "code",
   "execution_count": 2,
   "id": "ec747315",
   "metadata": {},
   "outputs": [],
   "source": [
    "# from sklearn.preprocessing import OneHotEncoder\n",
    "# from sklearn.model_selection import train_test_split\n",
    "\n",
    "# pddf = df.toPandas()\n",
    "# train_df, test_df = train_test_split(pddf, test_size=0.2, random_state=42, shuffle=True)\n",
    "# train_df, test_df = df.randomSplit([0.8, 0.2])\n",
    "# train = train_df.toPandas()\n",
    "# test = test_df.toPandas()\n",
    "\n",
    "# x_train = train_df[feature_columns]\n",
    "# y_train = train_df[['Species']]\n",
    "\n",
    "# enc = OneHotEncoder()\n",
    "# x = np.array(x_train)\n",
    "# x = [x[:,i,np.newaxis] for i in range(x.shape[1])]\n",
    "# y = enc.fit_transform(y_train).toarray()\n",
    "\n",
    "# x_test = test_df[feature_columns]\n",
    "# y_test = test_df[['Species']]\n",
    "\n",
    "# y_test = enc.fit_transform(y_test).toarray()\n",
    "# x_test = np.array(x_test)\n",
    "# x_test = [x_test[:,i,np.newaxis] for i in range(x_test.shape[1])]"
   ]
  },
  {
   "cell_type": "code",
   "execution_count": null,
   "id": "ce1b1d33",
   "metadata": {},
   "outputs": [],
   "source": []
  },
  {
   "cell_type": "code",
   "execution_count": null,
   "id": "e3d611f9",
   "metadata": {},
   "outputs": [],
   "source": []
  },
  {
   "cell_type": "code",
   "execution_count": 3,
   "id": "b928bf75",
   "metadata": {},
   "outputs": [
    {
     "name": "stdout",
     "output_type": "stream",
     "text": [
      "(120, 3)\n",
      "(30, 3)\n"
     ]
    }
   ],
   "source": [
    "x = np.array(train_df.select(feature_columns).collect())\n",
    "y = np.array(train_df.select(label_columns).collect())\n",
    "x = [x[:,i,np.newaxis] for i in range(x.shape[1])]\n",
    "y = np.squeeze(y,1)\n",
    "print(y.shape)\n",
    "\n",
    "x_test = np.array(test_df.select(feature_columns).collect())\n",
    "y_test = np.array(test_df.select(label_columns).collect())\n",
    "x_test = [x_test[:,i,np.newaxis] for i in range(x_test.shape[1])]\n",
    "y_test = np.squeeze(y_test,1)\n",
    "print(y_test.shape)"
   ]
  },
  {
   "cell_type": "code",
   "execution_count": 4,
   "id": "3148db32",
   "metadata": {},
   "outputs": [],
   "source": [
    "input_node = [ak.StructuredDataInput() for c in feature_columns]\n",
    "# embeddings = [ak.StructuredDataBlock()(innode) for innode in input_node]\n",
    "# output_node = ak.Merge()([embeddings])\n",
    "concat = ak.Merge()(input_node)\n",
    "output_node = ak.DenseBlock()(concat)\n",
    "output_node = ak.ClassificationHead()(output_node)\n",
    "clf = ak.AutoModel(\n",
    "    inputs=input_node, \n",
    "    outputs=output_node, \n",
    "    max_trials=20, \n",
    "    tuner='random',\n",
    "    objective=\"val_loss\",\n",
    "    seed=100,\n",
    "    overwrite=True\n",
    ")"
   ]
  },
  {
   "cell_type": "code",
   "execution_count": 5,
   "id": "70ed264e",
   "metadata": {},
   "outputs": [],
   "source": [
    "# dataset, validation_data = clf._convert_to_dataset(\n",
    "#             x=x, y=y, validation_data=None, batch_size=32\n",
    "#         )\n",
    "# clf._analyze_data(dataset)\n",
    "# clf._build_hyper_pipeline(dataset)"
   ]
  },
  {
   "cell_type": "code",
   "execution_count": 6,
   "id": "42ca0d21",
   "metadata": {},
   "outputs": [],
   "source": [
    "# hp = clf.tuner.oracle.get_space()\n",
    "# clf.tuner._prepare_model_build(hp, x=dataset)\n",
    "# clf.tuner.hypermodel.build(hp)\n",
    "# clf.tuner.oracle.update_space(hp)"
   ]
  },
  {
   "cell_type": "code",
   "execution_count": 7,
   "id": "37764631",
   "metadata": {},
   "outputs": [],
   "source": [
    "# trial = clf.tuner.oracle.create_trial(clf.tuner.tuner_id)\n",
    "# trial.hyperparameters.values"
   ]
  },
  {
   "cell_type": "code",
   "execution_count": 8,
   "id": "06bf48cd",
   "metadata": {},
   "outputs": [],
   "source": [
    "# clf.tuner.oracle._tried_so_far"
   ]
  },
  {
   "cell_type": "code",
   "execution_count": 9,
   "id": "eb2cfa23",
   "metadata": {},
   "outputs": [],
   "source": [
    "# clf.tuner.oracle.get_space().space"
   ]
  },
  {
   "cell_type": "code",
   "execution_count": 10,
   "id": "c925f973",
   "metadata": {},
   "outputs": [
    {
     "name": "stdout",
     "output_type": "stream",
     "text": [
      "Trial 20 Complete [00h 00m 02s]\n",
      "val_loss: 0.5947383046150208\n",
      "\n",
      "Best val_loss So Far: 0.36133790016174316\n",
      "Total elapsed time: 00h 00m 59s\n",
      "INFO:tensorflow:Oracle triggered exit\n",
      "Epoch 1/10\n",
      "4/4 [==============================] - 0s 5ms/step - loss: 1.9923 - accuracy: 0.3250\n",
      "Epoch 2/10\n",
      "4/4 [==============================] - 0s 5ms/step - loss: 1.2646 - accuracy: 0.3123\n",
      "Epoch 3/10\n",
      "4/4 [==============================] - 0s 4ms/step - loss: 0.9194 - accuracy: 0.5104\n",
      "Epoch 4/10\n",
      "4/4 [==============================] - 0s 4ms/step - loss: 0.6687 - accuracy: 0.7100\n",
      "Epoch 5/10\n",
      "4/4 [==============================] - 0s 4ms/step - loss: 0.6019 - accuracy: 0.8075\n",
      "Epoch 6/10\n",
      "4/4 [==============================] - 0s 4ms/step - loss: 0.6156 - accuracy: 0.7454\n",
      "Epoch 7/10\n",
      "4/4 [==============================] - 0s 4ms/step - loss: 0.4541 - accuracy: 0.8617\n",
      "Epoch 8/10\n",
      "4/4 [==============================] - 0s 4ms/step - loss: 0.4707 - accuracy: 0.7746\n",
      "Epoch 9/10\n",
      "4/4 [==============================] - 0s 4ms/step - loss: 0.3392 - accuracy: 0.8663\n",
      "Epoch 10/10\n",
      "4/4 [==============================] - 0s 4ms/step - loss: 0.3562 - accuracy: 0.9075\n"
     ]
    },
    {
     "name": "stderr",
     "output_type": "stream",
     "text": [
      "2021-11-22 06:02:18.877548: W tensorflow/python/util/util.cc:348] Sets are not currently considered sequences, but this may change in the future, so consider avoiding using them.\n"
     ]
    },
    {
     "name": "stdout",
     "output_type": "stream",
     "text": [
      "INFO:tensorflow:Assets written to: ./auto_model/best_model/assets\n"
     ]
    },
    {
     "data": {
      "text/plain": [
       "<tensorflow.python.keras.callbacks.History at 0x1787cabd0>"
      ]
     },
     "execution_count": 10,
     "metadata": {},
     "output_type": "execute_result"
    }
   ],
   "source": [
    "clf.fit(\n",
    "    x,\n",
    "    y,\n",
    "    # The name of the label column.\n",
    "    epochs=10,\n",
    ")"
   ]
  },
  {
   "cell_type": "code",
   "execution_count": 11,
   "id": "dba8cfdd",
   "metadata": {},
   "outputs": [],
   "source": [
    "model = clf.tuner.get_best_model()"
   ]
  },
  {
   "cell_type": "code",
   "execution_count": 12,
   "id": "59e45148",
   "metadata": {},
   "outputs": [
    {
     "name": "stdout",
     "output_type": "stream",
     "text": [
      "Model: \"model\"\n",
      "__________________________________________________________________________________________________\n",
      "Layer (type)                    Output Shape         Param #     Connected to                     \n",
      "==================================================================================================\n",
      "input_1 (InputLayer)            [(None, 1)]          0                                            \n",
      "__________________________________________________________________________________________________\n",
      "input_2 (InputLayer)            [(None, 1)]          0                                            \n",
      "__________________________________________________________________________________________________\n",
      "input_3 (InputLayer)            [(None, 1)]          0                                            \n",
      "__________________________________________________________________________________________________\n",
      "input_4 (InputLayer)            [(None, 1)]          0                                            \n",
      "__________________________________________________________________________________________________\n",
      "concatenate (Concatenate)       (None, 4)            0           input_1[0][0]                    \n",
      "                                                                 input_2[0][0]                    \n",
      "                                                                 input_3[0][0]                    \n",
      "                                                                 input_4[0][0]                    \n",
      "__________________________________________________________________________________________________\n",
      "dense (Dense)                   (None, 128)          640         concatenate[0][0]                \n",
      "__________________________________________________________________________________________________\n",
      "re_lu (ReLU)                    (None, 128)          0           dense[0][0]                      \n",
      "__________________________________________________________________________________________________\n",
      "dropout (Dropout)               (None, 128)          0           re_lu[0][0]                      \n",
      "__________________________________________________________________________________________________\n",
      "dense_1 (Dense)                 (None, 1024)         132096      dropout[0][0]                    \n",
      "__________________________________________________________________________________________________\n",
      "re_lu_1 (ReLU)                  (None, 1024)         0           dense_1[0][0]                    \n",
      "__________________________________________________________________________________________________\n",
      "dropout_1 (Dropout)             (None, 1024)         0           re_lu_1[0][0]                    \n",
      "__________________________________________________________________________________________________\n",
      "dropout_2 (Dropout)             (None, 1024)         0           dropout_1[0][0]                  \n",
      "__________________________________________________________________________________________________\n",
      "dense_2 (Dense)                 (None, 3)            3075        dropout_2[0][0]                  \n",
      "__________________________________________________________________________________________________\n",
      "classification_head_1 (Softmax) (None, 3)            0           dense_2[0][0]                    \n",
      "==================================================================================================\n",
      "Total params: 135,811\n",
      "Trainable params: 135,811\n",
      "Non-trainable params: 0\n",
      "__________________________________________________________________________________________________\n"
     ]
    }
   ],
   "source": [
    "model.summary()"
   ]
  },
  {
   "cell_type": "code",
   "execution_count": 13,
   "id": "dad3e330",
   "metadata": {},
   "outputs": [
    {
     "name": "stdout",
     "output_type": "stream",
     "text": [
      "1/1 [==============================] - 0s 186ms/step - loss: 0.2815 - accuracy: 0.8667\n"
     ]
    },
    {
     "data": {
      "text/plain": [
       "[0.28146201372146606, 0.8666666746139526]"
      ]
     },
     "execution_count": 13,
     "metadata": {},
     "output_type": "execute_result"
    }
   ],
   "source": [
    "clf.evaluate(x_test, y_test)"
   ]
  },
  {
   "cell_type": "code",
   "execution_count": 14,
   "id": "b41c7e91",
   "metadata": {},
   "outputs": [
    {
     "data": {
      "text/plain": [
       "{'name': 'SGD',\n",
       " 'learning_rate': 0.10000000149011612,\n",
       " 'decay': 0.0,\n",
       " 'momentum': 0.0,\n",
       " 'nesterov': False}"
      ]
     },
     "execution_count": 14,
     "metadata": {},
     "output_type": "execute_result"
    }
   ],
   "source": [
    "model.optimizer.get_config()"
   ]
  },
  {
   "cell_type": "code",
   "execution_count": 15,
   "id": "9f267ab9",
   "metadata": {},
   "outputs": [],
   "source": [
    "pd_train = train_df.toPandas()\n",
    "pd_test = test_df.toPandas()"
   ]
  },
  {
   "cell_type": "code",
   "execution_count": 16,
   "id": "4c02646e",
   "metadata": {},
   "outputs": [
    {
     "data": {
      "text/plain": [
       "2    43\n",
       "1    42\n",
       "0    35\n",
       "Name: Species, dtype: int64"
      ]
     },
     "execution_count": 16,
     "metadata": {},
     "output_type": "execute_result"
    }
   ],
   "source": [
    "pd_train[\"Species\"].value_counts()"
   ]
  },
  {
   "cell_type": "code",
   "execution_count": 17,
   "id": "f197e507",
   "metadata": {},
   "outputs": [
    {
     "data": {
      "text/plain": [
       "0    15\n",
       "1     8\n",
       "2     7\n",
       "Name: Species, dtype: int64"
      ]
     },
     "execution_count": 17,
     "metadata": {},
     "output_type": "execute_result"
    }
   ],
   "source": [
    "pd_test[\"Species\"].value_counts()"
   ]
  },
  {
   "cell_type": "code",
   "execution_count": 19,
   "id": "f49d58e1",
   "metadata": {},
   "outputs": [
    {
     "data": {
      "text/plain": [
       "{'1d13b9daf356c746e74fb36a22be5cba',\n",
       " '1df78473d7eb0beadcebc4a6665853b8',\n",
       " '217b94f91ceb2d7196f3ce3e073be6ba',\n",
       " '46f5872d280a709859673af8d389b8ca',\n",
       " '4ea89569c6ecd802ce30aa61d9b74a92',\n",
       " '5b29e17452483172b48198030a343698',\n",
       " '67925b517d7d493145dfa536310c29d0',\n",
       " '70b015c7e186ce401125f73bccb722b0',\n",
       " '72a3195d68017860075009b1dacdcbf3',\n",
       " '7e69c12d0c876e0dcbf1df948001878e',\n",
       " '87f4a873b531a01281ff91149567ff7b',\n",
       " 'b741a21bd822202fca8a9f39fb55ddbf',\n",
       " 'ce4abdf3ec7cdf8b7830444fc366a589',\n",
       " 'dc04fd1487b18abd83df22678963c725',\n",
       " 'dfec8137a53ce41991f8931cef4e6d2d',\n",
       " 'e600389267e922d0fdf7b860c0a73861',\n",
       " 'e80967daa9e2578e6dae2ed580466650',\n",
       " 'f19b7e6d721e1e1d94f9dd74db31e041',\n",
       " 'f23dfd80a5340a38a7996bdb78dc4475',\n",
       " 'fb3b254380b6fd14eed338431fb4a1a5'}"
      ]
     },
     "execution_count": 19,
     "metadata": {},
     "output_type": "execute_result"
    }
   ],
   "source": [
    "clf.tuner.oracle._tried_so_far"
   ]
  },
  {
   "cell_type": "code",
   "execution_count": null,
   "id": "ebaab432",
   "metadata": {},
   "outputs": [],
   "source": []
  }
 ],
 "metadata": {
  "kernelspec": {
   "display_name": "Python 3 (ipykernel)",
   "language": "python",
   "name": "python3"
  },
  "language_info": {
   "codemirror_mode": {
    "name": "ipython",
    "version": 3
   },
   "file_extension": ".py",
   "mimetype": "text/x-python",
   "name": "python",
   "nbconvert_exporter": "python",
   "pygments_lexer": "ipython3",
   "version": "3.7.6"
  }
 },
 "nbformat": 4,
 "nbformat_minor": 5
}
