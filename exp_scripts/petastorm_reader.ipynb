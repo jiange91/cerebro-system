{
 "cells": [
  {
   "cell_type": "code",
   "execution_count": 1,
   "id": "a0517b0c",
   "metadata": {
    "ExecuteTime": {
     "end_time": "2021-12-06T12:56:59.741959Z",
     "start_time": "2021-12-06T12:56:55.766919Z"
    }
   },
   "outputs": [
    {
     "name": "stdout",
     "output_type": "stream",
     "text": [
      "CEREBRO => Time: 2021-12-06 05:56:59, Running 6 Workers\n"
     ]
    }
   ],
   "source": [
    "from cerebro.backend import SparkBackend\n",
    "from cerebro.keras import SparkEstimator\n",
    "\n",
    "# datas storage for intermediate data and model artifacts.\n",
    "from cerebro.storage import LocalStore, HDFSStore\n",
    "\n",
    "# Model selection/AutoML methods.\n",
    "from cerebro.tune import GridSearch, RandomSearch, TPESearch\n",
    "\n",
    "# Utility functions for specifying the search space.\n",
    "from cerebro.tune import hp_choice, hp_uniform, hp_quniform, hp_loguniform, hp_qloguniform\n",
    "\n",
    "import tensorflow as tf\n",
    "from tensorflow import keras\n",
    "from tensorflow.keras import layers\n",
    "from pyspark.sql import SparkSession\n",
    "import numpy as np\n",
    "import os\n",
    "\n",
    "os.environ[\"PYSPARK_PYTHON\"] = '/usr/bin/python3.6'\n",
    "os.environ[\"PYSPARK_DRIVER_PYTHON\"] = '/usr/bin/python3.6'\n",
    "\n",
    "from pyspark import SparkConf\n",
    "\n",
    "conf = SparkConf().setAppName('cluster') \\\n",
    "    .setMaster('spark://10.10.1.1:7077') \\\n",
    "    .set('spark.task.cpus', '16') \\\n",
    "    .set('spark.executor.memory', '124g')\n",
    "spark = SparkSession.builder.config(conf=conf).getOrCreate()\n",
    "spark.sparkContext.addPyFile(\"cerebro.zip\")\n",
    "\n",
    "work_dir = '/var/nfs/'\n",
    "backend = SparkBackend(spark_context=spark.sparkContext, num_workers=6)\n",
    "store = LocalStore(prefix_path=work_dir + 'test/')"
   ]
  },
  {
   "cell_type": "code",
   "execution_count": 2,
   "id": "4b326ecd",
   "metadata": {
    "ExecuteTime": {
     "end_time": "2021-12-06T12:56:59.798206Z",
     "start_time": "2021-12-06T12:56:59.743425Z"
    }
   },
   "outputs": [],
   "source": [
    "from keras_tuner.engine import hyperparameters\n",
    "import autokeras as ak\n",
    "from cerebro.nas.hphpmodel import HyperHyperModel\n",
    "\n",
    "# Define the search space\n",
    "input_node = ak.StructuredDataInput()\n",
    "otuput_node = ak.DenseBlock()(input_node)\n",
    "output_node = ak.ClassificationHead()(otuput_node)\n",
    "\n",
    "am = HyperHyperModel(input_node, output_node, seed=2500)\n",
    "\n",
    "am.resource_bind(\n",
    "    backend=backend, \n",
    "    store=store,\n",
    "    feature_columns=[\"features\"],\n",
    "    label_columns=['labels'],\n",
    "    evaluation_metric='accuracy', \n",
    ")\n",
    "\n",
    "am.tuner_bind(\n",
    "    tuner=\"greedy\", \n",
    "    hyperparameters=None, \n",
    "    objective=\"val_accuracy\",\n",
    "    max_trials=20,\n",
    "    overwrite=True,\n",
    "    exploration=0.3,\n",
    ")"
   ]
  },
  {
   "cell_type": "code",
   "execution_count": 4,
   "id": "f45b9884",
   "metadata": {
    "ExecuteTime": {
     "end_time": "2021-12-06T12:58:59.584508Z",
     "start_time": "2021-12-06T12:58:57.842220Z"
    }
   },
   "outputs": [
    {
     "name": "stdout",
     "output_type": "stream",
     "text": [
      "+--------------------+------+\n",
      "|            features|labels|\n",
      "+--------------------+------+\n",
      "|[0.0, 0.0, 0.0, 0...|[1, 0]|\n",
      "|[0.0, 0.0, 0.0, 0...|[0, 1]|\n",
      "|[0.0, 0.0, 0.0, 0...|[1, 0]|\n",
      "|[0.0, 0.0, 0.0, 1...|[1, 0]|\n",
      "|[0.0, 0.0, 1.0, 0...|[1, 0]|\n",
      "|[0.0, 0.0, 0.0, 0...|[1, 0]|\n",
      "|[0.0, 0.0, 0.0, 0...|[1, 0]|\n",
      "|[0.0, 0.0, 0.0, 0...|[0, 1]|\n",
      "|[0.0, 0.0, 0.0, 0...|[1, 0]|\n",
      "|[0.0, 0.0, 0.0, 0...|[1, 0]|\n",
      "|[0.0, 0.0, 0.0, 1...|[1, 0]|\n",
      "|[0.0, 0.0, 0.0, 0...|[1, 0]|\n",
      "|[0.0, 0.0, 0.0, 0...|[1, 0]|\n",
      "|[0.0, 0.0, 0.0, 0...|[1, 0]|\n",
      "|[0.0, 0.0, 0.0, 0...|[1, 0]|\n",
      "|[0.0, 0.0, 0.0, 0...|[1, 0]|\n",
      "|[0.0, 0.0, 1.0, 0...|[1, 0]|\n",
      "|[0.0, 0.0, 0.0, 0...|[1, 0]|\n",
      "|[0.0, 0.0, 1.0, 0...|[1, 0]|\n",
      "|[0.0, 0.0, 0.0, 0...|[1, 0]|\n",
      "+--------------------+------+\n",
      "only showing top 20 rows\n",
      "\n"
     ]
    }
   ],
   "source": [
    "train_df = spark.read.parquet(work_dir+\"limit/criteo/train.parquet\")\n",
    "train_df.show()"
   ]
  },
  {
   "cell_type": "code",
   "execution_count": 12,
   "id": "da8b7041",
   "metadata": {
    "ExecuteTime": {
     "end_time": "2021-12-06T13:04:42.728195Z",
     "start_time": "2021-12-06T13:04:41.002285Z"
    }
   },
   "outputs": [
    {
     "name": "stdout",
     "output_type": "stream",
     "text": [
      "(10, 1, 7306)\n",
      "(10, 1, 2)\n"
     ]
    }
   ],
   "source": [
    "ms = am.model_selection\n",
    "train_x = np.array(train_df.select(ms.feature_cols).head(10))\n",
    "train_y = np.array(train_df.select(ms.label_cols).head(10))\n",
    "print(train_x.shape)\n",
    "print(train_y.shape)"
   ]
  },
  {
   "cell_type": "code",
   "execution_count": 3,
   "id": "cd5c232b",
   "metadata": {
    "ExecuteTime": {
     "end_time": "2021-12-06T12:41:55.160885Z",
     "start_time": "2021-12-06T12:40:55.566713Z"
    }
   },
   "outputs": [
    {
     "name": "stderr",
     "output_type": "stream",
     "text": [
      "/usr/local/lib/python3.6/dist-packages/petastorm/reader.py:487: UserWarning: No matching data is available for loading after rowgroup selector were applied and the data was sharded.\n",
      "  warnings.warn('No matching data is available for loading after rowgroup '\n"
     ]
    }
   ],
   "source": [
    "ms = am.model_selection\n",
    "\n",
    "_, _, metadata, _ = ms.backend.get_metadata_from_parquet(ms.store, ms.label_cols, ms.feature_cols)\n",
    "ms.backend.initialize_workers()\n",
    "ms.backend.initialize_data_loaders(ms.store, None, ms.feature_cols + ms.label_cols)\n",
    "train_reader, val_reader = ms.backend.data_readers_fn(40)"
   ]
  },
  {
   "cell_type": "code",
   "execution_count": 4,
   "id": "a9d9ebde",
   "metadata": {
    "ExecuteTime": {
     "end_time": "2021-12-06T12:42:26.879891Z",
     "start_time": "2021-12-06T12:42:26.580118Z"
    }
   },
   "outputs": [],
   "source": [
    "from petastorm.tf_utils import make_petastorm_dataset\n",
    "dataset = make_petastorm_dataset(train_reader)#.unbatch()"
   ]
  },
  {
   "cell_type": "code",
   "execution_count": 10,
   "id": "ffe49a10",
   "metadata": {
    "ExecuteTime": {
     "end_time": "2021-12-06T12:48:47.417055Z",
     "start_time": "2021-12-06T12:48:47.414036Z"
    }
   },
   "outputs": [],
   "source": [
    "dataset = dataset.repeat(10)"
   ]
  },
  {
   "cell_type": "code",
   "execution_count": 3,
   "id": "523e3268",
   "metadata": {
    "ExecuteTime": {
     "end_time": "2021-12-06T12:54:53.592501Z",
     "start_time": "2021-12-06T12:54:51.914014Z"
    }
   },
   "outputs": [],
   "source": [
    "df = spark.read.parquet('/var/nfs/test/intermediate_train_data/part-00041-bcd97a35-79dc-4b42-bbdb-7165a94e9039-c000.snappy.parquet')"
   ]
  },
  {
   "cell_type": "code",
   "execution_count": 5,
   "id": "7de02088",
   "metadata": {
    "ExecuteTime": {
     "end_time": "2021-12-06T12:55:50.979300Z",
     "start_time": "2021-12-06T12:55:48.074668Z"
    }
   },
   "outputs": [
    {
     "name": "stdout",
     "output_type": "stream",
     "text": [
      "+--------------------+--------------------+\n",
      "|            features|              labels|\n",
      "+--------------------+--------------------+\n",
      "|[93 4E 55 4D 50 5...|[93 4E 55 4D 50 5...|\n",
      "|[93 4E 55 4D 50 5...|[93 4E 55 4D 50 5...|\n",
      "|[93 4E 55 4D 50 5...|[93 4E 55 4D 50 5...|\n",
      "|[93 4E 55 4D 50 5...|[93 4E 55 4D 50 5...|\n",
      "|[93 4E 55 4D 50 5...|[93 4E 55 4D 50 5...|\n",
      "|[93 4E 55 4D 50 5...|[93 4E 55 4D 50 5...|\n",
      "|[93 4E 55 4D 50 5...|[93 4E 55 4D 50 5...|\n",
      "|[93 4E 55 4D 50 5...|[93 4E 55 4D 50 5...|\n",
      "|[93 4E 55 4D 50 5...|[93 4E 55 4D 50 5...|\n",
      "|[93 4E 55 4D 50 5...|[93 4E 55 4D 50 5...|\n",
      "|[93 4E 55 4D 50 5...|[93 4E 55 4D 50 5...|\n",
      "|[93 4E 55 4D 50 5...|[93 4E 55 4D 50 5...|\n",
      "|[93 4E 55 4D 50 5...|[93 4E 55 4D 50 5...|\n",
      "|[93 4E 55 4D 50 5...|[93 4E 55 4D 50 5...|\n",
      "|[93 4E 55 4D 50 5...|[93 4E 55 4D 50 5...|\n",
      "|[93 4E 55 4D 50 5...|[93 4E 55 4D 50 5...|\n",
      "|[93 4E 55 4D 50 5...|[93 4E 55 4D 50 5...|\n",
      "|[93 4E 55 4D 50 5...|[93 4E 55 4D 50 5...|\n",
      "|[93 4E 55 4D 50 5...|[93 4E 55 4D 50 5...|\n",
      "|[93 4E 55 4D 50 5...|[93 4E 55 4D 50 5...|\n",
      "+--------------------+--------------------+\n",
      "only showing top 20 rows\n",
      "\n"
     ]
    }
   ],
   "source": [
    "df = df.limit(100)\n",
    "df.show()"
   ]
  },
  {
   "cell_type": "code",
   "execution_count": 19,
   "id": "dc8f932b",
   "metadata": {
    "ExecuteTime": {
     "end_time": "2021-12-06T12:52:24.857299Z",
     "start_time": "2021-12-06T12:52:24.459991Z"
    }
   },
   "outputs": [
    {
     "data": {
      "text/html": [
       "<div>\n",
       "<style scoped>\n",
       "    .dataframe tbody tr th:only-of-type {\n",
       "        vertical-align: middle;\n",
       "    }\n",
       "\n",
       "    .dataframe tbody tr th {\n",
       "        vertical-align: top;\n",
       "    }\n",
       "\n",
       "    .dataframe thead th {\n",
       "        text-align: right;\n",
       "    }\n",
       "</style>\n",
       "<table border=\"1\" class=\"dataframe\">\n",
       "  <thead>\n",
       "    <tr style=\"text-align: right;\">\n",
       "      <th></th>\n",
       "      <th>features</th>\n",
       "      <th>labels</th>\n",
       "    </tr>\n",
       "  </thead>\n",
       "  <tbody>\n",
       "    <tr>\n",
       "      <th>0</th>\n",
       "      <td>[147, 78, 85, 77, 80, 89, 1, 0, 118, 0, 123, 3...</td>\n",
       "      <td>[147, 78, 85, 77, 80, 89, 1, 0, 118, 0, 123, 3...</td>\n",
       "    </tr>\n",
       "  </tbody>\n",
       "</table>\n",
       "</div>"
      ],
      "text/plain": [
       "                                            features  \\\n",
       "0  [147, 78, 85, 77, 80, 89, 1, 0, 118, 0, 123, 3...   \n",
       "\n",
       "                                              labels  \n",
       "0  [147, 78, 85, 77, 80, 89, 1, 0, 118, 0, 123, 3...  "
      ]
     },
     "execution_count": 19,
     "metadata": {},
     "output_type": "execute_result"
    }
   ],
   "source": [
    "pddf = df.toPandas()\n",
    "pddf.head(1)"
   ]
  },
  {
   "cell_type": "code",
   "execution_count": 20,
   "id": "4e68fc75",
   "metadata": {
    "ExecuteTime": {
     "end_time": "2021-12-06T12:52:54.963511Z",
     "start_time": "2021-12-06T12:52:54.959573Z"
    }
   },
   "outputs": [
    {
     "data": {
      "text/plain": [
       "(100, 2)"
      ]
     },
     "execution_count": 20,
     "metadata": {},
     "output_type": "execute_result"
    }
   ],
   "source": [
    "npdf = np.array(pddf)\n",
    "npdf.shape"
   ]
  },
  {
   "cell_type": "code",
   "execution_count": null,
   "id": "c0b3bb21",
   "metadata": {},
   "outputs": [],
   "source": []
  }
 ],
 "metadata": {
  "kernelspec": {
   "display_name": "Python 3",
   "language": "python",
   "name": "python3"
  },
  "language_info": {
   "codemirror_mode": {
    "name": "ipython",
    "version": 3
   },
   "file_extension": ".py",
   "mimetype": "text/x-python",
   "name": "python",
   "nbconvert_exporter": "python",
   "pygments_lexer": "ipython3",
   "version": "3.6.9"
  }
 },
 "nbformat": 4,
 "nbformat_minor": 5
}
