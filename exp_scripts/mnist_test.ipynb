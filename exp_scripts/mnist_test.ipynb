{
 "cells": [
  {
   "cell_type": "code",
   "execution_count": 2,
   "id": "45ee794b",
   "metadata": {},
   "outputs": [
    {
     "name": "stdout",
     "output_type": "stream",
     "text": [
      "CEREBRO => Time: 2021-11-15 00:28:26, Running 1 Workers\n"
     ]
    }
   ],
   "source": [
    "from cerebro.backend import SparkBackend\n",
    "from cerebro.keras import SparkEstimator\n",
    "\n",
    "# datas storage for intermediate data and model artifacts.\n",
    "from cerebro.storage import LocalStore, HDFSStore\n",
    "\n",
    "# Model selection/AutoML methods.\n",
    "from cerebro.tune import GridSearch, RandomSearch, TPESearch\n",
    "\n",
    "# Utility functions for specifying the search space.\n",
    "from cerebro.tune import hp_choice, hp_uniform, hp_quniform, hp_loguniform, hp_qloguniform\n",
    "\n",
    "import tensorflow as tf\n",
    "from pyspark.sql import SparkSession\n",
    "import numpy as np\n",
    "\n",
    "\n",
    "spark = SparkSession \\\n",
    "    .builder \\\n",
    "    .appName(\"Cerebro Example\") \\\n",
    "    .getOrCreate()\n",
    "\n",
    "...\n",
    "work_dir = '/Users/zijian/Desktop/ucsd/cse234/project/cerebro-system/'\n",
    "backend = SparkBackend(spark_context=spark.sparkContext, num_workers=1)\n",
    "store = LocalStore(prefix_path=work_dir + 'test/')\n",
    "\n",
    "df = spark.read.csv(work_dir + \"Iris_clean.csv\", header=True)"
   ]
  },
  {
   "cell_type": "code",
   "execution_count": 3,
   "id": "4fcbb94b",
   "metadata": {},
   "outputs": [
    {
     "name": "stdout",
     "output_type": "stream",
     "text": [
      "+-------------+------------+-------------+------------+-------+\n",
      "|SepalLengthCm|SepalWidthCm|PetalLengthCm|PetalWidthCm|Species|\n",
      "+-------------+------------+-------------+------------+-------+\n",
      "|          5.1|         3.5|          1.4|         0.2|      0|\n",
      "|          4.9|         3.0|          1.4|         0.2|      0|\n",
      "|          4.7|         3.2|          1.3|         0.2|      0|\n",
      "|          4.6|         3.1|          1.5|         0.2|      0|\n",
      "|          5.0|         3.6|          1.4|         0.2|      0|\n",
      "|          5.4|         3.9|          1.7|         0.4|      0|\n",
      "|          4.6|         3.4|          1.4|         0.3|      0|\n",
      "|          5.0|         3.4|          1.5|         0.2|      0|\n",
      "|          4.4|         2.9|          1.4|         0.2|      0|\n",
      "|          4.9|         3.1|          1.5|         0.1|      0|\n",
      "|          5.4|         3.7|          1.5|         0.2|      0|\n",
      "|          4.8|         3.4|          1.6|         0.2|      0|\n",
      "|          4.8|         3.0|          1.4|         0.1|      0|\n",
      "|          4.3|         3.0|          1.1|         0.1|      0|\n",
      "|          5.8|         4.0|          1.2|         0.2|      0|\n",
      "|          5.7|         4.4|          1.5|         0.4|      0|\n",
      "|          5.4|         3.9|          1.3|         0.4|      0|\n",
      "|          5.1|         3.5|          1.4|         0.3|      0|\n",
      "|          5.7|         3.8|          1.7|         0.3|      0|\n",
      "|          5.1|         3.8|          1.5|         0.3|      0|\n",
      "+-------------+------------+-------------+------------+-------+\n",
      "only showing top 20 rows\n",
      "\n"
     ]
    }
   ],
   "source": [
    "df.show()"
   ]
  },
  {
   "cell_type": "code",
   "execution_count": null,
   "id": "cc3b5592",
   "metadata": {},
   "outputs": [],
   "source": [
    "train_df, test_df = df.randomSplit([0.8, 0.2])\n"
   ]
  },
  {
   "cell_type": "code",
   "execution_count": null,
   "id": "ca4eea47",
   "metadata": {},
   "outputs": [],
   "source": []
  }
 ],
 "metadata": {
  "kernelspec": {
   "display_name": "Python 3 (ipykernel)",
   "language": "python",
   "name": "python3"
  },
  "language_info": {
   "codemirror_mode": {
    "name": "ipython",
    "version": 3
   },
   "file_extension": ".py",
   "mimetype": "text/x-python",
   "name": "python",
   "nbconvert_exporter": "python",
   "pygments_lexer": "ipython3",
   "version": "3.7.11"
  }
 },
 "nbformat": 4,
 "nbformat_minor": 5
}
