{
 "cells": [
  {
   "cell_type": "code",
   "execution_count": 6,
   "id": "65d1a1e8",
   "metadata": {},
   "outputs": [
    {
     "name": "stdout",
     "output_type": "stream",
     "text": [
      "CEREBRO => Time: 2021-11-29 02:59:30, Running 1 Workers\n"
     ]
    },
    {
     "name": "stderr",
     "output_type": "stream",
     "text": [
      "                                                                                \r"
     ]
    },
    {
     "name": "stdout",
     "output_type": "stream",
     "text": [
      "+-----+--------------------+--------------+\n",
      "|label|            features|     label_OHE|\n",
      "+-----+--------------------+--------------+\n",
      "|  5.0|(784,[152,153,154...|(10,[5],[1.0])|\n",
      "|  0.0|(784,[127,128,129...|(10,[0],[1.0])|\n",
      "|  4.0|(784,[160,161,162...|(10,[4],[1.0])|\n",
      "|  1.0|(784,[158,159,160...|(10,[1],[1.0])|\n",
      "|  9.0|(784,[208,209,210...|(10,[9],[1.0])|\n",
      "|  2.0|(784,[155,156,157...|(10,[2],[1.0])|\n",
      "|  1.0|(784,[124,125,126...|(10,[1],[1.0])|\n",
      "|  3.0|(784,[151,152,153...|(10,[3],[1.0])|\n",
      "|  1.0|(784,[152,153,154...|(10,[1],[1.0])|\n",
      "|  4.0|(784,[134,135,161...|(10,[4],[1.0])|\n",
      "|  3.0|(784,[123,124,125...|(10,[3],[1.0])|\n",
      "|  5.0|(784,[216,217,218...|(10,[5],[1.0])|\n",
      "|  3.0|(784,[143,144,145...|(10,[3],[1.0])|\n",
      "|  6.0|(784,[72,73,74,99...|(10,[6],[1.0])|\n",
      "|  1.0|(784,[151,152,153...|(10,[1],[1.0])|\n",
      "|  7.0|(784,[211,212,213...|(10,[7],[1.0])|\n",
      "|  2.0|(784,[151,152,153...|(10,[2],[1.0])|\n",
      "|  8.0|(784,[159,160,161...|(10,[8],[1.0])|\n",
      "|  6.0|(784,[100,101,102...|(10,[6],[1.0])|\n",
      "|  9.0|(784,[209,210,211...|(10,[9],[1.0])|\n",
      "+-----+--------------------+--------------+\n",
      "only showing top 20 rows\n",
      "\n"
     ]
    }
   ],
   "source": [
    "from cerebro.backend import SparkBackend\n",
    "from cerebro.keras import SparkEstimator\n",
    "\n",
    "# datas storage for intermediate data and model artifacts.\n",
    "from cerebro.storage import LocalStore, HDFSStore\n",
    "\n",
    "# Model selection/AutoML methods.\n",
    "from cerebro.tune import GridSearch, RandomSearch, TPESearch\n",
    "\n",
    "# Utility functions for specifying the search space.\n",
    "from cerebro.tune import hp_choice, hp_uniform, hp_quniform, hp_loguniform, hp_qloguniform\n",
    "\n",
    "import tensorflow as tf\n",
    "from pyspark.sql import SparkSession\n",
    "import numpy as np\n",
    "\n",
    "\n",
    "spark = SparkSession \\\n",
    "    .builder \\\n",
    "    .appName(\"Cerebro Example\") \\\n",
    "    .getOrCreate()\n",
    "\n",
    "...\n",
    "work_dir = '/Users/zijian/Desktop/ucsd/cse234/project/cerebro-system/'\n",
    "backend = SparkBackend(spark_context=spark.sparkContext, num_workers=1)\n",
    "store = LocalStore(prefix_path=work_dir + 'test/')\n",
    "\n",
    "df = spark.read.format(\"libsvm\") \\\n",
    "    .option(\"numFeatures\", \"784\") \\\n",
    "    .load(\"/Users/zijian/Desktop/ucsd/cse234/project/mnist/mnist.scale\") \\\n",
    "\n",
    "from pyspark.ml.feature import OneHotEncoderEstimator\n",
    "\n",
    "encoder = OneHotEncoderEstimator(dropLast=False)\n",
    "encoder.setInputCols([\"label\"])\n",
    "encoder.setOutputCols([\"label_OHE\"])\n",
    "\n",
    "encoder_model = encoder.fit(df)\n",
    "encoded = encoder_model.transform(df)\n",
    "\n",
    "feature_columns=['features']\n",
    "label_columns=['label_OHE']\n",
    "\n",
    "encoded.show()\n",
    "train_df, test_df = encoded.randomSplit([0.8, 0.2], 100)"
   ]
  },
  {
   "cell_type": "code",
   "execution_count": 1,
   "id": "1d286e94",
   "metadata": {},
   "outputs": [
    {
     "name": "stdout",
     "output_type": "stream",
     "text": [
      "(60000, 28, 28, 1)\n",
      "(60000, 10)\n"
     ]
    }
   ],
   "source": [
    "import autokeras as ak\n",
    "import numpy as np\n",
    "import tensorflow as tf\n",
    "from tensorflow import keras\n",
    "from tensorflow.keras.datasets import mnist\n",
    "from keras_tuner.engine import hyperparameters\n",
    "\n",
    "num_classes = 10\n",
    "(x_train, y_train), (x_test, y_test) = mnist.load_data()\n",
    "x_train = x_train / 255\n",
    "x_test = x_test / 255\n",
    "\n",
    "x_train = np.expand_dims(x_train, -1)\n",
    "x_test = np.expand_dims(x_test, -1)\n",
    "y_train = keras.utils.to_categorical(y_train, num_classes)\n",
    "y_test = keras.utils.to_categorical(y_test, num_classes)\n",
    "print(x_train.shape)  # (60000, 28, 28, 1)\n",
    "print(y_train.shape)  # (60000, 10)\n",
    "\n",
    "# input_node = ak.ImageInput()\n",
    "# output_node = ak.ImageBlock(\n",
    "#     # Only search ResNet architectures.\n",
    "#     block_type=\"resnet\",\n",
    "#     # Normalize the dataset.\n",
    "#     normalize=True,\n",
    "#     # Do not do data augmentation.\n",
    "#     augment=False,\n",
    "# )(input_node)\n",
    "# output_node = ak.ClassificationHead()(output_node)\n",
    "\n",
    "input_node = ak.ImageInput()\n",
    "output_node = ak.ConvBlock(\n",
    "    kernel_size=hyperparameters.Fixed('kernel_size', value=3),\n",
    "    num_blocks=hyperparameters.Fixed('num_blocks', value=1),\n",
    "    num_layers=hyperparameters.Fixed('num_layers', value=3),\n",
    ")(input_node)\n",
    "output_node = ak.ClassificationHead()(output_node)\n",
    "\n",
    "clf = ak.AutoModel(\n",
    "    inputs=input_node, outputs=output_node, overwrite=True, max_trials=16, seed=2000\n",
    ")"
   ]
  },
  {
   "cell_type": "code",
   "execution_count": 2,
   "id": "b558206f",
   "metadata": {},
   "outputs": [
    {
     "name": "stderr",
     "output_type": "stream",
     "text": [
      "2021-11-29 07:30:07.565401: I tensorflow/compiler/jit/xla_cpu_device.cc:41] Not creating XLA devices, tf_xla_enable_xla_devices not set\n",
      "2021-11-29 07:30:07.565956: I tensorflow/core/platform/cpu_feature_guard.cc:142] This TensorFlow binary is optimized with oneAPI Deep Neural Network Library (oneDNN) to use the following CPU instructions in performance-critical operations:  AVX2 FMA\n",
      "To enable them in other operations, rebuild TensorFlow with the appropriate compiler flags.\n"
     ]
    }
   ],
   "source": [
    "dataset, validation_data = clf._convert_to_dataset(\n",
    "    x=x_train, y=y_train, validation_data=None, batch_size=64\n",
    ")\n",
    "\n",
    "clf._analyze_data(dataset)\n",
    "clf._build_hyper_pipeline(dataset)\n",
    "\n",
    "clf.tuner.hyper_pipeline.outputs = [[]]"
   ]
  },
  {
   "cell_type": "code",
   "execution_count": 3,
   "id": "3036706d",
   "metadata": {},
   "outputs": [
    {
     "name": "stdout",
     "output_type": "stream",
     "text": [
      "Trial 1 Complete [00h 00m 53s]\n",
      "val_loss: 0.6419660449028015\n",
      "\n",
      "Best val_loss So Far: 0.6419660449028015\n",
      "Total elapsed time: 00h 00m 53s\n",
      "INFO:tensorflow:Oracle triggered exit\n",
      "938/938 [==============================] - 64s 68ms/step - loss: 1.7050 - accuracy: 0.4011\n"
     ]
    },
    {
     "name": "stderr",
     "output_type": "stream",
     "text": [
      "2021-11-29 07:07:04.227290: W tensorflow/python/util/util.cc:348] Sets are not currently considered sequences, but this may change in the future, so consider avoiding using them.\n"
     ]
    },
    {
     "name": "stdout",
     "output_type": "stream",
     "text": [
      "INFO:tensorflow:Assets written to: ./auto_model/best_model/assets\n"
     ]
    }
   ],
   "source": [
    "from autokeras.utils import data_utils\n",
    "dataset, validation_data = data_utils.split_dataset(\n",
    "    dataset, 0.2\n",
    ")\n",
    "history = clf.tuner.search(\n",
    "    x=dataset,\n",
    "    epochs=1,\n",
    "    callbacks=None,\n",
    "    validation_data=validation_data,\n",
    "    validation_split=0.2,\n",
    "    verbose=1,\n",
    ")"
   ]
  },
  {
   "cell_type": "code",
   "execution_count": 29,
   "id": "777d66bd",
   "metadata": {},
   "outputs": [
    {
     "data": {
      "text/plain": [
       "{'e46dfdf2c7c0369943e1fcf59cc72118': {'val_loss': [{'value': [0.6419660449028015],\n",
       "    'step': 0}],\n",
       "  'val_accuracy': [{'value': [0.8532171845436096], 'step': 0}]}}"
      ]
     },
     "execution_count": 29,
     "metadata": {},
     "output_type": "execute_result"
    }
   ],
   "source": [
    "trial_rels = {}\n",
    "for tid in clf.tuner.oracle.trials:\n",
    "    m = clf.tuner.oracle.trials[tid].get_state()['metrics']['metrics']\n",
    "    trial_rels[tid] = {}\n",
    "    trial_rels[tid]['val_loss'] = m['val_loss']['observations']\n",
    "    trial_rels[tid]['val_accuracy'] = m['val_accuracy']['observations']\n",
    "\n",
    "trial_rels"
   ]
  },
  {
   "cell_type": "code",
   "execution_count": 18,
   "id": "8598c052",
   "metadata": {},
   "outputs": [
    {
     "name": "stdout",
     "output_type": "stream",
     "text": [
      "Results summary\n",
      "Results in ./auto_model\n",
      "Showing 10 best trials\n",
      "Objective(name='val_loss', direction='min')\n",
      "Trial summary\n",
      "Hyperparameters:\n",
      "conv_block_1/kernel_size: 3\n",
      "conv_block_1/separable: False\n",
      "conv_block_1/max_pooling: True\n",
      "conv_block_1/dropout: 0\n",
      "conv_block_1/num_blocks: 1\n",
      "conv_block_1/num_layers: 3\n",
      "conv_block_1/filters_0_0: 32\n",
      "conv_block_1/filters_0_1: 32\n",
      "conv_block_1/filters_0_2: 32\n",
      "classification_head_1/spatial_reduction_1/reduction_type: global_max\n",
      "classification_head_1/dropout: 0.5\n",
      "optimizer: adam\n",
      "learning_rate: 0.001\n",
      "Score: 0.6419660449028015\n"
     ]
    }
   ],
   "source": [
    "clf.tuner.results_summary()"
   ]
  },
  {
   "cell_type": "code",
   "execution_count": 10,
   "id": "bfdec494",
   "metadata": {},
   "outputs": [],
   "source": [
    "model = clf.tuner.get_best_model()"
   ]
  },
  {
   "cell_type": "code",
   "execution_count": 11,
   "id": "e8e60f2f",
   "metadata": {},
   "outputs": [
    {
     "name": "stdout",
     "output_type": "stream",
     "text": [
      "Model: \"model\"\n",
      "_________________________________________________________________\n",
      "Layer (type)                 Output Shape              Param #   \n",
      "=================================================================\n",
      "input_1 (InputLayer)         [(None, 28, 28, 1)]       0         \n",
      "_________________________________________________________________\n",
      "cast_to_float32 (CastToFloat (None, 28, 28, 1)         0         \n",
      "_________________________________________________________________\n",
      "conv2d (Conv2D)              (None, 26, 26, 32)        320       \n",
      "_________________________________________________________________\n",
      "conv2d_1 (Conv2D)            (None, 24, 24, 32)        9248      \n",
      "_________________________________________________________________\n",
      "conv2d_2 (Conv2D)            (None, 22, 22, 32)        9248      \n",
      "_________________________________________________________________\n",
      "max_pooling2d (MaxPooling2D) (None, 11, 11, 32)        0         \n",
      "_________________________________________________________________\n",
      "flatten (Flatten)            (None, 3872)              0         \n",
      "_________________________________________________________________\n",
      "dropout (Dropout)            (None, 3872)              0         \n",
      "_________________________________________________________________\n",
      "dense (Dense)                (None, 10)                38730     \n",
      "_________________________________________________________________\n",
      "classification_head_1 (Softm (None, 10)                0         \n",
      "=================================================================\n",
      "Total params: 57,546\n",
      "Trainable params: 57,546\n",
      "Non-trainable params: 0\n",
      "_________________________________________________________________\n"
     ]
    }
   ],
   "source": [
    "model.summary()"
   ]
  },
  {
   "cell_type": "code",
   "execution_count": 12,
   "id": "27aef0c8",
   "metadata": {},
   "outputs": [],
   "source": [
    "trial = clf.tuner.oracle.get_best_trials(1)[0]\n",
    "hps = trial.hyperparameters"
   ]
  },
  {
   "cell_type": "code",
   "execution_count": 13,
   "id": "09b2d7df",
   "metadata": {},
   "outputs": [
    {
     "data": {
      "text/plain": [
       "{'conv_block_1/kernel_size': 3,\n",
       " 'conv_block_1/separable': False,\n",
       " 'conv_block_1/max_pooling': True,\n",
       " 'conv_block_1/dropout': 0,\n",
       " 'conv_block_1/num_blocks': 1,\n",
       " 'conv_block_1/num_layers': 3,\n",
       " 'conv_block_1/filters_0_0': 32,\n",
       " 'conv_block_1/filters_0_1': 32,\n",
       " 'conv_block_1/filters_0_2': 32,\n",
       " 'classification_head_1/spatial_reduction_1/reduction_type': 'flatten',\n",
       " 'classification_head_1/dropout': 0.5,\n",
       " 'optimizer': 'adam',\n",
       " 'learning_rate': 0.001}"
      ]
     },
     "execution_count": 13,
     "metadata": {},
     "output_type": "execute_result"
    }
   ],
   "source": [
    "hps.values"
   ]
  },
  {
   "cell_type": "code",
   "execution_count": 14,
   "id": "cd21e437",
   "metadata": {},
   "outputs": [
    {
     "data": {
      "text/plain": [
       "[[]]"
      ]
     },
     "execution_count": 14,
     "metadata": {},
     "output_type": "execute_result"
    }
   ],
   "source": [
    "clf.tuner.hyper_pipeline.inputs"
   ]
  },
  {
   "cell_type": "code",
   "execution_count": 16,
   "id": "94527431",
   "metadata": {},
   "outputs": [
    {
     "data": {
      "text/plain": [
       "[[]]"
      ]
     },
     "execution_count": 16,
     "metadata": {},
     "output_type": "execute_result"
    }
   ],
   "source": [
    "clf.tuner.hyper_pipeline.outputs"
   ]
  },
  {
   "cell_type": "code",
   "execution_count": 18,
   "id": "5732f4b3",
   "metadata": {},
   "outputs": [
    {
     "data": {
      "text/plain": [
       "{'classification_head_1': <tensorflow.python.keras.losses.CategoricalCrossentropy at 0x17ec71e10>}"
      ]
     },
     "execution_count": 18,
     "metadata": {},
     "output_type": "execute_result"
    }
   ],
   "source": [
    "clf.tuner.hypermodel.hypermodel._get_loss()"
   ]
  },
  {
   "cell_type": "code",
   "execution_count": 5,
   "id": "e9e04012",
   "metadata": {
    "scrolled": true
   },
   "outputs": [
    {
     "data": {
      "text/plain": [
       "array([[[0.57051729, 0.56452876],\n",
       "        [0.48844183, 0.33647775],\n",
       "        [0.37586818, 0.53203587],\n",
       "        [0.06810629, 0.58452906],\n",
       "        [0.23789776, 0.16075658]],\n",
       "\n",
       "       [[0.15211915, 0.12706922],\n",
       "        [0.32744117, 0.69415387],\n",
       "        [0.35896647, 0.89136566],\n",
       "        [0.20187988, 0.1106025 ],\n",
       "        [0.52755676, 0.86765533]],\n",
       "\n",
       "       [[0.26187438, 0.49939512],\n",
       "        [0.4285644 , 0.53000389],\n",
       "        [0.57394682, 0.39185565],\n",
       "        [0.07951412, 0.86728101],\n",
       "        [0.16450358, 0.80348162]],\n",
       "\n",
       "       [[0.28792825, 0.26857118],\n",
       "        [0.71747802, 0.88140566],\n",
       "        [0.99212003, 0.45835004],\n",
       "        [0.78512927, 0.73869394],\n",
       "        [0.47358298, 0.48483471]],\n",
       "\n",
       "       [[0.9330051 , 0.75265384],\n",
       "        [0.15928883, 0.13481047],\n",
       "        [0.41067717, 0.75653626],\n",
       "        [0.21251302, 0.3140294 ],\n",
       "        [0.20127344, 0.9384252 ]],\n",
       "\n",
       "       [[0.50441484, 0.60373145],\n",
       "        [0.83754858, 0.61018246],\n",
       "        [0.73557276, 0.40976613],\n",
       "        [0.48964001, 0.50892452],\n",
       "        [0.50648231, 0.61834107]],\n",
       "\n",
       "       [[0.83460482, 0.58656538],\n",
       "        [0.02130739, 0.73562336],\n",
       "        [0.92063366, 0.75567722],\n",
       "        [0.28475578, 0.94959902],\n",
       "        [0.83988285, 0.81495   ]],\n",
       "\n",
       "       [[0.74367777, 0.91486937],\n",
       "        [0.89623398, 0.12040382],\n",
       "        [0.37456516, 0.26368519],\n",
       "        [0.32138287, 0.72696673],\n",
       "        [0.73794745, 0.46440794]],\n",
       "\n",
       "       [[0.76403764, 0.24170062],\n",
       "        [0.90399917, 0.57160622],\n",
       "        [0.31328154, 0.02360176],\n",
       "        [0.52005206, 0.58040136],\n",
       "        [0.12832699, 0.7673183 ]],\n",
       "\n",
       "       [[0.96147479, 0.17690117],\n",
       "        [0.84649637, 0.88802101],\n",
       "        [0.2626636 , 0.99271518],\n",
       "        [0.59237773, 0.34853523],\n",
       "        [0.48862579, 0.56752795]],\n",
       "\n",
       "       [[0.82180096, 0.75109076],\n",
       "        [0.60918528, 0.48334332],\n",
       "        [0.82159952, 0.91230956],\n",
       "        [0.12499406, 0.9568696 ],\n",
       "        [0.74661374, 0.38838035]],\n",
       "\n",
       "       [[0.98139466, 0.47444091],\n",
       "        [0.17500909, 0.51420927],\n",
       "        [0.8747295 , 0.7627396 ],\n",
       "        [0.47712854, 0.01045712],\n",
       "        [0.16543789, 0.32197994]],\n",
       "\n",
       "       [[0.27764773, 0.88184867],\n",
       "        [0.89047779, 0.99591981],\n",
       "        [0.62688948, 0.28744654],\n",
       "        [0.95697132, 0.51611634],\n",
       "        [0.52256995, 0.65125639]],\n",
       "\n",
       "       [[0.61718141, 0.43313116],\n",
       "        [0.53147447, 0.2896776 ],\n",
       "        [0.53153129, 0.75789778],\n",
       "        [0.00879266, 0.60410016],\n",
       "        [0.84273252, 0.97438304]],\n",
       "\n",
       "       [[0.78617769, 0.76345208],\n",
       "        [0.46477077, 0.68177535],\n",
       "        [0.8071098 , 0.60087087],\n",
       "        [0.91574473, 0.50599257],\n",
       "        [0.2866647 , 0.79884891]],\n",
       "\n",
       "       [[0.37049967, 0.56940665],\n",
       "        [0.74109469, 0.34766497],\n",
       "        [0.69832043, 0.74376553],\n",
       "        [0.72790456, 0.90164891],\n",
       "        [0.8765491 , 0.56198546]]])"
      ]
     },
     "execution_count": 5,
     "metadata": {},
     "output_type": "execute_result"
    }
   ],
   "source": [
    "rel = np.random.rand(16,5,2)\n",
    "rel"
   ]
  },
  {
   "cell_type": "code",
   "execution_count": 7,
   "id": "d094b5e4",
   "metadata": {
    "scrolled": true
   },
   "outputs": [
    {
     "data": {
      "text/plain": [
       "array([[[[0.57051729, 0.56452876],\n",
       "         [0.48844183, 0.33647775],\n",
       "         [0.37586818, 0.53203587],\n",
       "         [0.06810629, 0.58452906],\n",
       "         [0.23789776, 0.16075658]],\n",
       "\n",
       "        [[0.15211915, 0.12706922],\n",
       "         [0.32744117, 0.69415387],\n",
       "         [0.35896647, 0.89136566],\n",
       "         [0.20187988, 0.1106025 ],\n",
       "         [0.52755676, 0.86765533]],\n",
       "\n",
       "        [[0.26187438, 0.49939512],\n",
       "         [0.4285644 , 0.53000389],\n",
       "         [0.57394682, 0.39185565],\n",
       "         [0.07951412, 0.86728101],\n",
       "         [0.16450358, 0.80348162]],\n",
       "\n",
       "        [[0.28792825, 0.26857118],\n",
       "         [0.71747802, 0.88140566],\n",
       "         [0.99212003, 0.45835004],\n",
       "         [0.78512927, 0.73869394],\n",
       "         [0.47358298, 0.48483471]]],\n",
       "\n",
       "\n",
       "       [[[0.9330051 , 0.75265384],\n",
       "         [0.15928883, 0.13481047],\n",
       "         [0.41067717, 0.75653626],\n",
       "         [0.21251302, 0.3140294 ],\n",
       "         [0.20127344, 0.9384252 ]],\n",
       "\n",
       "        [[0.50441484, 0.60373145],\n",
       "         [0.83754858, 0.61018246],\n",
       "         [0.73557276, 0.40976613],\n",
       "         [0.48964001, 0.50892452],\n",
       "         [0.50648231, 0.61834107]],\n",
       "\n",
       "        [[0.83460482, 0.58656538],\n",
       "         [0.02130739, 0.73562336],\n",
       "         [0.92063366, 0.75567722],\n",
       "         [0.28475578, 0.94959902],\n",
       "         [0.83988285, 0.81495   ]],\n",
       "\n",
       "        [[0.74367777, 0.91486937],\n",
       "         [0.89623398, 0.12040382],\n",
       "         [0.37456516, 0.26368519],\n",
       "         [0.32138287, 0.72696673],\n",
       "         [0.73794745, 0.46440794]]],\n",
       "\n",
       "\n",
       "       [[[0.76403764, 0.24170062],\n",
       "         [0.90399917, 0.57160622],\n",
       "         [0.31328154, 0.02360176],\n",
       "         [0.52005206, 0.58040136],\n",
       "         [0.12832699, 0.7673183 ]],\n",
       "\n",
       "        [[0.96147479, 0.17690117],\n",
       "         [0.84649637, 0.88802101],\n",
       "         [0.2626636 , 0.99271518],\n",
       "         [0.59237773, 0.34853523],\n",
       "         [0.48862579, 0.56752795]],\n",
       "\n",
       "        [[0.82180096, 0.75109076],\n",
       "         [0.60918528, 0.48334332],\n",
       "         [0.82159952, 0.91230956],\n",
       "         [0.12499406, 0.9568696 ],\n",
       "         [0.74661374, 0.38838035]],\n",
       "\n",
       "        [[0.98139466, 0.47444091],\n",
       "         [0.17500909, 0.51420927],\n",
       "         [0.8747295 , 0.7627396 ],\n",
       "         [0.47712854, 0.01045712],\n",
       "         [0.16543789, 0.32197994]]],\n",
       "\n",
       "\n",
       "       [[[0.27764773, 0.88184867],\n",
       "         [0.89047779, 0.99591981],\n",
       "         [0.62688948, 0.28744654],\n",
       "         [0.95697132, 0.51611634],\n",
       "         [0.52256995, 0.65125639]],\n",
       "\n",
       "        [[0.61718141, 0.43313116],\n",
       "         [0.53147447, 0.2896776 ],\n",
       "         [0.53153129, 0.75789778],\n",
       "         [0.00879266, 0.60410016],\n",
       "         [0.84273252, 0.97438304]],\n",
       "\n",
       "        [[0.78617769, 0.76345208],\n",
       "         [0.46477077, 0.68177535],\n",
       "         [0.8071098 , 0.60087087],\n",
       "         [0.91574473, 0.50599257],\n",
       "         [0.2866647 , 0.79884891]],\n",
       "\n",
       "        [[0.37049967, 0.56940665],\n",
       "         [0.74109469, 0.34766497],\n",
       "         [0.69832043, 0.74376553],\n",
       "         [0.72790456, 0.90164891],\n",
       "         [0.8765491 , 0.56198546]]]])"
      ]
     },
     "execution_count": 7,
     "metadata": {},
     "output_type": "execute_result"
    }
   ],
   "source": [
    "rel = rel.reshape(4,4,5,2)\n",
    "rel"
   ]
  },
  {
   "cell_type": "code",
   "execution_count": 10,
   "id": "707ee9f6",
   "metadata": {},
   "outputs": [
    {
     "data": {
      "text/plain": [
       "array([[0.15211915, 0.32744117, 0.35896647, 0.06810629, 0.16450358],\n",
       "       [0.50441484, 0.02130739, 0.37456516, 0.21251302, 0.20127344],\n",
       "       [0.76403764, 0.17500909, 0.2626636 , 0.12499406, 0.12832699],\n",
       "       [0.27764773, 0.46477077, 0.53153129, 0.00879266, 0.2866647 ]])"
      ]
     },
     "execution_count": 10,
     "metadata": {},
     "output_type": "execute_result"
    }
   ],
   "source": [
    "np.min(rel[...,0], axis=1)"
   ]
  },
  {
   "cell_type": "code",
   "execution_count": 11,
   "id": "ee69e85c",
   "metadata": {},
   "outputs": [
    {
     "ename": "ModuleNotFoundError",
     "evalue": "No module named 'matplotlib'",
     "output_type": "error",
     "traceback": [
      "\u001b[0;31m---------------------------------------------------------------------------\u001b[0m",
      "\u001b[0;31mModuleNotFoundError\u001b[0m                       Traceback (most recent call last)",
      "\u001b[0;32m/var/folders/dg/4jghvsmd1dl77gj1fqmzzf_80000gn/T/ipykernel_91354/322768712.py\u001b[0m in \u001b[0;36m<module>\u001b[0;34m\u001b[0m\n\u001b[0;32m----> 1\u001b[0;31m \u001b[0;32mimport\u001b[0m \u001b[0mmatplotlib\u001b[0m\u001b[0;34m.\u001b[0m\u001b[0mpyplot\u001b[0m \u001b[0;32mas\u001b[0m \u001b[0mplt\u001b[0m\u001b[0;34m\u001b[0m\u001b[0;34m\u001b[0m\u001b[0m\n\u001b[0m",
      "\u001b[0;31mModuleNotFoundError\u001b[0m: No module named 'matplotlib'"
     ]
    }
   ],
   "source": [
    "import matplotlib.pyplot as plt"
   ]
  },
  {
   "cell_type": "code",
   "execution_count": null,
   "id": "adef920c",
   "metadata": {},
   "outputs": [],
   "source": [
    "from autokeras.utils import data_utils\n",
    "\n",
    "dataset, validation_data = data_utils.split_dataset(\n",
    "    dataset, 0.2\n",
    ")\n",
    "history = clf.tuner.search(\n",
    "    x=dataset,\n",
    "    epochs=5,\n",
    "    callbacks=None,\n",
    "    validation_data=validation_data,\n",
    "    validation_split=0.2,\n",
    "    verbose=1,\n",
    ")\n",
    "tuner = clf.tuner\n",
    "tuner.hypermodel.hypermodel.set_fit_args(validation_split, epochs=epochs)\n",
    "hp = tuner.oracle.get_space()\n",
    "tuner.hypermodel.hypermodel.set_io_shapes(data_utils.dataset_shape(dataset))\n",
    "tuner.hypermodel.build(hp)\n",
    "tuner.oracle.update_space(hp)\n",
    "\n",
    "trial_rels = []\n",
    "i = 0\n",
    "max_trial = 16\n",
    "ts = tuner.oracle.create_trials(max_trial, tuner.tuner_id)\n",
    "while i < max_trial:\n",
    "    trial = ts[i]\n",
    "    for lr in [0.01, 0.001]:\n",
    "        for bs in [64, 128]:\n",
    "            if i < max_trial:\n",
    "                tuner.hypermodel.hypermodel.set_io_shapes(data_utils.dataset_shape(dataset))\n",
    "                model = tuner.hypermodel.build(trial.hyperparameters)\n",
    "                tuner.adapt(model, dataset)\n",
    "                loss = 'categorical_crossentropy'\n",
    "                optimizer = tf.keras.optimizers.Adam(lr=lr)\n",
    "                model.compile(loss=loss, optimizer=optimizer, metrics=[\"accuracy\"])\n",
    "                hist = model.fit(x_train, y_train, batch_size=bs, epochs=5, validation_split=0.2)\n",
    "                trial_rels.append(hist)\n",
    "                print(trial.trial_id + str(i))\n",
    "                i = i + 1"
   ]
  }
 ],
 "metadata": {
  "kernelspec": {
   "display_name": "Python 3 (ipykernel)",
   "language": "python",
   "name": "python3"
  },
  "language_info": {
   "codemirror_mode": {
    "name": "ipython",
    "version": 3
   },
   "file_extension": ".py",
   "mimetype": "text/x-python",
   "name": "python",
   "nbconvert_exporter": "python",
   "pygments_lexer": "ipython3",
   "version": "3.7.6"
  }
 },
 "nbformat": 4,
 "nbformat_minor": 5
}
