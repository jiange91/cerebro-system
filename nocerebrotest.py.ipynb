{
 "cells": [
  {
   "cell_type": "code",
   "execution_count": 1,
   "id": "80199387",
   "metadata": {},
   "outputs": [],
   "source": [
    "import numpy as np\n",
    "import tensorflow as tf\n",
    "from tensorflow.keras.datasets import mnist\n",
    "from keras_tuner import HyperParameters\n",
    "\n",
    "import autokeras as ak"
   ]
  },
  {
   "cell_type": "code",
   "execution_count": 2,
   "id": "9fbf15c9",
   "metadata": {},
   "outputs": [],
   "source": [
    "from cerebro.nas.hphpmodel import HyperHyperModel"
   ]
  },
  {
   "cell_type": "code",
   "execution_count": 3,
   "id": "8ab20f44",
   "metadata": {},
   "outputs": [],
   "source": [
    "input_node = ak.ImageInput()\n",
    "output_node = ak.Normalization()(input_node)\n",
    "output_node1 = ak.ConvBlock()(output_node)\n",
    "output_node = ak.ClassificationHead(output_node1)\n",
    "\n",
    "am = HyperHyperModel(\n",
    "    inputs=input_node, outputs=output_node, overwrite=True, max_trials=1\n",
    ")"
   ]
  },
  {
   "cell_type": "code",
   "execution_count": 4,
   "id": "eb823d20",
   "metadata": {},
   "outputs": [
    {
     "data": {
      "text/plain": [
       "<autokeras.graph.Graph at 0x7fdf51451650>"
      ]
     },
     "execution_count": 4,
     "metadata": {},
     "output_type": "execute_result"
    }
   ],
   "source": [
    "am.graph"
   ]
  },
  {
   "cell_type": "code",
   "execution_count": 5,
   "id": "8ba76333",
   "metadata": {},
   "outputs": [
    {
     "name": "stderr",
     "output_type": "stream",
     "text": [
      "21/11/13 20:49:36 WARN NativeCodeLoader: Unable to load native-hadoop library for your platform... using builtin-java classes where applicable\n",
      "Using Spark's default log4j profile: org/apache/spark/log4j-defaults.properties\n",
      "Setting default log level to \"WARN\".\n",
      "To adjust logging level use sc.setLogLevel(newLevel). For SparkR, use setLogLevel(newLevel).\n"
     ]
    }
   ],
   "source": [
    "from pyspark.sql import SparkSession\n",
    "\n",
    "# Build the SparkSession\n",
    "spark = SparkSession.builder \\\n",
    "   .master(\"local\") \\\n",
    "   .appName(\"Linear Regression Model\") \\\n",
    "   .config(\"spark.executor.memory\", \"1gb\") \\\n",
    "   .getOrCreate()\n",
    "   \n",
    "sc = spark.sparkContext"
   ]
  },
  {
   "cell_type": "code",
   "execution_count": 6,
   "id": "2ce5b2c8",
   "metadata": {},
   "outputs": [
    {
     "name": "stdout",
     "output_type": "stream",
     "text": [
      "CEREBRO => Time: 2021-11-13 20:49:38, Running 1 Workers\n"
     ]
    }
   ],
   "source": [
    "from cerebro.backend import SparkBackend\n",
    "from cerebro.storage import LocalStore\n",
    "\n",
    "backend = SparkBackend(spark_context=sc, num_workers=1)\n",
    "store = LocalStore(prefix_path='/Users/zijian/Desktop/ucsd/cse234/project/cerebro-system/experiments')\n",
    "\n",
    "am.resource_bind(backend=backend, store=store)"
   ]
  },
  {
   "cell_type": "code",
   "execution_count": 7,
   "id": "b14ec3c3",
   "metadata": {},
   "outputs": [
    {
     "name": "stdout",
     "output_type": "stream",
     "text": [
      "INFO:tensorflow:Reloading Oracle from existing project ./test/oracle.json\n"
     ]
    }
   ],
   "source": [
    "# cus_hp = HyperParameters()\n",
    "# cus_hp.Fixed(\"learning_rate\", value=0.0001)\n",
    "# am.tuner_bind(\"hyperband\", hyperparameters=cus_hp)\n",
    "\n",
    "am.tuner_bind(\"gridsearch\", hyperparameters=None)"
   ]
  },
  {
   "cell_type": "code",
   "execution_count": 8,
   "id": "72a51fc0",
   "metadata": {},
   "outputs": [
    {
     "name": "stdout",
     "output_type": "stream",
     "text": [
      "Search space summary\n",
      "Default search space size: 16\n",
      "learning_rate (Fixed)\n",
      "{'conditions': [], 'value': 0.0001}\n",
      "conv_block_1/kernel_size (Choice)\n",
      "{'default': 3, 'conditions': [], 'values': [3, 5, 7], 'ordered': True}\n",
      "conv_block_1/separable (Boolean)\n",
      "{'default': False, 'conditions': []}\n",
      "conv_block_1/max_pooling (Boolean)\n",
      "{'default': True, 'conditions': []}\n",
      "conv_block_1/dropout (Choice)\n",
      "{'default': 0, 'conditions': [], 'values': [0.0, 0.25, 0.5], 'ordered': True}\n",
      "conv_block_1/num_blocks (Choice)\n",
      "{'default': 2, 'conditions': [], 'values': [1, 2, 3], 'ordered': True}\n",
      "conv_block_1/num_layers (Choice)\n",
      "{'default': 2, 'conditions': [], 'values': [1, 2], 'ordered': True}\n",
      "conv_block_1/filters_0_0 (Choice)\n",
      "{'default': 32, 'conditions': [], 'values': [16, 32, 64, 128, 256, 512], 'ordered': True}\n",
      "conv_block_1/filters_0_1 (Choice)\n",
      "{'default': 32, 'conditions': [], 'values': [16, 32, 64, 128, 256, 512], 'ordered': True}\n",
      "conv_block_1/filters_1_0 (Choice)\n",
      "{'default': 32, 'conditions': [], 'values': [16, 32, 64, 128, 256, 512], 'ordered': True}\n",
      "conv_block_1/filters_1_1 (Choice)\n",
      "{'default': 32, 'conditions': [], 'values': [16, 32, 64, 128, 256, 512], 'ordered': True}\n",
      "res_net_block_1/pretrained (Boolean)\n",
      "{'default': False, 'conditions': []}\n",
      "res_net_block_1/version (Choice)\n",
      "{'default': 'resnet50_v2', 'conditions': [], 'values': ['resnet50_v2', 'resnet101_v2', 'resnet152_v2'], 'ordered': False}\n",
      "res_net_block_1/imagenet_size (Boolean)\n",
      "{'default': False, 'conditions': []}\n",
      "classification_head_1/dropout (Choice)\n",
      "{'default': 0, 'conditions': [], 'values': [0.0, 0.25, 0.5], 'ordered': True}\n",
      "optimizer (Choice)\n",
      "{'default': 'adam', 'conditions': [], 'values': ['adam', 'sgd', 'adam_weight_decay'], 'ordered': False}\n"
     ]
    }
   ],
   "source": [
    "tuner = am.tuner\n",
    "\n",
    "tuner.search_space_summary()"
   ]
  },
  {
   "cell_type": "code",
   "execution_count": 10,
   "id": "ea9382ec",
   "metadata": {},
   "outputs": [],
   "source": [
    "(x_train, y_train), (x_test, y_test) = mnist.load_data()\n",
    "y_train = np.array(tf.one_hot(y_train, len(np.unique(y_train))))"
   ]
  },
  {
   "cell_type": "code",
   "execution_count": 11,
   "id": "4d2cb3e0",
   "metadata": {},
   "outputs": [
    {
     "name": "stdout",
     "output_type": "stream",
     "text": [
      "(60000, 28, 28)\n",
      "(60000, 10)\n"
     ]
    }
   ],
   "source": [
    "print(x_train.shape)\n",
    "print(y_train.shape)"
   ]
  },
  {
   "cell_type": "code",
   "execution_count": 12,
   "id": "751bec55",
   "metadata": {},
   "outputs": [],
   "source": [
    "am.test_tuner_space(x=x_train, y=y_train)"
   ]
  },
  {
   "cell_type": "code",
   "execution_count": 13,
   "id": "8e376005",
   "metadata": {},
   "outputs": [
    {
     "name": "stdout",
     "output_type": "stream",
     "text": [
      "Search space summary\n",
      "Default search space size: 23\n",
      "learning_rate (Fixed)\n",
      "{'conditions': [], 'value': 0.0001}\n",
      "conv_block_1/kernel_size (Choice)\n",
      "{'default': 3, 'conditions': [], 'values': [3, 5, 7], 'ordered': True}\n",
      "conv_block_1/separable (Boolean)\n",
      "{'default': False, 'conditions': []}\n",
      "conv_block_1/max_pooling (Boolean)\n",
      "{'default': True, 'conditions': []}\n",
      "conv_block_1/dropout (Choice)\n",
      "{'default': 0, 'conditions': [], 'values': [0.0, 0.25, 0.5], 'ordered': True}\n",
      "conv_block_1/num_blocks (Choice)\n",
      "{'default': 2, 'conditions': [], 'values': [1, 2, 3], 'ordered': True}\n",
      "conv_block_1/num_layers (Choice)\n",
      "{'default': 2, 'conditions': [], 'values': [1, 2], 'ordered': True}\n",
      "conv_block_1/filters_0_0 (Choice)\n",
      "{'default': 32, 'conditions': [], 'values': [16, 32, 64, 128, 256, 512], 'ordered': True}\n",
      "conv_block_1/filters_0_1 (Choice)\n",
      "{'default': 32, 'conditions': [], 'values': [16, 32, 64, 128, 256, 512], 'ordered': True}\n",
      "conv_block_1/filters_1_0 (Choice)\n",
      "{'default': 32, 'conditions': [], 'values': [16, 32, 64, 128, 256, 512], 'ordered': True}\n",
      "conv_block_1/filters_1_1 (Choice)\n",
      "{'default': 32, 'conditions': [], 'values': [16, 32, 64, 128, 256, 512], 'ordered': True}\n",
      "res_net_block_1/pretrained (Boolean)\n",
      "{'default': False, 'conditions': []}\n",
      "res_net_block_1/version (Choice)\n",
      "{'default': 'resnet50_v2', 'conditions': [], 'values': ['resnet50_v2', 'resnet101_v2', 'resnet152_v2'], 'ordered': False}\n",
      "res_net_block_1/imagenet_size (Boolean)\n",
      "{'default': False, 'conditions': []}\n",
      "classification_head_1/dropout (Choice)\n",
      "{'default': 0, 'conditions': [], 'values': [0.0, 0.25, 0.5], 'ordered': True}\n",
      "optimizer (Choice)\n",
      "{'default': 'adam', 'conditions': [], 'values': ['adam', 'sgd', 'adam_weight_decay'], 'ordered': False}\n",
      "image_block_1/normalize (Boolean)\n",
      "{'default': False, 'conditions': []}\n",
      "image_block_1/augment (Boolean)\n",
      "{'default': False, 'conditions': []}\n",
      "image_block_1/block_type (Choice)\n",
      "{'default': 'resnet', 'conditions': [], 'values': ['resnet', 'xception', 'vanilla', 'efficient'], 'ordered': False}\n",
      "image_block_1/res_net_block_1/pretrained (Boolean)\n",
      "{'default': False, 'conditions': [{'class_name': 'Parent', 'config': {'name': 'image_block_1/block_type', 'values': ['resnet']}}]}\n",
      "image_block_1/res_net_block_1/version (Choice)\n",
      "{'default': 'resnet50', 'conditions': [{'class_name': 'Parent', 'config': {'name': 'image_block_1/block_type', 'values': ['resnet']}}], 'values': ['resnet50', 'resnet101', 'resnet152', 'resnet50_v2', 'resnet101_v2', 'resnet152_v2'], 'ordered': False}\n",
      "image_block_1/res_net_block_1/imagenet_size (Boolean)\n",
      "{'default': False, 'conditions': [{'class_name': 'Parent', 'config': {'name': 'image_block_1/block_type', 'values': ['resnet']}}]}\n",
      "classification_head_1/spatial_reduction_1/reduction_type (Choice)\n",
      "{'default': 'flatten', 'conditions': [], 'values': ['flatten', 'global_max', 'global_avg'], 'ordered': False}\n"
     ]
    }
   ],
   "source": [
    "tuner.search_space_summary()"
   ]
  },
  {
   "cell_type": "code",
   "execution_count": 14,
   "id": "ba1bb403",
   "metadata": {},
   "outputs": [
    {
     "data": {
      "text/plain": [
       "[Fixed(name: learning_rate, value: 0.0001),\n",
       " Choice(name: \"conv_block_1/kernel_size\", values: [3, 5, 7], ordered: True, default: 3),\n",
       " Boolean(name: \"conv_block_1/separable\", default: False),\n",
       " Boolean(name: \"conv_block_1/max_pooling\", default: True),\n",
       " Choice(name: \"conv_block_1/dropout\", values: [0.0, 0.25, 0.5], ordered: True, default: 0),\n",
       " Choice(name: \"conv_block_1/num_blocks\", values: [1, 2, 3], ordered: True, default: 2),\n",
       " Choice(name: \"conv_block_1/num_layers\", values: [1, 2], ordered: True, default: 2),\n",
       " Choice(name: \"conv_block_1/filters_0_0\", values: [16, 32, 64, 128, 256, 512], ordered: True, default: 32),\n",
       " Choice(name: \"conv_block_1/filters_0_1\", values: [16, 32, 64, 128, 256, 512], ordered: True, default: 32),\n",
       " Choice(name: \"conv_block_1/filters_1_0\", values: [16, 32, 64, 128, 256, 512], ordered: True, default: 32),\n",
       " Choice(name: \"conv_block_1/filters_1_1\", values: [16, 32, 64, 128, 256, 512], ordered: True, default: 32),\n",
       " Boolean(name: \"res_net_block_1/pretrained\", default: False),\n",
       " Choice(name: \"res_net_block_1/version\", values: ['resnet50_v2', 'resnet101_v2', 'resnet152_v2'], ordered: False, default: resnet50_v2),\n",
       " Boolean(name: \"res_net_block_1/imagenet_size\", default: False),\n",
       " Choice(name: \"classification_head_1/dropout\", values: [0.0, 0.25, 0.5], ordered: True, default: 0),\n",
       " Choice(name: \"optimizer\", values: ['adam', 'sgd', 'adam_weight_decay'], ordered: False, default: adam),\n",
       " Boolean(name: \"image_block_1/normalize\", default: False),\n",
       " Boolean(name: \"image_block_1/augment\", default: False),\n",
       " Choice(name: \"image_block_1/block_type\", values: ['resnet', 'xception', 'vanilla', 'efficient'], ordered: False, default: resnet),\n",
       " Boolean(name: \"image_block_1/res_net_block_1/pretrained\", default: False),\n",
       " Choice(name: \"image_block_1/res_net_block_1/version\", values: ['resnet50', 'resnet101', 'resnet152', 'resnet50_v2', 'resnet101_v2', 'resnet152_v2'], ordered: False, default: resnet50),\n",
       " Boolean(name: \"image_block_1/res_net_block_1/imagenet_size\", default: False),\n",
       " Choice(name: \"classification_head_1/spatial_reduction_1/reduction_type\", values: ['flatten', 'global_max', 'global_avg'], ordered: False, default: flatten)]"
      ]
     },
     "execution_count": 14,
     "metadata": {},
     "output_type": "execute_result"
    }
   ],
   "source": [
    "tuner.oracle.hyperparameters.space"
   ]
  },
  {
   "cell_type": "code",
   "execution_count": 15,
   "id": "8c47f306",
   "metadata": {},
   "outputs": [
    {
     "ename": "AttributeError",
     "evalue": "'Fixed' object has no attribute 'sampling'",
     "output_type": "error",
     "traceback": [
      "\u001b[0;31m---------------------------------------------------------------------------\u001b[0m",
      "\u001b[0;31mAttributeError\u001b[0m                            Traceback (most recent call last)",
      "\u001b[0;32m/var/folders/dg/4jghvsmd1dl77gj1fqmzzf_80000gn/T/ipykernel_47257/1083721664.py\u001b[0m in \u001b[0;36m<module>\u001b[0;34m\u001b[0m\n\u001b[0;32m----> 1\u001b[0;31m \u001b[0mtuner\u001b[0m\u001b[0;34m.\u001b[0m\u001b[0moracle\u001b[0m\u001b[0;34m.\u001b[0m\u001b[0minit_search_space\u001b[0m\u001b[0;34m(\u001b[0m\u001b[0;34m)\u001b[0m\u001b[0;34m\u001b[0m\u001b[0;34m\u001b[0m\u001b[0m\n\u001b[0m",
      "\u001b[0;32m~/Desktop/ucsd/cse234/project/cerebro-system/cerebro/nas/tuners/gridsearch.py\u001b[0m in \u001b[0;36minit_search_space\u001b[0;34m(self)\u001b[0m\n\u001b[1;32m     88\u001b[0m         ]\n\u001b[1;32m     89\u001b[0m         \"\"\"\n\u001b[0;32m---> 90\u001b[0;31m         \u001b[0mself\u001b[0m\u001b[0;34m.\u001b[0m\u001b[0m_validate_hyperparameters\u001b[0m\u001b[0;34m(\u001b[0m\u001b[0;34m)\u001b[0m\u001b[0;34m\u001b[0m\u001b[0;34m\u001b[0m\u001b[0m\n\u001b[0m\u001b[1;32m     91\u001b[0m         \u001b[0mself\u001b[0m\u001b[0;34m.\u001b[0m\u001b[0msearch_space\u001b[0m \u001b[0;34m=\u001b[0m \u001b[0mself\u001b[0m\u001b[0;34m.\u001b[0m\u001b[0m_grid_generation\u001b[0m\u001b[0;34m(\u001b[0m\u001b[0;34m)\u001b[0m\u001b[0;34m\u001b[0m\u001b[0;34m\u001b[0m\u001b[0m\n\u001b[1;32m     92\u001b[0m         \u001b[0;31m#log\u001b[0m\u001b[0;34m\u001b[0m\u001b[0;34m\u001b[0m\u001b[0;34m\u001b[0m\u001b[0m\n",
      "\u001b[0;32m~/Desktop/ucsd/cse234/project/cerebro-system/cerebro/nas/tuners/gridsearch.py\u001b[0m in \u001b[0;36m_validate_hyperparameters\u001b[0;34m(self)\u001b[0m\n\u001b[1;32m     46\u001b[0m     \u001b[0;32mdef\u001b[0m \u001b[0m_validate_hyperparameters\u001b[0m\u001b[0;34m(\u001b[0m\u001b[0mself\u001b[0m\u001b[0;34m)\u001b[0m\u001b[0;34m:\u001b[0m\u001b[0;34m\u001b[0m\u001b[0;34m\u001b[0m\u001b[0m\n\u001b[1;32m     47\u001b[0m         \u001b[0;32mfor\u001b[0m \u001b[0mhp\u001b[0m \u001b[0;32min\u001b[0m \u001b[0mself\u001b[0m\u001b[0;34m.\u001b[0m\u001b[0mhyperparameters\u001b[0m\u001b[0;34m.\u001b[0m\u001b[0mspace\u001b[0m\u001b[0;34m:\u001b[0m\u001b[0;34m\u001b[0m\u001b[0;34m\u001b[0m\u001b[0m\n\u001b[0;32m---> 48\u001b[0;31m             \u001b[0;32mif\u001b[0m \u001b[0;32mnot\u001b[0m \u001b[0mhp\u001b[0m\u001b[0;34m.\u001b[0m\u001b[0msampling\u001b[0m \u001b[0;32mis\u001b[0m \u001b[0;32mNone\u001b[0m\u001b[0;34m:\u001b[0m\u001b[0;34m\u001b[0m\u001b[0;34m\u001b[0m\u001b[0m\n\u001b[0m\u001b[1;32m     49\u001b[0m                 \u001b[0;32mraise\u001b[0m \u001b[0mException\u001b[0m\u001b[0;34m(\u001b[0m\u001b[0;34m'Gridsearch does not support sampling algorithms for the hyperparameters at the current stage'\u001b[0m\u001b[0;34m)\u001b[0m\u001b[0;34m\u001b[0m\u001b[0;34m\u001b[0m\u001b[0m\n\u001b[1;32m     50\u001b[0m \u001b[0;34m\u001b[0m\u001b[0m\n",
      "\u001b[0;31mAttributeError\u001b[0m: 'Fixed' object has no attribute 'sampling'"
     ]
    }
   ],
   "source": [
    "tuner.oracle.init_search_space()"
   ]
  },
  {
   "cell_type": "code",
   "execution_count": null,
   "id": "63ef65a6",
   "metadata": {},
   "outputs": [],
   "source": [
    "test = HyperParameters()\n",
    "test.Fixed(\"lr\", value=0.01)\n",
    "test.Choice(\"lr\", values=[1,2,3])\n",
    "test.Fixed(\"lr\", value=0.02)\n",
    "\n",
    "test.values"
   ]
  },
  {
   "cell_type": "code",
   "execution_count": null,
   "id": "c4c398cd",
   "metadata": {},
   "outputs": [],
   "source": [
    "trial = tuner.oracle.create_trial(tuner.tuner_id)\n",
    "trial.summary()"
   ]
  },
  {
   "cell_type": "code",
   "execution_count": null,
   "id": "0775e134",
   "metadata": {
    "collapsed": true
   },
   "outputs": [],
   "source": [
    "AutoKeras test"
   ]
  },
  {
   "cell_type": "code",
   "execution_count": null,
   "id": "c2481085",
   "metadata": {},
   "outputs": [],
   "source": [
    "input_node = ak.ImageInput()\n",
    "output_node = ak.Normalization()(input_node)\n",
    "output_node1 = ak.ConvBlock()(output_node)\n",
    "output_node2 = ak.ResNetBlock(version=\"v2\")(output_node)\n",
    "output_node = ak.Merge()([output_node1, output_node2])\n",
    "output_node = ak.ClassificationHead()(output_node)\n",
    "\n",
    "am = ak.AutoModel(\n",
    "    inputs=input_node, outputs=output_node, overwrite=True, max_trials=1\n",
    ")"
   ]
  },
  {
   "cell_type": "code",
   "execution_count": null,
   "id": "af8361e4",
   "metadata": {},
   "outputs": [],
   "source": [
    "dataset, validation_data = am._convert_to_dataset(\n",
    "            x=x_train, y=y_train, validation_data=None, batch_size=32\n",
    "        )"
   ]
  },
  {
   "cell_type": "code",
   "execution_count": null,
   "id": "25a89f41",
   "metadata": {
    "collapsed": true
   },
   "outputs": [],
   "source": [
    "dataset"
   ]
  },
  {
   "cell_type": "code",
   "execution_count": null,
   "id": "44862222",
   "metadata": {},
   "outputs": [],
   "source": [
    "am._analyze_data(dataset)\n",
    "am._build_hyper_pipeline(dataset)"
   ]
  },
  {
   "cell_type": "code",
   "execution_count": null,
   "id": "4daec774",
   "metadata": {
    "collapsed": true
   },
   "outputs": [],
   "source": [
    "tuner = am.tuner"
   ]
  },
  {
   "cell_type": "code",
   "execution_count": null,
   "id": "b6645c93",
   "metadata": {},
   "outputs": [],
   "source": [
    "tuner.hypermodel.hypermodel.set_fit_args(0.2, epochs=100)"
   ]
  },
  {
   "cell_type": "code",
   "execution_count": null,
   "id": "4b14e6eb",
   "metadata": {},
   "outputs": [],
   "source": [
    "hp = tuner.oracle.get_space()\n",
    "\n",
    "pipeline = tuner.hyper_pipeline.build(hp, dataset)\n",
    "pipeline.fit(dataset)\n",
    "dataset = pipeline.transform(dataset)"
   ]
  },
  {
   "cell_type": "code",
   "execution_count": null,
   "id": "430ec456",
   "metadata": {},
   "outputs": [],
   "source": [
    "dataset"
   ]
  },
  {
   "cell_type": "code",
   "execution_count": null,
   "id": "38dfe12a",
   "metadata": {},
   "outputs": [],
   "source": [
    "from autokeras.utils import data_utils\n",
    "tuner.hypermodel.hypermodel.set_io_shapes(data_utils.dataset_shape(dataset))"
   ]
  },
  {
   "cell_type": "code",
   "execution_count": null,
   "id": "72b6a588",
   "metadata": {},
   "outputs": [],
   "source": [
    "tuner.hypermodel.build(hp)\n",
    "tuner.oracle.update_space(hp)"
   ]
  },
  {
   "cell_type": "code",
   "execution_count": null,
   "id": "d80f27d4",
   "metadata": {},
   "outputs": [],
   "source": [
    "tuner.search_space_summary()"
   ]
  },
  {
   "cell_type": "code",
   "execution_count": null,
   "id": "c08fbb72",
   "metadata": {},
   "outputs": [],
   "source": [
    "data_utils.dataset_shape(dataset)"
   ]
  },
  {
   "cell_type": "code",
   "execution_count": null,
   "id": "820f460d",
   "metadata": {},
   "outputs": [],
   "source": []
  }
 ],
 "metadata": {
  "interpreter": {
   "hash": "ad4acd6d293a3f5a16b0313fe2263b6b05210474594661a4c159a4179f3f59df"
  },
  "kernelspec": {
   "display_name": "Python 3 (ipykernel)",
   "language": "python",
   "name": "python3"
  },
  "language_info": {
   "codemirror_mode": {
    "name": "ipython",
    "version": 3
   },
   "file_extension": ".py",
   "mimetype": "text/x-python",
   "name": "python",
   "nbconvert_exporter": "python",
   "pygments_lexer": "ipython3",
   "version": "3.7.11"
  }
 },
 "nbformat": 4,
 "nbformat_minor": 5
}
