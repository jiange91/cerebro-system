{
 "cells": [
  {
   "cell_type": "code",
   "execution_count": 1,
   "id": "223daae7",
   "metadata": {},
   "outputs": [],
   "source": [
    "import numpy as np\n",
    "import tensorflow as tf\n",
    "from tensorflow.keras.datasets import mnist\n",
    "from keras_tuner import HyperParameters\n",
    "\n",
    "import autokeras as ak\n",
    "\n",
    "from cerebro.nas.hphpmodel import HyperHyperModel"
   ]
  },
  {
   "cell_type": "code",
   "execution_count": 2,
   "id": "6b493757",
   "metadata": {},
   "outputs": [],
   "source": [
    "input_node = [ak.StructuredDataInput() for i in range(4)]\n",
    "output_node = ak.StructuredDataBlock(categorical_encoding=True)(input_node)\n",
    "output_node = ak.ClassificationHead()(output_node)\n",
    "am = HyperHyperModel(\n",
    "    inputs=input_node, outputs=output_node, overwrite=True, max_trials=3\n",
    ")"
   ]
  },
  {
   "cell_type": "code",
   "execution_count": 3,
   "id": "7b4dfdc1",
   "metadata": {},
   "outputs": [
    {
     "name": "stderr",
     "output_type": "stream",
     "text": [
      "21/11/20 21:58:37 WARN NativeCodeLoader: Unable to load native-hadoop library for your platform... using builtin-java classes where applicable\n",
      "Using Spark's default log4j profile: org/apache/spark/log4j-defaults.properties\n",
      "Setting default log level to \"WARN\".\n",
      "To adjust logging level use sc.setLogLevel(newLevel). For SparkR, use setLogLevel(newLevel).\n",
      "21/11/20 21:58:37 WARN Utils: Service 'SparkUI' could not bind on port 4040. Attempting port 4041.\n"
     ]
    },
    {
     "name": "stdout",
     "output_type": "stream",
     "text": [
      "CEREBRO => Time: 2021-11-20 21:58:38, Running 1 Workers\n"
     ]
    }
   ],
   "source": [
    "from pyspark.sql import SparkSession\n",
    "\n",
    "# Build the SparkSession\n",
    "spark = SparkSession.builder \\\n",
    "   .appName(\"Linear Regression Model\") \\\n",
    "   .getOrCreate()\n",
    "\n",
    "sc = spark.sparkContext\n",
    "\n",
    "from cerebro.backend import SparkBackend\n",
    "from cerebro.storage import LocalStore\n",
    "\n",
    "backend = SparkBackend(spark_context=sc, num_workers=1)\n",
    "store = LocalStore(prefix_path='/Users/zijian/Desktop/ucsd/cse234/project/cerebro-system/experiments')\n",
    "\n",
    "am.resource_bind(\n",
    "    backend=backend, \n",
    "    store=store,\n",
    "    feature_columns=['SepalLengthCm', 'SepalWidthCm', 'PetalLengthCm', 'PetalWidthCm'],\n",
    "    label_columns=['Species']\n",
    ")"
   ]
  },
  {
   "cell_type": "code",
   "execution_count": 4,
   "id": "ee1c1051",
   "metadata": {},
   "outputs": [
    {
     "data": {
      "text/html": [
       "<div>\n",
       "<style scoped>\n",
       "    .dataframe tbody tr th:only-of-type {\n",
       "        vertical-align: middle;\n",
       "    }\n",
       "\n",
       "    .dataframe tbody tr th {\n",
       "        vertical-align: top;\n",
       "    }\n",
       "\n",
       "    .dataframe thead th {\n",
       "        text-align: right;\n",
       "    }\n",
       "</style>\n",
       "<table border=\"1\" class=\"dataframe\">\n",
       "  <thead>\n",
       "    <tr style=\"text-align: right;\">\n",
       "      <th></th>\n",
       "      <th>SepalLengthCm</th>\n",
       "      <th>SepalWidthCm</th>\n",
       "      <th>PetalLengthCm</th>\n",
       "      <th>PetalWidthCm</th>\n",
       "      <th>Species</th>\n",
       "    </tr>\n",
       "  </thead>\n",
       "  <tbody>\n",
       "    <tr>\n",
       "      <th>0</th>\n",
       "      <td>5.1</td>\n",
       "      <td>3.5</td>\n",
       "      <td>1.4</td>\n",
       "      <td>0.2</td>\n",
       "      <td>0</td>\n",
       "    </tr>\n",
       "    <tr>\n",
       "      <th>1</th>\n",
       "      <td>4.9</td>\n",
       "      <td>3.0</td>\n",
       "      <td>1.4</td>\n",
       "      <td>0.2</td>\n",
       "      <td>0</td>\n",
       "    </tr>\n",
       "    <tr>\n",
       "      <th>2</th>\n",
       "      <td>4.7</td>\n",
       "      <td>3.2</td>\n",
       "      <td>1.3</td>\n",
       "      <td>0.2</td>\n",
       "      <td>0</td>\n",
       "    </tr>\n",
       "    <tr>\n",
       "      <th>3</th>\n",
       "      <td>4.6</td>\n",
       "      <td>3.1</td>\n",
       "      <td>1.5</td>\n",
       "      <td>0.2</td>\n",
       "      <td>0</td>\n",
       "    </tr>\n",
       "    <tr>\n",
       "      <th>4</th>\n",
       "      <td>5.0</td>\n",
       "      <td>3.6</td>\n",
       "      <td>1.4</td>\n",
       "      <td>0.2</td>\n",
       "      <td>0</td>\n",
       "    </tr>\n",
       "    <tr>\n",
       "      <th>5</th>\n",
       "      <td>5.4</td>\n",
       "      <td>3.9</td>\n",
       "      <td>1.7</td>\n",
       "      <td>0.4</td>\n",
       "      <td>0</td>\n",
       "    </tr>\n",
       "    <tr>\n",
       "      <th>6</th>\n",
       "      <td>4.6</td>\n",
       "      <td>3.4</td>\n",
       "      <td>1.4</td>\n",
       "      <td>0.3</td>\n",
       "      <td>0</td>\n",
       "    </tr>\n",
       "    <tr>\n",
       "      <th>7</th>\n",
       "      <td>5.0</td>\n",
       "      <td>3.4</td>\n",
       "      <td>1.5</td>\n",
       "      <td>0.2</td>\n",
       "      <td>0</td>\n",
       "    </tr>\n",
       "    <tr>\n",
       "      <th>8</th>\n",
       "      <td>4.4</td>\n",
       "      <td>2.9</td>\n",
       "      <td>1.4</td>\n",
       "      <td>0.2</td>\n",
       "      <td>0</td>\n",
       "    </tr>\n",
       "    <tr>\n",
       "      <th>9</th>\n",
       "      <td>4.9</td>\n",
       "      <td>3.1</td>\n",
       "      <td>1.5</td>\n",
       "      <td>0.1</td>\n",
       "      <td>0</td>\n",
       "    </tr>\n",
       "  </tbody>\n",
       "</table>\n",
       "</div>"
      ],
      "text/plain": [
       "   SepalLengthCm  SepalWidthCm  PetalLengthCm  PetalWidthCm  Species\n",
       "0            5.1           3.5            1.4           0.2        0\n",
       "1            4.9           3.0            1.4           0.2        0\n",
       "2            4.7           3.2            1.3           0.2        0\n",
       "3            4.6           3.1            1.5           0.2        0\n",
       "4            5.0           3.6            1.4           0.2        0\n",
       "5            5.4           3.9            1.7           0.4        0\n",
       "6            4.6           3.4            1.4           0.3        0\n",
       "7            5.0           3.4            1.5           0.2        0\n",
       "8            4.4           2.9            1.4           0.2        0\n",
       "9            4.9           3.1            1.5           0.1        0"
      ]
     },
     "execution_count": 4,
     "metadata": {},
     "output_type": "execute_result"
    }
   ],
   "source": [
    "df = spark.read.csv(\"/Users/zijian/Desktop/ucsd/cse234/project/cerebro-system/Iris_clean.csv\", header=True, inferSchema=True)\n",
    "df = df.toPandas()\n",
    "\n",
    "train=df.sample(frac=0.8,random_state=200) #random state is a seed value\n",
    "test=df.drop(train.index)\n",
    "\n",
    "df.head(10)\n",
    "# train_df, test_df = df.randomSplit([0.8, 0.2])"
   ]
  },
  {
   "cell_type": "code",
   "execution_count": 5,
   "id": "0f45f458",
   "metadata": {},
   "outputs": [
    {
     "data": {
      "text/plain": [
       "SepalLengthCm    float64\n",
       "SepalWidthCm     float64\n",
       "PetalLengthCm    float64\n",
       "PetalWidthCm     float64\n",
       "Species            int32\n",
       "dtype: object"
      ]
     },
     "execution_count": 5,
     "metadata": {},
     "output_type": "execute_result"
    }
   ],
   "source": [
    "df.dtypes"
   ]
  },
  {
   "cell_type": "code",
   "execution_count": 6,
   "id": "0a330d6a",
   "metadata": {},
   "outputs": [
    {
     "name": "stdout",
     "output_type": "stream",
     "text": [
      "(120, 4)\n",
      "(120, 1)\n"
     ]
    }
   ],
   "source": [
    "train_np = np.array(train)\n",
    "x_train = train_np[:,:-1]\n",
    "y_train = train_np[:,-1,np.newaxis]\n",
    "print(x_train.shape)\n",
    "print(y_train.shape)"
   ]
  },
  {
   "cell_type": "code",
   "execution_count": 7,
   "id": "b45bb36a",
   "metadata": {},
   "outputs": [
    {
     "name": "stdout",
     "output_type": "stream",
     "text": [
      "INFO:tensorflow:Reloading Oracle from existing project ./test/oracle.json\n"
     ]
    },
    {
     "name": "stderr",
     "output_type": "stream",
     "text": [
      "2021-11-20 21:58:41.781456: I tensorflow/compiler/jit/xla_cpu_device.cc:41] Not creating XLA devices, tf_xla_enable_xla_devices not set\n",
      "2021-11-20 21:58:41.781710: I tensorflow/core/platform/cpu_feature_guard.cc:142] This TensorFlow binary is optimized with oneAPI Deep Neural Network Library (oneDNN) to use the following CPU instructions in performance-critical operations:  AVX2 FMA\n",
      "To enable them in other operations, rebuild TensorFlow with the appropriate compiler flags.\n"
     ]
    },
    {
     "name": "stdout",
     "output_type": "stream",
     "text": [
      "Search space summary\n",
      "Default search space size: 10\n",
      "learning_rate (Choice)\n",
      "{'default': 0.1, 'conditions': [], 'values': [0.1, 0.01], 'ordered': True}\n",
      "batch_size (Choice)\n",
      "{'default': 32, 'conditions': [], 'values': [32, 64, 128], 'ordered': True}\n",
      "structured_data_block_1/normalize (Boolean)\n",
      "{'default': False, 'conditions': []}\n",
      "structured_data_block_1/dense_block_1/use_batchnorm (Boolean)\n",
      "{'default': False, 'conditions': []}\n",
      "structured_data_block_1/dense_block_1/num_layers (Choice)\n",
      "{'default': 2, 'conditions': [], 'values': [1, 2, 3], 'ordered': True}\n",
      "structured_data_block_1/dense_block_1/units_0 (Choice)\n",
      "{'default': 32, 'conditions': [], 'values': [16, 32, 64, 128, 256, 512, 1024], 'ordered': True}\n",
      "structured_data_block_1/dense_block_1/dropout (Choice)\n",
      "{'default': 0.0, 'conditions': [], 'values': [0.0, 0.25, 0.5], 'ordered': True}\n",
      "structured_data_block_1/dense_block_1/units_1 (Choice)\n",
      "{'default': 32, 'conditions': [], 'values': [16, 32, 64, 128, 256, 512, 1024], 'ordered': True}\n",
      "classification_head_1/dropout (Choice)\n",
      "{'default': 0, 'conditions': [], 'values': [0.0, 0.25, 0.5], 'ordered': True}\n",
      "optimizer (Choice)\n",
      "{'default': 'adam', 'conditions': [], 'values': ['adam', 'sgd', 'adam_weight_decay'], 'ordered': False}\n"
     ]
    }
   ],
   "source": [
    "cuz_hps = HyperParameters()\n",
    "cuz_hps.Choice('learning_rate', values=[0.1,0.01])\n",
    "cuz_hps.Choice('batch_size', values=[32,64,128])\n",
    "\n",
    "am.tuner_bind(tuner=\"randomsearch\", hyperparameters=cuz_hps)\n",
    "am.test_tuner_space(x=x_train, y=y_train)\n",
    "\n",
    "am.tuner.search_space_summary()"
   ]
  },
  {
   "cell_type": "code",
   "execution_count": 8,
   "id": "cddd318c",
   "metadata": {},
   "outputs": [
    {
     "name": "stdout",
     "output_type": "stream",
     "text": [
      "{'learning_rate': 0.1, 'batch_size': 128, 'structured_data_block_1/normalize': True, 'structured_data_block_1/dense_block_1/use_batchnorm': True, 'structured_data_block_1/dense_block_1/num_layers': 3, 'structured_data_block_1/dense_block_1/units_0': 16, 'structured_data_block_1/dense_block_1/dropout': 0.5, 'structured_data_block_1/dense_block_1/units_1': 1024, 'classification_head_1/dropout': 0.25, 'optimizer': 'adam'}\n",
      "{'learning_rate': 0.01, 'batch_size': 32, 'structured_data_block_1/normalize': True, 'structured_data_block_1/dense_block_1/use_batchnorm': True, 'structured_data_block_1/dense_block_1/num_layers': 3, 'structured_data_block_1/dense_block_1/units_0': 32, 'structured_data_block_1/dense_block_1/dropout': 0.5, 'structured_data_block_1/dense_block_1/units_1': 128, 'classification_head_1/dropout': 0.5, 'optimizer': 'adam'}\n"
     ]
    }
   ],
   "source": [
    "tuner = am.tuner\n",
    "\n",
    "trials = tuner.oracle.create_trials(2)\n",
    "for trial in trials:\n",
    "    print(trial.hyperparameters.values)"
   ]
  },
  {
   "cell_type": "code",
   "execution_count": 9,
   "id": "b7175a24",
   "metadata": {},
   "outputs": [
    {
     "data": {
      "text/plain": [
       "{'learning_rate': 0.01,\n",
       " 'batch_size': 128,\n",
       " 'structured_data_block_1/normalize': False,\n",
       " 'structured_data_block_1/dense_block_1/use_batchnorm': True,\n",
       " 'structured_data_block_1/dense_block_1/num_layers': 2,\n",
       " 'structured_data_block_1/dense_block_1/units_0': 512,\n",
       " 'structured_data_block_1/dense_block_1/dropout': 0.5,\n",
       " 'structured_data_block_1/dense_block_1/units_1': 128,\n",
       " 'classification_head_1/dropout': 0.0,\n",
       " 'optimizer': 'adam_weight_decay'}"
      ]
     },
     "execution_count": 9,
     "metadata": {},
     "output_type": "execute_result"
    }
   ],
   "source": [
    "kt_trial = tuner.oracle.create_trial(tuner.tuner_id)\n",
    "kt_trial.hyperparameters.values"
   ]
  },
  {
   "cell_type": "code",
   "execution_count": 10,
   "id": "4189895c",
   "metadata": {},
   "outputs": [],
   "source": [
    "model = tuner.hypermodel.build(kt_trial.hyperparameters)"
   ]
  },
  {
   "cell_type": "code",
   "execution_count": 11,
   "id": "e2d3a162",
   "metadata": {},
   "outputs": [
    {
     "data": {
      "text/plain": [
       "<autokeras.keras_layers.AdamWeightDecay at 0x17f9b9810>"
      ]
     },
     "execution_count": 11,
     "metadata": {},
     "output_type": "execute_result"
    }
   ],
   "source": [
    "model.optimizer"
   ]
  },
  {
   "cell_type": "code",
   "execution_count": 12,
   "id": "9d17842f",
   "metadata": {},
   "outputs": [
    {
     "data": {
      "text/plain": [
       "{'classification_head_1': <tensorflow.python.keras.losses.CategoricalCrossentropy at 0x17f754b10>}"
      ]
     },
     "execution_count": 12,
     "metadata": {},
     "output_type": "execute_result"
    }
   ],
   "source": [
    "tuner.hypermodel.hypermodel._get_loss()"
   ]
  },
  {
   "cell_type": "code",
   "execution_count": 13,
   "id": "ab5b813a",
   "metadata": {},
   "outputs": [
    {
     "data": {
      "text/plain": [
       "dict_values([['accuracy']])"
      ]
     },
     "execution_count": 13,
     "metadata": {},
     "output_type": "execute_result"
    }
   ],
   "source": [
    "tuner.hypermodel.hypermodel._get_metrics().values()"
   ]
  },
  {
   "cell_type": "code",
   "execution_count": 14,
   "id": "b37ef20f",
   "metadata": {},
   "outputs": [
    {
     "data": {
      "text/plain": [
       "32"
      ]
     },
     "execution_count": 14,
     "metadata": {},
     "output_type": "execute_result"
    }
   ],
   "source": [
    "tuner.hypermodel.hypermodel.batch_size"
   ]
  },
  {
   "cell_type": "code",
   "execution_count": 15,
   "id": "70464022",
   "metadata": {},
   "outputs": [
    {
     "data": {
      "text/plain": [
       "{'name': 'model',\n",
       " 'layers': [{'class_name': 'InputLayer',\n",
       "   'config': {'batch_input_shape': (None, 1),\n",
       "    'dtype': 'float64',\n",
       "    'sparse': False,\n",
       "    'ragged': False,\n",
       "    'name': 'input_1'},\n",
       "   'name': 'input_1',\n",
       "   'inbound_nodes': []},\n",
       "  {'class_name': 'Custom>MultiCategoryEncoding',\n",
       "   'config': {'name': 'multi_category_encoding',\n",
       "    'trainable': True,\n",
       "    'dtype': 'float32',\n",
       "    'encoding': ListWrapper(['none'])},\n",
       "   'name': 'multi_category_encoding',\n",
       "   'inbound_nodes': [[['input_1', 0, 0, {}]]]},\n",
       "  {'class_name': 'Dense',\n",
       "   'config': {'name': 'dense',\n",
       "    'trainable': True,\n",
       "    'dtype': 'float32',\n",
       "    'units': 512,\n",
       "    'activation': 'linear',\n",
       "    'use_bias': True,\n",
       "    'kernel_initializer': {'class_name': 'GlorotUniform',\n",
       "     'config': {'seed': None}},\n",
       "    'bias_initializer': {'class_name': 'Zeros', 'config': {}},\n",
       "    'kernel_regularizer': None,\n",
       "    'bias_regularizer': None,\n",
       "    'activity_regularizer': None,\n",
       "    'kernel_constraint': None,\n",
       "    'bias_constraint': None},\n",
       "   'name': 'dense',\n",
       "   'inbound_nodes': [[['multi_category_encoding', 0, 0, {}]]]},\n",
       "  {'class_name': 'BatchNormalization',\n",
       "   'config': {'name': 'batch_normalization',\n",
       "    'trainable': True,\n",
       "    'dtype': 'float32',\n",
       "    'axis': ListWrapper([1]),\n",
       "    'momentum': 0.99,\n",
       "    'epsilon': 0.001,\n",
       "    'center': True,\n",
       "    'scale': True,\n",
       "    'beta_initializer': {'class_name': 'Zeros', 'config': {}},\n",
       "    'gamma_initializer': {'class_name': 'Ones', 'config': {}},\n",
       "    'moving_mean_initializer': {'class_name': 'Zeros', 'config': {}},\n",
       "    'moving_variance_initializer': {'class_name': 'Ones', 'config': {}},\n",
       "    'beta_regularizer': None,\n",
       "    'gamma_regularizer': None,\n",
       "    'beta_constraint': None,\n",
       "    'gamma_constraint': None},\n",
       "   'name': 'batch_normalization',\n",
       "   'inbound_nodes': [[['dense', 0, 0, {}]]]},\n",
       "  {'class_name': 'ReLU',\n",
       "   'config': {'name': 're_lu',\n",
       "    'trainable': True,\n",
       "    'dtype': 'float32',\n",
       "    'max_value': None,\n",
       "    'negative_slope': array(0., dtype=float32),\n",
       "    'threshold': array(0., dtype=float32)},\n",
       "   'name': 're_lu',\n",
       "   'inbound_nodes': [[['batch_normalization', 0, 0, {}]]]},\n",
       "  {'class_name': 'Dropout',\n",
       "   'config': {'name': 'dropout',\n",
       "    'trainable': True,\n",
       "    'dtype': 'float32',\n",
       "    'rate': 0.5,\n",
       "    'noise_shape': None,\n",
       "    'seed': None},\n",
       "   'name': 'dropout',\n",
       "   'inbound_nodes': [[['re_lu', 0, 0, {}]]]},\n",
       "  {'class_name': 'Dense',\n",
       "   'config': {'name': 'dense_1',\n",
       "    'trainable': True,\n",
       "    'dtype': 'float32',\n",
       "    'units': 128,\n",
       "    'activation': 'linear',\n",
       "    'use_bias': True,\n",
       "    'kernel_initializer': {'class_name': 'GlorotUniform',\n",
       "     'config': {'seed': None}},\n",
       "    'bias_initializer': {'class_name': 'Zeros', 'config': {}},\n",
       "    'kernel_regularizer': None,\n",
       "    'bias_regularizer': None,\n",
       "    'activity_regularizer': None,\n",
       "    'kernel_constraint': None,\n",
       "    'bias_constraint': None},\n",
       "   'name': 'dense_1',\n",
       "   'inbound_nodes': [[['dropout', 0, 0, {}]]]},\n",
       "  {'class_name': 'BatchNormalization',\n",
       "   'config': {'name': 'batch_normalization_1',\n",
       "    'trainable': True,\n",
       "    'dtype': 'float32',\n",
       "    'axis': ListWrapper([1]),\n",
       "    'momentum': 0.99,\n",
       "    'epsilon': 0.001,\n",
       "    'center': True,\n",
       "    'scale': True,\n",
       "    'beta_initializer': {'class_name': 'Zeros', 'config': {}},\n",
       "    'gamma_initializer': {'class_name': 'Ones', 'config': {}},\n",
       "    'moving_mean_initializer': {'class_name': 'Zeros', 'config': {}},\n",
       "    'moving_variance_initializer': {'class_name': 'Ones', 'config': {}},\n",
       "    'beta_regularizer': None,\n",
       "    'gamma_regularizer': None,\n",
       "    'beta_constraint': None,\n",
       "    'gamma_constraint': None},\n",
       "   'name': 'batch_normalization_1',\n",
       "   'inbound_nodes': [[['dense_1', 0, 0, {}]]]},\n",
       "  {'class_name': 'ReLU',\n",
       "   'config': {'name': 're_lu_1',\n",
       "    'trainable': True,\n",
       "    'dtype': 'float32',\n",
       "    'max_value': None,\n",
       "    'negative_slope': array(0., dtype=float32),\n",
       "    'threshold': array(0., dtype=float32)},\n",
       "   'name': 're_lu_1',\n",
       "   'inbound_nodes': [[['batch_normalization_1', 0, 0, {}]]]},\n",
       "  {'class_name': 'Dropout',\n",
       "   'config': {'name': 'dropout_1',\n",
       "    'trainable': True,\n",
       "    'dtype': 'float32',\n",
       "    'rate': 0.5,\n",
       "    'noise_shape': None,\n",
       "    'seed': None},\n",
       "   'name': 'dropout_1',\n",
       "   'inbound_nodes': [[['re_lu_1', 0, 0, {}]]]},\n",
       "  {'class_name': 'Dense',\n",
       "   'config': {'name': 'dense_2',\n",
       "    'trainable': True,\n",
       "    'dtype': 'float32',\n",
       "    'units': 1,\n",
       "    'activation': 'linear',\n",
       "    'use_bias': True,\n",
       "    'kernel_initializer': {'class_name': 'GlorotUniform',\n",
       "     'config': {'seed': None}},\n",
       "    'bias_initializer': {'class_name': 'Zeros', 'config': {}},\n",
       "    'kernel_regularizer': None,\n",
       "    'bias_regularizer': None,\n",
       "    'activity_regularizer': None,\n",
       "    'kernel_constraint': None,\n",
       "    'bias_constraint': None},\n",
       "   'name': 'dense_2',\n",
       "   'inbound_nodes': [[['dropout_1', 0, 0, {}]]]},\n",
       "  {'class_name': 'InputLayer',\n",
       "   'config': {'batch_input_shape': (None, 1),\n",
       "    'dtype': 'float64',\n",
       "    'sparse': False,\n",
       "    'ragged': False,\n",
       "    'name': 'input_2'},\n",
       "   'name': 'input_2',\n",
       "   'inbound_nodes': []},\n",
       "  {'class_name': 'InputLayer',\n",
       "   'config': {'batch_input_shape': (None, 1),\n",
       "    'dtype': 'float64',\n",
       "    'sparse': False,\n",
       "    'ragged': False,\n",
       "    'name': 'input_3'},\n",
       "   'name': 'input_3',\n",
       "   'inbound_nodes': []},\n",
       "  {'class_name': 'InputLayer',\n",
       "   'config': {'batch_input_shape': (None, 1),\n",
       "    'dtype': 'float64',\n",
       "    'sparse': False,\n",
       "    'ragged': False,\n",
       "    'name': 'input_4'},\n",
       "   'name': 'input_4',\n",
       "   'inbound_nodes': []},\n",
       "  {'class_name': 'Softmax',\n",
       "   'config': {'name': 'classification_head_1',\n",
       "    'trainable': True,\n",
       "    'dtype': 'float32',\n",
       "    'axis': -1},\n",
       "   'name': 'classification_head_1',\n",
       "   'inbound_nodes': [[['dense_2', 0, 0, {}]]]}],\n",
       " 'input_layers': [['input_1', 0, 0],\n",
       "  ['input_2', 0, 0],\n",
       "  ['input_3', 0, 0],\n",
       "  ['input_4', 0, 0]],\n",
       " 'output_layers': [['classification_head_1', 0, 0]]}"
      ]
     },
     "execution_count": 15,
     "metadata": {},
     "output_type": "execute_result"
    }
   ],
   "source": [
    "model.get_config()"
   ]
  },
  {
   "cell_type": "code",
   "execution_count": 16,
   "id": "58c0f8e3",
   "metadata": {},
   "outputs": [
    {
     "data": {
      "text/plain": [
       "{'Custom>CastToFloat32': autokeras.keras_layers.CastToFloat32,\n",
       " 'Custom>ExpandLastDim': autokeras.keras_layers.ExpandLastDim,\n",
       " 'Custom>MultiCategoryEncoding': autokeras.keras_layers.MultiCategoryEncoding,\n",
       " 'Custom>BertTokenizer': autokeras.keras_layers.BertTokenizer,\n",
       " 'Custom>BertEncoder': autokeras.keras_layers.BertEncoder,\n",
       " 'Custom>AdamWeightDecay': autokeras.keras_layers.AdamWeightDecay,\n",
       " 'Custom>WarmUp': autokeras.keras_layers.WarmUp,\n",
       " 'Custom>gelu': <function autokeras.keras_layers.gelu(x)>,\n",
       " 'Custom>OnDeviceEmbedding': autokeras.keras_layers.OnDeviceEmbedding,\n",
       " 'Custom>PositionEmbedding': autokeras.keras_layers.PositionEmbedding,\n",
       " 'Custom>SelfAttentionMask': autokeras.keras_layers.SelfAttentionMask,\n",
       " 'Custom>Transformer': autokeras.keras_layers.Transformer,\n",
       " 'Custom>MultiHeadAttention': autokeras.keras_layers.MultiHeadAttention,\n",
       " 'Custom>DenseEinsum': autokeras.keras_layers.DenseEinsum,\n",
       " 'Custom>MaskedSoftmax': autokeras.keras_layers.MaskedSoftmax}"
      ]
     },
     "execution_count": 16,
     "metadata": {},
     "output_type": "execute_result"
    }
   ],
   "source": [
    "tf.keras.utils.get_custom_objects()"
   ]
  },
  {
   "cell_type": "code",
   "execution_count": 19,
   "id": "a36c1b2f",
   "metadata": {},
   "outputs": [
    {
     "name": "stderr",
     "output_type": "stream",
     "text": [
      "2021-11-20 22:00:19.559444: I tensorflow/compiler/mlir/mlir_graph_optimization_pass.cc:116] None of the MLIR optimization passes are enabled (registered 2)\n"
     ]
    }
   ],
   "source": [
    "xtmp = [x_train[:,i,np.newaxis] for i in range(x_train.shape[1])]\n",
    "dataset, validation_data = am._convert_to_dataset(\n",
    "            x=xtmp, y=y_train, validation_data=None, batch_size=32\n",
    "        )\n",
    "ests = tuner.trials2estimators(trials, dataset)"
   ]
  },
  {
   "cell_type": "code",
   "execution_count": 20,
   "id": "bfc3d172",
   "metadata": {},
   "outputs": [
    {
     "data": {
      "text/plain": [
       "{'Custom>CastToFloat32': autokeras.keras_layers.CastToFloat32,\n",
       " 'Custom>ExpandLastDim': autokeras.keras_layers.ExpandLastDim,\n",
       " 'Custom>MultiCategoryEncoding': autokeras.keras_layers.MultiCategoryEncoding,\n",
       " 'Custom>BertTokenizer': autokeras.keras_layers.BertTokenizer,\n",
       " 'Custom>BertEncoder': autokeras.keras_layers.BertEncoder,\n",
       " 'Custom>AdamWeightDecay': autokeras.keras_layers.AdamWeightDecay,\n",
       " 'Custom>WarmUp': autokeras.keras_layers.WarmUp,\n",
       " 'Custom>gelu': <function autokeras.keras_layers.gelu(x)>,\n",
       " 'Custom>OnDeviceEmbedding': autokeras.keras_layers.OnDeviceEmbedding,\n",
       " 'Custom>PositionEmbedding': autokeras.keras_layers.PositionEmbedding,\n",
       " 'Custom>SelfAttentionMask': autokeras.keras_layers.SelfAttentionMask,\n",
       " 'Custom>Transformer': autokeras.keras_layers.Transformer,\n",
       " 'Custom>MultiHeadAttention': autokeras.keras_layers.MultiHeadAttention,\n",
       " 'Custom>DenseEinsum': autokeras.keras_layers.DenseEinsum,\n",
       " 'Custom>MaskedSoftmax': autokeras.keras_layers.MaskedSoftmax}"
      ]
     },
     "execution_count": 20,
     "metadata": {},
     "output_type": "execute_result"
    }
   ],
   "source": [
    "ests[0].getCustomObjects()"
   ]
  },
  {
   "cell_type": "code",
   "execution_count": 21,
   "id": "4335b64d",
   "metadata": {},
   "outputs": [
    {
     "data": {
      "text/plain": [
       "([[-1, 1], [-1, 1], [-1, 1], [-1, 1]], [[-1, 1]])"
      ]
     },
     "execution_count": 21,
     "metadata": {},
     "output_type": "execute_result"
    }
   ],
   "source": [
    "ests[0].get_model_shapes()"
   ]
  },
  {
   "cell_type": "code",
   "execution_count": 22,
   "id": "2a4ede18",
   "metadata": {},
   "outputs": [
    {
     "data": {
      "text/plain": [
       "<tensorflow.python.keras.engine.functional.Functional at 0x17f926090>"
      ]
     },
     "execution_count": 22,
     "metadata": {},
     "output_type": "execute_result"
    }
   ],
   "source": [
    "model = ests[0].getModel()\n",
    "model"
   ]
  },
  {
   "cell_type": "code",
   "execution_count": 23,
   "id": "936d9d9b",
   "metadata": {},
   "outputs": [
    {
     "data": {
      "text/plain": [
       "[<KerasTensor: shape=(None, 1) dtype=float64 (created by layer 'input_1')>,\n",
       " <KerasTensor: shape=(None, 1) dtype=float64 (created by layer 'input_2')>,\n",
       " <KerasTensor: shape=(None, 1) dtype=float64 (created by layer 'input_3')>,\n",
       " <KerasTensor: shape=(None, 1) dtype=float64 (created by layer 'input_4')>]"
      ]
     },
     "execution_count": 23,
     "metadata": {},
     "output_type": "execute_result"
    }
   ],
   "source": [
    "model.inputs"
   ]
  },
  {
   "cell_type": "code",
   "execution_count": 24,
   "id": "c0a3961a",
   "metadata": {},
   "outputs": [
    {
     "data": {
      "text/plain": [
       "[<KerasTensor: shape=(None, 1) dtype=float32 (created by layer 'classification_head_1')>]"
      ]
     },
     "execution_count": 24,
     "metadata": {},
     "output_type": "execute_result"
    }
   ],
   "source": [
    "model.outputs"
   ]
  },
  {
   "cell_type": "code",
   "execution_count": null,
   "id": "0a1b36cb",
   "metadata": {},
   "outputs": [],
   "source": []
  }
 ],
 "metadata": {
  "kernelspec": {
   "display_name": "Python 3 (ipykernel)",
   "language": "python",
   "name": "python3"
  },
  "language_info": {
   "codemirror_mode": {
    "name": "ipython",
    "version": 3
   },
   "file_extension": ".py",
   "mimetype": "text/x-python",
   "name": "python",
   "nbconvert_exporter": "python",
   "pygments_lexer": "ipython3",
   "version": "3.7.6"
  }
 },
 "nbformat": 4,
 "nbformat_minor": 5
}
