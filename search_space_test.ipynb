{
 "cells": [
  {
   "cell_type": "code",
   "execution_count": 1,
   "id": "223daae7",
   "metadata": {},
   "outputs": [],
   "source": [
    "import numpy as np\n",
    "import tensorflow as tf\n",
    "from tensorflow.keras.datasets import mnist\n",
    "from keras_tuner import HyperParameters\n",
    "\n",
    "import autokeras as ak\n",
    "\n",
    "from cerebro.nas.hphpmodel import HyperHyperModel"
   ]
  },
  {
   "cell_type": "code",
   "execution_count": 2,
   "id": "0a330d6a",
   "metadata": {},
   "outputs": [
    {
     "name": "stderr",
     "output_type": "stream",
     "text": [
      "21/11/21 18:01:24 WARN NativeCodeLoader: Unable to load native-hadoop library for your platform... using builtin-java classes where applicable\n",
      "Using Spark's default log4j profile: org/apache/spark/log4j-defaults.properties\n",
      "Setting default log level to \"WARN\".\n",
      "To adjust logging level use sc.setLogLevel(newLevel). For SparkR, use setLogLevel(newLevel).\n",
      "21/11/21 18:01:24 WARN Utils: Service 'SparkUI' could not bind on port 4040. Attempting port 4041.\n"
     ]
    },
    {
     "name": "stdout",
     "output_type": "stream",
     "text": [
      "CEREBRO => Time: 2021-11-21 18:01:25, Running 1 Workers\n"
     ]
    },
    {
     "data": {
      "text/plain": [
       "[Row(SepalLengthCm=4.3, SepalWidthCm=3.0, PetalLengthCm=1.1, PetalWidthCm=0.1, Species=0, Species_OHE=SparseVector(3, {0: 1.0})),\n",
       " Row(SepalLengthCm=4.4, SepalWidthCm=2.9, PetalLengthCm=1.4, PetalWidthCm=0.2, Species=0, Species_OHE=SparseVector(3, {0: 1.0})),\n",
       " Row(SepalLengthCm=4.4, SepalWidthCm=3.0, PetalLengthCm=1.3, PetalWidthCm=0.2, Species=0, Species_OHE=SparseVector(3, {0: 1.0})),\n",
       " Row(SepalLengthCm=4.4, SepalWidthCm=3.2, PetalLengthCm=1.3, PetalWidthCm=0.2, Species=0, Species_OHE=SparseVector(3, {0: 1.0})),\n",
       " Row(SepalLengthCm=4.5, SepalWidthCm=2.3, PetalLengthCm=1.3, PetalWidthCm=0.3, Species=0, Species_OHE=SparseVector(3, {0: 1.0})),\n",
       " Row(SepalLengthCm=4.6, SepalWidthCm=3.1, PetalLengthCm=1.5, PetalWidthCm=0.2, Species=0, Species_OHE=SparseVector(3, {0: 1.0})),\n",
       " Row(SepalLengthCm=4.6, SepalWidthCm=3.2, PetalLengthCm=1.4, PetalWidthCm=0.2, Species=0, Species_OHE=SparseVector(3, {0: 1.0})),\n",
       " Row(SepalLengthCm=4.6, SepalWidthCm=3.4, PetalLengthCm=1.4, PetalWidthCm=0.3, Species=0, Species_OHE=SparseVector(3, {0: 1.0})),\n",
       " Row(SepalLengthCm=4.6, SepalWidthCm=3.6, PetalLengthCm=1.0, PetalWidthCm=0.2, Species=0, Species_OHE=SparseVector(3, {0: 1.0})),\n",
       " Row(SepalLengthCm=4.7, SepalWidthCm=3.2, PetalLengthCm=1.3, PetalWidthCm=0.2, Species=0, Species_OHE=SparseVector(3, {0: 1.0}))]"
      ]
     },
     "execution_count": 2,
     "metadata": {},
     "output_type": "execute_result"
    }
   ],
   "source": [
    "from pyspark.sql import SparkSession\n",
    "\n",
    "# Build the SparkSession\n",
    "spark = SparkSession.builder \\\n",
    "   .appName(\"NAS Iris\") \\\n",
    "   .getOrCreate()\n",
    "\n",
    "sc = spark.sparkContext\n",
    "\n",
    "from cerebro.backend import SparkBackend\n",
    "from cerebro.storage import LocalStore\n",
    "\n",
    "backend = SparkBackend(spark_context=sc, num_workers=1)\n",
    "store = LocalStore(prefix_path='/Users/zijian/Desktop/ucsd/cse234/project/cerebro-system/experiments')\n",
    "\n",
    "from pyspark.ml.feature import OneHotEncoderEstimator\n",
    "\n",
    "df = spark.read.csv(\"/Users/zijian/Desktop/ucsd/cse234/project/cerebro-system/Iris_clean.csv\", header=True, inferSchema=True)\n",
    "\n",
    "encoder = OneHotEncoderEstimator(dropLast=False)\n",
    "encoder.setInputCols([\"Species\"])\n",
    "encoder.setOutputCols([\"Species_OHE\"])\n",
    "\n",
    "encoder_model = encoder.fit(df)\n",
    "encoded = encoder_model.transform(df)\n",
    "train_df, test_df = encoded.randomSplit([0.8, 0.2])\n",
    "\n",
    "feature_columns=['SepalLengthCm', 'SepalWidthCm', 'PetalLengthCm', 'PetalWidthCm']\n",
    "label_columns=['Species_OHE']\n",
    "\n",
    "input_node = [ak.StructuredDataInput() for c in feature_columns]\n",
    "embeddings = [ak.StructuredDataBlock()(innode) for innode in input_node]\n",
    "output_node = ak.Merge()([embeddings])\n",
    "output_node = ak.ClassificationHead()(output_node)\n",
    "am = HyperHyperModel(\n",
    "    inputs=input_node, outputs=output_node, overwrite=True\n",
    ")\n",
    "\n",
    "am.resource_bind(\n",
    "    backend=backend, \n",
    "    store=store,\n",
    "    feature_columns=feature_columns,\n",
    "    label_columns=label_columns,\n",
    "    evaluation_metric='accuracy', \n",
    ")\n",
    "\n",
    "train_df.head(10)"
   ]
  },
  {
   "cell_type": "code",
   "execution_count": 3,
   "id": "b45bb36a",
   "metadata": {},
   "outputs": [
    {
     "name": "stdout",
     "output_type": "stream",
     "text": [
      "INFO:tensorflow:Reloading Oracle from existing project ./test/oracle.json\n",
      "INFO:tensorflow:Reloading Tuner from ./test/tuner0.json\n"
     ]
    },
    {
     "name": "stderr",
     "output_type": "stream",
     "text": [
      "2021-11-21 18:01:29.584433: I tensorflow/compiler/jit/xla_cpu_device.cc:41] Not creating XLA devices, tf_xla_enable_xla_devices not set\n",
      "2021-11-21 18:01:29.584715: I tensorflow/core/platform/cpu_feature_guard.cc:142] This TensorFlow binary is optimized with oneAPI Deep Neural Network Library (oneDNN) to use the following CPU instructions in performance-critical operations:  AVX2 FMA\n",
      "To enable them in other operations, rebuild TensorFlow with the appropriate compiler flags.\n"
     ]
    },
    {
     "name": "stdout",
     "output_type": "stream",
     "text": [
      "Search space summary\n",
      "Default search space size: 30\n",
      "structured_data_block_1/normalize (Boolean)\n",
      "{'default': False, 'conditions': []}\n",
      "structured_data_block_1/dense_block_1/use_batchnorm (Boolean)\n",
      "{'default': False, 'conditions': []}\n",
      "structured_data_block_1/dense_block_1/num_layers (Choice)\n",
      "{'default': 2, 'conditions': [], 'values': [1, 2, 3], 'ordered': True}\n",
      "structured_data_block_1/dense_block_1/units_0 (Choice)\n",
      "{'default': 32, 'conditions': [], 'values': [16, 32, 64, 128, 256, 512, 1024], 'ordered': True}\n",
      "structured_data_block_1/dense_block_1/dropout (Choice)\n",
      "{'default': 0.0, 'conditions': [], 'values': [0.0, 0.25, 0.5], 'ordered': True}\n",
      "structured_data_block_1/dense_block_1/units_1 (Choice)\n",
      "{'default': 32, 'conditions': [], 'values': [16, 32, 64, 128, 256, 512, 1024], 'ordered': True}\n",
      "structured_data_block_2/normalize (Boolean)\n",
      "{'default': False, 'conditions': []}\n",
      "structured_data_block_2/dense_block_2/use_batchnorm (Boolean)\n",
      "{'default': False, 'conditions': []}\n",
      "structured_data_block_2/dense_block_2/num_layers (Choice)\n",
      "{'default': 2, 'conditions': [], 'values': [1, 2, 3], 'ordered': True}\n",
      "structured_data_block_2/dense_block_2/units_0 (Choice)\n",
      "{'default': 32, 'conditions': [], 'values': [16, 32, 64, 128, 256, 512, 1024], 'ordered': True}\n",
      "structured_data_block_2/dense_block_2/dropout (Choice)\n",
      "{'default': 0.0, 'conditions': [], 'values': [0.0, 0.25, 0.5], 'ordered': True}\n",
      "structured_data_block_2/dense_block_2/units_1 (Choice)\n",
      "{'default': 32, 'conditions': [], 'values': [16, 32, 64, 128, 256, 512, 1024], 'ordered': True}\n",
      "structured_data_block_3/normalize (Boolean)\n",
      "{'default': False, 'conditions': []}\n",
      "structured_data_block_3/dense_block_3/use_batchnorm (Boolean)\n",
      "{'default': False, 'conditions': []}\n",
      "structured_data_block_3/dense_block_3/num_layers (Choice)\n",
      "{'default': 2, 'conditions': [], 'values': [1, 2, 3], 'ordered': True}\n",
      "structured_data_block_3/dense_block_3/units_0 (Choice)\n",
      "{'default': 32, 'conditions': [], 'values': [16, 32, 64, 128, 256, 512, 1024], 'ordered': True}\n",
      "structured_data_block_3/dense_block_3/dropout (Choice)\n",
      "{'default': 0.0, 'conditions': [], 'values': [0.0, 0.25, 0.5], 'ordered': True}\n",
      "structured_data_block_3/dense_block_3/units_1 (Choice)\n",
      "{'default': 32, 'conditions': [], 'values': [16, 32, 64, 128, 256, 512, 1024], 'ordered': True}\n",
      "structured_data_block_4/normalize (Boolean)\n",
      "{'default': False, 'conditions': []}\n",
      "structured_data_block_4/dense_block_4/use_batchnorm (Boolean)\n",
      "{'default': False, 'conditions': []}\n",
      "structured_data_block_4/dense_block_4/num_layers (Choice)\n",
      "{'default': 2, 'conditions': [], 'values': [1, 2, 3], 'ordered': True}\n",
      "structured_data_block_4/dense_block_4/units_0 (Choice)\n",
      "{'default': 32, 'conditions': [], 'values': [16, 32, 64, 128, 256, 512, 1024], 'ordered': True}\n",
      "structured_data_block_4/dense_block_4/dropout (Choice)\n",
      "{'default': 0.0, 'conditions': [], 'values': [0.0, 0.25, 0.5], 'ordered': True}\n",
      "structured_data_block_4/dense_block_4/units_1 (Choice)\n",
      "{'default': 32, 'conditions': [], 'values': [16, 32, 64, 128, 256, 512, 1024], 'ordered': True}\n",
      "merge_1/merge_type (Choice)\n",
      "{'default': 'add', 'conditions': [], 'values': ['add', 'concatenate'], 'ordered': False}\n",
      "classification_head_1/dropout (Choice)\n",
      "{'default': 0, 'conditions': [], 'values': [0.0, 0.25, 0.5], 'ordered': True}\n",
      "optimizer (Choice)\n",
      "{'default': 'adam', 'conditions': [], 'values': ['adam', 'sgd', 'adam_weight_decay'], 'ordered': False}\n",
      "learning_rate (Choice)\n",
      "{'default': 0.001, 'conditions': [], 'values': [0.1, 0.01, 0.001, 0.0001, 2e-05, 1e-05], 'ordered': True}\n",
      "structured_data_block_1/dense_block_1/units_2 (Choice)\n",
      "{'default': 32, 'conditions': [], 'values': [16, 32, 64, 128, 256, 512, 1024], 'ordered': True}\n",
      "structured_data_block_2/dense_block_2/units_2 (Choice)\n",
      "{'default': 32, 'conditions': [], 'values': [16, 32, 64, 128, 256, 512, 1024], 'ordered': True}\n"
     ]
    }
   ],
   "source": [
    "cuz_hps = HyperParameters()\n",
    "cuz_hps.Choice('learning_rate', values=[0.1,0.01])\n",
    "cuz_hps.Choice('batch_size', values=[32,64,128])\n",
    "\n",
    "am.tuner_bind(tuner=\"randomsearch\", hyperparameters=cuz_hps)\n",
    "am.test_tuner_space(df=train_df)\n",
    "\n",
    "am.tuner.search_space_summary()"
   ]
  },
  {
   "cell_type": "code",
   "execution_count": 9,
   "id": "cddd318c",
   "metadata": {},
   "outputs": [
    {
     "name": "stdout",
     "output_type": "stream",
     "text": [
      "{'learning_rate': 0.1, 'batch_size': 128, 'structured_data_block_1/normalize': False, 'structured_data_block_1/dense_block_1/use_batchnorm': True, 'structured_data_block_1/dense_block_1/num_layers': 2, 'structured_data_block_1/dense_block_1/units_0': 512, 'structured_data_block_1/dense_block_1/dropout': 0.25, 'structured_data_block_1/dense_block_1/units_1': 16, 'classification_head_1/dropout': 0.0, 'optimizer': 'sgd', 'structured_data_block_1/dense_block_1/units_2': 16, 'structured_data_block_2/normalize': True, 'structured_data_block_2/dense_block_2/use_batchnorm': True, 'structured_data_block_2/dense_block_2/num_layers': 3, 'structured_data_block_2/dense_block_2/units_0': 64, 'structured_data_block_2/dense_block_2/dropout': 0.0, 'structured_data_block_2/dense_block_2/units_1': 32, 'structured_data_block_3/normalize': False, 'structured_data_block_3/dense_block_3/use_batchnorm': True, 'structured_data_block_3/dense_block_3/num_layers': 1, 'structured_data_block_3/dense_block_3/units_0': 32, 'structured_data_block_3/dense_block_3/dropout': 0.5, 'structured_data_block_3/dense_block_3/units_1': 128, 'structured_data_block_4/normalize': True, 'structured_data_block_4/dense_block_4/use_batchnorm': False, 'structured_data_block_4/dense_block_4/num_layers': 2, 'structured_data_block_4/dense_block_4/units_0': 64, 'structured_data_block_4/dense_block_4/dropout': 0.0, 'structured_data_block_4/dense_block_4/units_1': 1024, 'merge_1/merge_type': 'concatenate'}\n",
      "{'learning_rate': 0.01, 'batch_size': 64, 'structured_data_block_1/normalize': False, 'structured_data_block_1/dense_block_1/use_batchnorm': True, 'structured_data_block_1/dense_block_1/num_layers': 1, 'structured_data_block_1/dense_block_1/units_0': 256, 'structured_data_block_1/dense_block_1/dropout': 0.25, 'structured_data_block_1/dense_block_1/units_1': 128, 'classification_head_1/dropout': 0.0, 'optimizer': 'adam', 'structured_data_block_1/dense_block_1/units_2': 512, 'structured_data_block_2/normalize': False, 'structured_data_block_2/dense_block_2/use_batchnorm': False, 'structured_data_block_2/dense_block_2/num_layers': 1, 'structured_data_block_2/dense_block_2/units_0': 256, 'structured_data_block_2/dense_block_2/dropout': 0.25, 'structured_data_block_2/dense_block_2/units_1': 128, 'structured_data_block_3/normalize': False, 'structured_data_block_3/dense_block_3/use_batchnorm': False, 'structured_data_block_3/dense_block_3/num_layers': 2, 'structured_data_block_3/dense_block_3/units_0': 256, 'structured_data_block_3/dense_block_3/dropout': 0.0, 'structured_data_block_3/dense_block_3/units_1': 512, 'structured_data_block_4/normalize': True, 'structured_data_block_4/dense_block_4/use_batchnorm': True, 'structured_data_block_4/dense_block_4/num_layers': 2, 'structured_data_block_4/dense_block_4/units_0': 16, 'structured_data_block_4/dense_block_4/dropout': 0.25, 'structured_data_block_4/dense_block_4/units_1': 512, 'merge_1/merge_type': 'concatenate'}\n"
     ]
    }
   ],
   "source": [
    "tuner = am.tuner\n",
    "\n",
    "trials = tuner.oracle.create_trials(2, tuner.tuner_id)\n",
    "for trial in trials:\n",
    "    print(trial.hyperparameters.values)"
   ]
  },
  {
   "cell_type": "code",
   "execution_count": 10,
   "id": "b7175a24",
   "metadata": {},
   "outputs": [
    {
     "data": {
      "text/plain": [
       "{'learning_rate': 0.01,\n",
       " 'batch_size': 64,\n",
       " 'structured_data_block_1/normalize': False,\n",
       " 'structured_data_block_1/dense_block_1/use_batchnorm': True,\n",
       " 'structured_data_block_1/dense_block_1/num_layers': 1,\n",
       " 'structured_data_block_1/dense_block_1/units_0': 256,\n",
       " 'structured_data_block_1/dense_block_1/dropout': 0.25,\n",
       " 'structured_data_block_1/dense_block_1/units_1': 128,\n",
       " 'classification_head_1/dropout': 0.0,\n",
       " 'optimizer': 'adam',\n",
       " 'structured_data_block_1/dense_block_1/units_2': 512,\n",
       " 'structured_data_block_2/normalize': False,\n",
       " 'structured_data_block_2/dense_block_2/use_batchnorm': False,\n",
       " 'structured_data_block_2/dense_block_2/num_layers': 1,\n",
       " 'structured_data_block_2/dense_block_2/units_0': 256,\n",
       " 'structured_data_block_2/dense_block_2/dropout': 0.25,\n",
       " 'structured_data_block_2/dense_block_2/units_1': 128,\n",
       " 'structured_data_block_3/normalize': False,\n",
       " 'structured_data_block_3/dense_block_3/use_batchnorm': False,\n",
       " 'structured_data_block_3/dense_block_3/num_layers': 2,\n",
       " 'structured_data_block_3/dense_block_3/units_0': 256,\n",
       " 'structured_data_block_3/dense_block_3/dropout': 0.0,\n",
       " 'structured_data_block_3/dense_block_3/units_1': 512,\n",
       " 'structured_data_block_4/normalize': True,\n",
       " 'structured_data_block_4/dense_block_4/use_batchnorm': True,\n",
       " 'structured_data_block_4/dense_block_4/num_layers': 2,\n",
       " 'structured_data_block_4/dense_block_4/units_0': 16,\n",
       " 'structured_data_block_4/dense_block_4/dropout': 0.25,\n",
       " 'structured_data_block_4/dense_block_4/units_1': 512,\n",
       " 'merge_1/merge_type': 'concatenate'}"
      ]
     },
     "execution_count": 10,
     "metadata": {},
     "output_type": "execute_result"
    }
   ],
   "source": [
    "kt_trial = tuner.oracle.create_trial(tuner.tuner_id)\n",
    "kt_trial.hyperparameters.values"
   ]
  },
  {
   "cell_type": "code",
   "execution_count": 12,
   "id": "f80566f1",
   "metadata": {},
   "outputs": [
    {
     "data": {
      "text/plain": [
       "'loss'"
      ]
     },
     "execution_count": 12,
     "metadata": {},
     "output_type": "execute_result"
    }
   ],
   "source": [
    "am.model_selection.evaluation_metric"
   ]
  },
  {
   "cell_type": "code",
   "execution_count": 10,
   "id": "4189895c",
   "metadata": {},
   "outputs": [],
   "source": [
    "model = tuner.hypermodel.build(kt_trial.hyperparameters)"
   ]
  },
  {
   "cell_type": "code",
   "execution_count": 11,
   "id": "e0b5e49b",
   "metadata": {},
   "outputs": [
    {
     "data": {
      "text/plain": [
       "<autokeras.keras_layers.AdamWeightDecay at 0x17f9b9810>"
      ]
     },
     "execution_count": 11,
     "metadata": {},
     "output_type": "execute_result"
    }
   ],
   "source": [
    "model.optimizer"
   ]
  },
  {
   "cell_type": "code",
   "execution_count": 12,
   "id": "1d955f8c",
   "metadata": {},
   "outputs": [
    {
     "data": {
      "text/plain": [
       "{'classification_head_1': <tensorflow.python.keras.losses.CategoricalCrossentropy at 0x17f754b10>}"
      ]
     },
     "execution_count": 12,
     "metadata": {},
     "output_type": "execute_result"
    }
   ],
   "source": [
    "tuner.hypermodel.hypermodel._get_loss()"
   ]
  },
  {
   "cell_type": "code",
   "execution_count": 13,
   "id": "ba68147f",
   "metadata": {},
   "outputs": [
    {
     "data": {
      "text/plain": [
       "dict_values([['accuracy']])"
      ]
     },
     "execution_count": 13,
     "metadata": {},
     "output_type": "execute_result"
    }
   ],
   "source": [
    "tuner.hypermodel.hypermodel._get_metrics().values()"
   ]
  },
  {
   "cell_type": "code",
   "execution_count": 14,
   "id": "f4ac1da2",
   "metadata": {},
   "outputs": [
    {
     "data": {
      "text/plain": [
       "32"
      ]
     },
     "execution_count": 14,
     "metadata": {},
     "output_type": "execute_result"
    }
   ],
   "source": [
    "tuner.hypermodel.hypermodel.batch_size"
   ]
  },
  {
   "cell_type": "code",
   "execution_count": 15,
   "id": "297c4cd0",
   "metadata": {},
   "outputs": [
    {
     "data": {
      "text/plain": [
       "{'name': 'model',\n",
       " 'layers': [{'class_name': 'InputLayer',\n",
       "   'config': {'batch_input_shape': (None, 1),\n",
       "    'dtype': 'float64',\n",
       "    'sparse': False,\n",
       "    'ragged': False,\n",
       "    'name': 'input_1'},\n",
       "   'name': 'input_1',\n",
       "   'inbound_nodes': []},\n",
       "  {'class_name': 'Custom>MultiCategoryEncoding',\n",
       "   'config': {'name': 'multi_category_encoding',\n",
       "    'trainable': True,\n",
       "    'dtype': 'float32',\n",
       "    'encoding': ListWrapper(['none'])},\n",
       "   'name': 'multi_category_encoding',\n",
       "   'inbound_nodes': [[['input_1', 0, 0, {}]]]},\n",
       "  {'class_name': 'Dense',\n",
       "   'config': {'name': 'dense',\n",
       "    'trainable': True,\n",
       "    'dtype': 'float32',\n",
       "    'units': 512,\n",
       "    'activation': 'linear',\n",
       "    'use_bias': True,\n",
       "    'kernel_initializer': {'class_name': 'GlorotUniform',\n",
       "     'config': {'seed': None}},\n",
       "    'bias_initializer': {'class_name': 'Zeros', 'config': {}},\n",
       "    'kernel_regularizer': None,\n",
       "    'bias_regularizer': None,\n",
       "    'activity_regularizer': None,\n",
       "    'kernel_constraint': None,\n",
       "    'bias_constraint': None},\n",
       "   'name': 'dense',\n",
       "   'inbound_nodes': [[['multi_category_encoding', 0, 0, {}]]]},\n",
       "  {'class_name': 'BatchNormalization',\n",
       "   'config': {'name': 'batch_normalization',\n",
       "    'trainable': True,\n",
       "    'dtype': 'float32',\n",
       "    'axis': ListWrapper([1]),\n",
       "    'momentum': 0.99,\n",
       "    'epsilon': 0.001,\n",
       "    'center': True,\n",
       "    'scale': True,\n",
       "    'beta_initializer': {'class_name': 'Zeros', 'config': {}},\n",
       "    'gamma_initializer': {'class_name': 'Ones', 'config': {}},\n",
       "    'moving_mean_initializer': {'class_name': 'Zeros', 'config': {}},\n",
       "    'moving_variance_initializer': {'class_name': 'Ones', 'config': {}},\n",
       "    'beta_regularizer': None,\n",
       "    'gamma_regularizer': None,\n",
       "    'beta_constraint': None,\n",
       "    'gamma_constraint': None},\n",
       "   'name': 'batch_normalization',\n",
       "   'inbound_nodes': [[['dense', 0, 0, {}]]]},\n",
       "  {'class_name': 'ReLU',\n",
       "   'config': {'name': 're_lu',\n",
       "    'trainable': True,\n",
       "    'dtype': 'float32',\n",
       "    'max_value': None,\n",
       "    'negative_slope': array(0., dtype=float32),\n",
       "    'threshold': array(0., dtype=float32)},\n",
       "   'name': 're_lu',\n",
       "   'inbound_nodes': [[['batch_normalization', 0, 0, {}]]]},\n",
       "  {'class_name': 'Dropout',\n",
       "   'config': {'name': 'dropout',\n",
       "    'trainable': True,\n",
       "    'dtype': 'float32',\n",
       "    'rate': 0.5,\n",
       "    'noise_shape': None,\n",
       "    'seed': None},\n",
       "   'name': 'dropout',\n",
       "   'inbound_nodes': [[['re_lu', 0, 0, {}]]]},\n",
       "  {'class_name': 'Dense',\n",
       "   'config': {'name': 'dense_1',\n",
       "    'trainable': True,\n",
       "    'dtype': 'float32',\n",
       "    'units': 128,\n",
       "    'activation': 'linear',\n",
       "    'use_bias': True,\n",
       "    'kernel_initializer': {'class_name': 'GlorotUniform',\n",
       "     'config': {'seed': None}},\n",
       "    'bias_initializer': {'class_name': 'Zeros', 'config': {}},\n",
       "    'kernel_regularizer': None,\n",
       "    'bias_regularizer': None,\n",
       "    'activity_regularizer': None,\n",
       "    'kernel_constraint': None,\n",
       "    'bias_constraint': None},\n",
       "   'name': 'dense_1',\n",
       "   'inbound_nodes': [[['dropout', 0, 0, {}]]]},\n",
       "  {'class_name': 'BatchNormalization',\n",
       "   'config': {'name': 'batch_normalization_1',\n",
       "    'trainable': True,\n",
       "    'dtype': 'float32',\n",
       "    'axis': ListWrapper([1]),\n",
       "    'momentum': 0.99,\n",
       "    'epsilon': 0.001,\n",
       "    'center': True,\n",
       "    'scale': True,\n",
       "    'beta_initializer': {'class_name': 'Zeros', 'config': {}},\n",
       "    'gamma_initializer': {'class_name': 'Ones', 'config': {}},\n",
       "    'moving_mean_initializer': {'class_name': 'Zeros', 'config': {}},\n",
       "    'moving_variance_initializer': {'class_name': 'Ones', 'config': {}},\n",
       "    'beta_regularizer': None,\n",
       "    'gamma_regularizer': None,\n",
       "    'beta_constraint': None,\n",
       "    'gamma_constraint': None},\n",
       "   'name': 'batch_normalization_1',\n",
       "   'inbound_nodes': [[['dense_1', 0, 0, {}]]]},\n",
       "  {'class_name': 'ReLU',\n",
       "   'config': {'name': 're_lu_1',\n",
       "    'trainable': True,\n",
       "    'dtype': 'float32',\n",
       "    'max_value': None,\n",
       "    'negative_slope': array(0., dtype=float32),\n",
       "    'threshold': array(0., dtype=float32)},\n",
       "   'name': 're_lu_1',\n",
       "   'inbound_nodes': [[['batch_normalization_1', 0, 0, {}]]]},\n",
       "  {'class_name': 'Dropout',\n",
       "   'config': {'name': 'dropout_1',\n",
       "    'trainable': True,\n",
       "    'dtype': 'float32',\n",
       "    'rate': 0.5,\n",
       "    'noise_shape': None,\n",
       "    'seed': None},\n",
       "   'name': 'dropout_1',\n",
       "   'inbound_nodes': [[['re_lu_1', 0, 0, {}]]]},\n",
       "  {'class_name': 'Dense',\n",
       "   'config': {'name': 'dense_2',\n",
       "    'trainable': True,\n",
       "    'dtype': 'float32',\n",
       "    'units': 1,\n",
       "    'activation': 'linear',\n",
       "    'use_bias': True,\n",
       "    'kernel_initializer': {'class_name': 'GlorotUniform',\n",
       "     'config': {'seed': None}},\n",
       "    'bias_initializer': {'class_name': 'Zeros', 'config': {}},\n",
       "    'kernel_regularizer': None,\n",
       "    'bias_regularizer': None,\n",
       "    'activity_regularizer': None,\n",
       "    'kernel_constraint': None,\n",
       "    'bias_constraint': None},\n",
       "   'name': 'dense_2',\n",
       "   'inbound_nodes': [[['dropout_1', 0, 0, {}]]]},\n",
       "  {'class_name': 'InputLayer',\n",
       "   'config': {'batch_input_shape': (None, 1),\n",
       "    'dtype': 'float64',\n",
       "    'sparse': False,\n",
       "    'ragged': False,\n",
       "    'name': 'input_2'},\n",
       "   'name': 'input_2',\n",
       "   'inbound_nodes': []},\n",
       "  {'class_name': 'InputLayer',\n",
       "   'config': {'batch_input_shape': (None, 1),\n",
       "    'dtype': 'float64',\n",
       "    'sparse': False,\n",
       "    'ragged': False,\n",
       "    'name': 'input_3'},\n",
       "   'name': 'input_3',\n",
       "   'inbound_nodes': []},\n",
       "  {'class_name': 'InputLayer',\n",
       "   'config': {'batch_input_shape': (None, 1),\n",
       "    'dtype': 'float64',\n",
       "    'sparse': False,\n",
       "    'ragged': False,\n",
       "    'name': 'input_4'},\n",
       "   'name': 'input_4',\n",
       "   'inbound_nodes': []},\n",
       "  {'class_name': 'Softmax',\n",
       "   'config': {'name': 'classification_head_1',\n",
       "    'trainable': True,\n",
       "    'dtype': 'float32',\n",
       "    'axis': -1},\n",
       "   'name': 'classification_head_1',\n",
       "   'inbound_nodes': [[['dense_2', 0, 0, {}]]]}],\n",
       " 'input_layers': [['input_1', 0, 0],\n",
       "  ['input_2', 0, 0],\n",
       "  ['input_3', 0, 0],\n",
       "  ['input_4', 0, 0]],\n",
       " 'output_layers': [['classification_head_1', 0, 0]]}"
      ]
     },
     "execution_count": 15,
     "metadata": {},
     "output_type": "execute_result"
    }
   ],
   "source": [
    "model.get_config()"
   ]
  },
  {
   "cell_type": "code",
   "execution_count": 38,
   "id": "36470060",
   "metadata": {},
   "outputs": [
    {
     "data": {
      "text/plain": [
       "[]"
      ]
     },
     "execution_count": 38,
     "metadata": {},
     "output_type": "execute_result"
    }
   ],
   "source": [
    "model.metrics_names"
   ]
  },
  {
   "cell_type": "code",
   "execution_count": 16,
   "id": "b828bc67",
   "metadata": {},
   "outputs": [
    {
     "data": {
      "text/plain": [
       "{'Custom>CastToFloat32': autokeras.keras_layers.CastToFloat32,\n",
       " 'Custom>ExpandLastDim': autokeras.keras_layers.ExpandLastDim,\n",
       " 'Custom>MultiCategoryEncoding': autokeras.keras_layers.MultiCategoryEncoding,\n",
       " 'Custom>BertTokenizer': autokeras.keras_layers.BertTokenizer,\n",
       " 'Custom>BertEncoder': autokeras.keras_layers.BertEncoder,\n",
       " 'Custom>AdamWeightDecay': autokeras.keras_layers.AdamWeightDecay,\n",
       " 'Custom>WarmUp': autokeras.keras_layers.WarmUp,\n",
       " 'Custom>gelu': <function autokeras.keras_layers.gelu(x)>,\n",
       " 'Custom>OnDeviceEmbedding': autokeras.keras_layers.OnDeviceEmbedding,\n",
       " 'Custom>PositionEmbedding': autokeras.keras_layers.PositionEmbedding,\n",
       " 'Custom>SelfAttentionMask': autokeras.keras_layers.SelfAttentionMask,\n",
       " 'Custom>Transformer': autokeras.keras_layers.Transformer,\n",
       " 'Custom>MultiHeadAttention': autokeras.keras_layers.MultiHeadAttention,\n",
       " 'Custom>DenseEinsum': autokeras.keras_layers.DenseEinsum,\n",
       " 'Custom>MaskedSoftmax': autokeras.keras_layers.MaskedSoftmax}"
      ]
     },
     "execution_count": 16,
     "metadata": {},
     "output_type": "execute_result"
    }
   ],
   "source": [
    "tf.keras.utils.get_custom_objects()"
   ]
  },
  {
   "cell_type": "code",
   "execution_count": 19,
   "id": "4d6f0a31",
   "metadata": {},
   "outputs": [
    {
     "name": "stderr",
     "output_type": "stream",
     "text": [
      "2021-11-20 22:00:19.559444: I tensorflow/compiler/mlir/mlir_graph_optimization_pass.cc:116] None of the MLIR optimization passes are enabled (registered 2)\n"
     ]
    }
   ],
   "source": [
    "xtmp = [x_train[:,i,np.newaxis] for i in range(x_train.shape[1])]\n",
    "dataset, validation_data = am._convert_to_dataset(\n",
    "            x=xtmp, y=y_train, validation_data=None, batch_size=32\n",
    "        )\n",
    "ests = tuner.trials2estimators(trials, dataset)"
   ]
  },
  {
   "cell_type": "code",
   "execution_count": 20,
   "id": "87639985",
   "metadata": {},
   "outputs": [
    {
     "data": {
      "text/plain": [
       "{'Custom>CastToFloat32': autokeras.keras_layers.CastToFloat32,\n",
       " 'Custom>ExpandLastDim': autokeras.keras_layers.ExpandLastDim,\n",
       " 'Custom>MultiCategoryEncoding': autokeras.keras_layers.MultiCategoryEncoding,\n",
       " 'Custom>BertTokenizer': autokeras.keras_layers.BertTokenizer,\n",
       " 'Custom>BertEncoder': autokeras.keras_layers.BertEncoder,\n",
       " 'Custom>AdamWeightDecay': autokeras.keras_layers.AdamWeightDecay,\n",
       " 'Custom>WarmUp': autokeras.keras_layers.WarmUp,\n",
       " 'Custom>gelu': <function autokeras.keras_layers.gelu(x)>,\n",
       " 'Custom>OnDeviceEmbedding': autokeras.keras_layers.OnDeviceEmbedding,\n",
       " 'Custom>PositionEmbedding': autokeras.keras_layers.PositionEmbedding,\n",
       " 'Custom>SelfAttentionMask': autokeras.keras_layers.SelfAttentionMask,\n",
       " 'Custom>Transformer': autokeras.keras_layers.Transformer,\n",
       " 'Custom>MultiHeadAttention': autokeras.keras_layers.MultiHeadAttention,\n",
       " 'Custom>DenseEinsum': autokeras.keras_layers.DenseEinsum,\n",
       " 'Custom>MaskedSoftmax': autokeras.keras_layers.MaskedSoftmax}"
      ]
     },
     "execution_count": 20,
     "metadata": {},
     "output_type": "execute_result"
    }
   ],
   "source": [
    "ests[0].getCustomObjects()"
   ]
  },
  {
   "cell_type": "code",
   "execution_count": 21,
   "id": "d0c87361",
   "metadata": {},
   "outputs": [
    {
     "data": {
      "text/plain": [
       "([[-1, 1], [-1, 1], [-1, 1], [-1, 1]], [[-1, 1]])"
      ]
     },
     "execution_count": 21,
     "metadata": {},
     "output_type": "execute_result"
    }
   ],
   "source": [
    "ests[0].get_model_shapes()"
   ]
  },
  {
   "cell_type": "code",
   "execution_count": 22,
   "id": "b10140a5",
   "metadata": {},
   "outputs": [
    {
     "data": {
      "text/plain": [
       "<tensorflow.python.keras.engine.functional.Functional at 0x17f926090>"
      ]
     },
     "execution_count": 22,
     "metadata": {},
     "output_type": "execute_result"
    }
   ],
   "source": [
    "model = ests[0].getModel()\n",
    "model"
   ]
  },
  {
   "cell_type": "code",
   "execution_count": 23,
   "id": "7a334772",
   "metadata": {},
   "outputs": [
    {
     "data": {
      "text/plain": [
       "[<KerasTensor: shape=(None, 1) dtype=float64 (created by layer 'input_1')>,\n",
       " <KerasTensor: shape=(None, 1) dtype=float64 (created by layer 'input_2')>,\n",
       " <KerasTensor: shape=(None, 1) dtype=float64 (created by layer 'input_3')>,\n",
       " <KerasTensor: shape=(None, 1) dtype=float64 (created by layer 'input_4')>]"
      ]
     },
     "execution_count": 23,
     "metadata": {},
     "output_type": "execute_result"
    }
   ],
   "source": [
    "model.inputs"
   ]
  },
  {
   "cell_type": "code",
   "execution_count": 24,
   "id": "f5084e96",
   "metadata": {},
   "outputs": [
    {
     "data": {
      "text/plain": [
       "[<KerasTensor: shape=(None, 1) dtype=float32 (created by layer 'classification_head_1')>]"
      ]
     },
     "execution_count": 24,
     "metadata": {},
     "output_type": "execute_result"
    }
   ],
   "source": [
    "model.outputs"
   ]
  },
  {
   "cell_type": "code",
   "execution_count": 25,
   "id": "dc3c7553",
   "metadata": {},
   "outputs": [
    {
     "data": {
      "text/plain": [
       "[['accuracy']]"
      ]
     },
     "execution_count": 25,
     "metadata": {},
     "output_type": "execute_result"
    }
   ],
   "source": [
    "ests[0].getMetrics()"
   ]
  },
  {
   "cell_type": "code",
   "execution_count": 26,
   "id": "b99574ea",
   "metadata": {},
   "outputs": [
    {
     "ename": "TypeError",
     "evalue": "can only concatenate str (not \"list\") to str",
     "output_type": "error",
     "traceback": [
      "\u001b[0;31m---------------------------------------------------------------------------\u001b[0m",
      "\u001b[0;31mTypeError\u001b[0m                                 Traceback (most recent call last)",
      "\u001b[0;32m/var/folders/dg/4jghvsmd1dl77gj1fqmzzf_80000gn/T/ipykernel_35039/2351357538.py\u001b[0m in \u001b[0;36m<module>\u001b[0;34m\u001b[0m\n\u001b[0;32m----> 1\u001b[0;31m \u001b[0;34m[\u001b[0m\u001b[0;34m\"val_\"\u001b[0m \u001b[0;34m+\u001b[0m \u001b[0mname\u001b[0m \u001b[0;32mfor\u001b[0m \u001b[0mname\u001b[0m \u001b[0;32min\u001b[0m \u001b[0mests\u001b[0m\u001b[0;34m[\u001b[0m\u001b[0;36m0\u001b[0m\u001b[0;34m]\u001b[0m\u001b[0;34m.\u001b[0m\u001b[0mgetMetrics\u001b[0m\u001b[0;34m(\u001b[0m\u001b[0;34m)\u001b[0m\u001b[0;34m]\u001b[0m\u001b[0;34m\u001b[0m\u001b[0;34m\u001b[0m\u001b[0m\n\u001b[0m",
      "\u001b[0;32m/var/folders/dg/4jghvsmd1dl77gj1fqmzzf_80000gn/T/ipykernel_35039/2351357538.py\u001b[0m in \u001b[0;36m<listcomp>\u001b[0;34m(.0)\u001b[0m\n\u001b[0;32m----> 1\u001b[0;31m \u001b[0;34m[\u001b[0m\u001b[0;34m\"val_\"\u001b[0m \u001b[0;34m+\u001b[0m \u001b[0mname\u001b[0m \u001b[0;32mfor\u001b[0m \u001b[0mname\u001b[0m \u001b[0;32min\u001b[0m \u001b[0mests\u001b[0m\u001b[0;34m[\u001b[0m\u001b[0;36m0\u001b[0m\u001b[0;34m]\u001b[0m\u001b[0;34m.\u001b[0m\u001b[0mgetMetrics\u001b[0m\u001b[0;34m(\u001b[0m\u001b[0;34m)\u001b[0m\u001b[0;34m]\u001b[0m\u001b[0;34m\u001b[0m\u001b[0;34m\u001b[0m\u001b[0m\n\u001b[0m",
      "\u001b[0;31mTypeError\u001b[0m: can only concatenate str (not \"list\") to str"
     ]
    }
   ],
   "source": [
    "[\"val_\" + name for name in ests[0].getMetrics()]"
   ]
  },
  {
   "cell_type": "code",
   "execution_count": 27,
   "id": "ac8b85a7",
   "metadata": {},
   "outputs": [
    {
     "data": {
      "text/plain": [
       "[['accuracy']]"
      ]
     },
     "execution_count": 27,
     "metadata": {},
     "output_type": "execute_result"
    }
   ],
   "source": [
    "[name for name in ests[0].getMetrics()]"
   ]
  },
  {
   "cell_type": "code",
   "execution_count": 28,
   "id": "4a81d1f1",
   "metadata": {},
   "outputs": [
    {
     "data": {
      "text/plain": [
       "{'classification_head_1': ['accuracy']}"
      ]
     },
     "execution_count": 28,
     "metadata": {},
     "output_type": "execute_result"
    }
   ],
   "source": [
    "tuner.hypermodel.hypermodel._get_metrics()"
   ]
  },
  {
   "cell_type": "code",
   "execution_count": 29,
   "id": "8468b5fd",
   "metadata": {},
   "outputs": [],
   "source": [
    "tuner.hypermodel.hypermodel._get_metrics()"
   ]
  },
  {
   "cell_type": "code",
   "execution_count": 1,
   "id": "345ef34a",
   "metadata": {},
   "outputs": [
    {
     "name": "stderr",
     "output_type": "stream",
     "text": [
      "21/11/22 03:02:21 WARN NativeCodeLoader: Unable to load native-hadoop library for your platform... using builtin-java classes where applicable\n",
      "Using Spark's default log4j profile: org/apache/spark/log4j-defaults.properties\n",
      "Setting default log level to \"WARN\".\n",
      "To adjust logging level use sc.setLogLevel(newLevel). For SparkR, use setLogLevel(newLevel).\n",
      "21/11/22 03:02:21 WARN Utils: Service 'SparkUI' could not bind on port 4040. Attempting port 4041.\n"
     ]
    },
    {
     "name": "stdout",
     "output_type": "stream",
     "text": [
      "CEREBRO => Time: 2021-11-22 03:02:22, Running 1 Workers\n"
     ]
    }
   ],
   "source": [
    "from cerebro.backend import SparkBackend\n",
    "from cerebro.keras import SparkEstimator\n",
    "\n",
    "# datas storage for intermediate data and model artifacts.\n",
    "from cerebro.storage import LocalStore, HDFSStore\n",
    "\n",
    "# Model selection/AutoML methods.\n",
    "from cerebro.tune import GridSearch, RandomSearch, TPESearch\n",
    "\n",
    "# Utility functions for specifying the search space.\n",
    "from cerebro.tune import hp_choice, hp_uniform, hp_quniform, hp_loguniform, hp_qloguniform\n",
    "\n",
    "import tensorflow as tf\n",
    "# tf.config.run_functions_eagerly(True)\n",
    "\n",
    "from pyspark.sql import SparkSession\n",
    "\n",
    "\n",
    "spark = SparkSession \\\n",
    "    .builder \\\n",
    "    .appName(\"Cerebro Iris\") \\\n",
    "    .getOrCreate()\n",
    "\n",
    "...\n",
    "\n",
    "backend = SparkBackend(spark_context=spark.sparkContext, num_workers=1)\n",
    "store = LocalStore(prefix_path='/Users/zijian/Desktop/ucsd/cse234/project/cerebro-system/experiments')\n",
    "\n",
    "from pyspark.ml.feature import OneHotEncoderEstimator\n",
    "\n",
    "df = spark.read.csv(\"/Users/zijian/Desktop/ucsd/cse234/project/cerebro-system/Iris_clean.csv\", header=True, inferSchema=True)\n",
    "\n",
    "encoder = OneHotEncoderEstimator(dropLast=False)\n",
    "encoder.setInputCols([\"Species\"])\n",
    "encoder.setOutputCols([\"Species_OHE\"])\n",
    "\n",
    "encoder_model = encoder.fit(df)\n",
    "encoded = encoder_model.transform(df)\n",
    "\n",
    "feature_columns=['SepalLengthCm', 'SepalWidthCm', 'PetalLengthCm', 'PetalWidthCm']\n",
    "label_columns=['Species_OHE']\n",
    "\n",
    "# Initialize input DataFrames.\n",
    "# You can download sample dataset from https://apache.googlesource.com/spark/+/master/data/mllib/sample_libsvm_data.txt\n",
    "\n",
    "train_df, test_df = encoded.randomSplit([0.8, 0.2])"
   ]
  },
  {
   "cell_type": "code",
   "execution_count": 2,
   "id": "ac231df5",
   "metadata": {},
   "outputs": [],
   "source": [
    "import numpy as np\n",
    "\n",
    "x_train = np.array(train_df.select(feature_columns).collect())\n",
    "y_train = np.array(train_df.select(label_columns).collect())\n",
    "x_train = [x_train[:,i,np.newaxis] for i in range(x_train.shape[1])]\n",
    "y_train = np.squeeze(y_train,1)"
   ]
  },
  {
   "cell_type": "code",
   "execution_count": 3,
   "id": "a11684f7",
   "metadata": {},
   "outputs": [
    {
     "name": "stderr",
     "output_type": "stream",
     "text": [
      "2021-11-22 03:02:26.737898: I tensorflow/compiler/jit/xla_cpu_device.cc:41] Not creating XLA devices, tf_xla_enable_xla_devices not set\n",
      "2021-11-22 03:02:26.738147: I tensorflow/core/platform/cpu_feature_guard.cc:142] This TensorFlow binary is optimized with oneAPI Deep Neural Network Library (oneDNN) to use the following CPU instructions in performance-critical operations:  AVX2 FMA\n",
      "To enable them in other operations, rebuild TensorFlow with the appropriate compiler flags.\n"
     ]
    }
   ],
   "source": [
    "inputs = [tf.keras.Input(shape=(1,)) for col in feature_columns]\n",
    "concat = tf.keras.layers.Concatenate()(inputs)\n",
    "output1 = tf.keras.layers.Dense(32, activation=tf.nn.relu)(concat)\n",
    "output2 = tf.keras.layers.Dense(32, activation=tf.nn.relu)(output1)\n",
    "output = tf.keras.layers.Dense(3, activation=tf.nn.softmax)(output2)\n",
    "model = tf.keras.Model(inputs, output)"
   ]
  },
  {
   "cell_type": "code",
   "execution_count": 4,
   "id": "05c9635a",
   "metadata": {},
   "outputs": [],
   "source": [
    "model.compile(\n",
    "    loss='categorical_crossentropy',\n",
    "    optimizer=tf.keras.optimizers.Adam(learning_rate=0.01),\n",
    "    metrics=['accuracy'],\n",
    ")"
   ]
  },
  {
   "cell_type": "code",
   "execution_count": 5,
   "id": "6c6e1e9f",
   "metadata": {},
   "outputs": [
    {
     "name": "stdout",
     "output_type": "stream",
     "text": [
      "Model: \"model\"\n",
      "__________________________________________________________________________________________________\n",
      "Layer (type)                    Output Shape         Param #     Connected to                     \n",
      "==================================================================================================\n",
      "input_1 (InputLayer)            [(None, 1)]          0                                            \n",
      "__________________________________________________________________________________________________\n",
      "input_2 (InputLayer)            [(None, 1)]          0                                            \n",
      "__________________________________________________________________________________________________\n",
      "input_3 (InputLayer)            [(None, 1)]          0                                            \n",
      "__________________________________________________________________________________________________\n",
      "input_4 (InputLayer)            [(None, 1)]          0                                            \n",
      "__________________________________________________________________________________________________\n",
      "concatenate (Concatenate)       (None, 4)            0           input_1[0][0]                    \n",
      "                                                                 input_2[0][0]                    \n",
      "                                                                 input_3[0][0]                    \n",
      "                                                                 input_4[0][0]                    \n",
      "__________________________________________________________________________________________________\n",
      "dense (Dense)                   (None, 32)           160         concatenate[0][0]                \n",
      "__________________________________________________________________________________________________\n",
      "dense_1 (Dense)                 (None, 32)           1056        dense[0][0]                      \n",
      "__________________________________________________________________________________________________\n",
      "dense_2 (Dense)                 (None, 3)            99          dense_1[0][0]                    \n",
      "==================================================================================================\n",
      "Total params: 1,315\n",
      "Trainable params: 1,315\n",
      "Non-trainable params: 0\n",
      "__________________________________________________________________________________________________\n"
     ]
    }
   ],
   "source": [
    "model.summary()"
   ]
  },
  {
   "cell_type": "code",
   "execution_count": 6,
   "id": "20b9bcf9",
   "metadata": {},
   "outputs": [
    {
     "name": "stderr",
     "output_type": "stream",
     "text": [
      "2021-11-22 03:02:26.936090: I tensorflow/compiler/mlir/mlir_graph_optimization_pass.cc:116] None of the MLIR optimization passes are enabled (registered 2)\n"
     ]
    },
    {
     "name": "stdout",
     "output_type": "stream",
     "text": [
      "Epoch 1/10\n",
      "8/8 [==============================] - 0s 905us/step - loss: 1.3662 - accuracy: 0.4129\n",
      "Epoch 2/10\n",
      "8/8 [==============================] - 0s 871us/step - loss: 0.7230 - accuracy: 0.7646\n",
      "Epoch 3/10\n",
      "8/8 [==============================] - 0s 825us/step - loss: 0.4949 - accuracy: 0.7694\n",
      "Epoch 4/10\n",
      "8/8 [==============================] - 0s 1ms/step - loss: 0.3924 - accuracy: 0.9330\n",
      "Epoch 5/10\n",
      "8/8 [==============================] - 0s 977us/step - loss: 0.3248 - accuracy: 0.8955\n",
      "Epoch 6/10\n",
      "8/8 [==============================] - 0s 1ms/step - loss: 0.2718 - accuracy: 0.8960\n",
      "Epoch 7/10\n",
      "8/8 [==============================] - 0s 1ms/step - loss: 0.1614 - accuracy: 0.9420\n",
      "Epoch 8/10\n",
      "8/8 [==============================] - 0s 955us/step - loss: 0.1841 - accuracy: 0.9186\n",
      "Epoch 9/10\n",
      "8/8 [==============================] - 0s 1ms/step - loss: 0.1407 - accuracy: 0.9588\n",
      "Epoch 10/10\n",
      "8/8 [==============================] - 0s 1ms/step - loss: 0.1195 - accuracy: 0.9666\n"
     ]
    }
   ],
   "source": [
    "hist = model.fit(x_train, y_train, batch_size=16, epochs=10, verbose=1)"
   ]
  },
  {
   "cell_type": "code",
   "execution_count": 37,
   "id": "0ddd7634",
   "metadata": {},
   "outputs": [
    {
     "name": "stdout",
     "output_type": "stream",
     "text": [
      "1/1 [==============================] - 0s 118ms/step - loss: 0.1222 - accuracy: 0.9655\n"
     ]
    },
    {
     "data": {
      "text/plain": [
       "[0.12223644554615021, 0.9655172228813171]"
      ]
     },
     "execution_count": 37,
     "metadata": {},
     "output_type": "execute_result"
    }
   ],
   "source": [
    "x_test = np.array(test_df.select(feature_columns).collect())\n",
    "y_test = np.array(test_df.select(label_columns).collect())\n",
    "x_test = [x_test[:,i,np.newaxis] for i in range(x_test.shape[1])]\n",
    "y_test = np.squeeze(y_test,1)\n",
    "\n",
    "model.evaluate(x_test, y_test)"
   ]
  },
  {
   "cell_type": "code",
   "execution_count": null,
   "id": "2f58a691",
   "metadata": {},
   "outputs": [],
   "source": []
  }
 ],
 "metadata": {
  "kernelspec": {
   "display_name": "Python 3 (ipykernel)",
   "language": "python",
   "name": "python3"
  },
  "language_info": {
   "codemirror_mode": {
    "name": "ipython",
    "version": 3
   },
   "file_extension": ".py",
   "mimetype": "text/x-python",
   "name": "python",
   "nbconvert_exporter": "python",
   "pygments_lexer": "ipython3",
   "version": "3.7.6"
  }
 },
 "nbformat": 4,
 "nbformat_minor": 5
}
