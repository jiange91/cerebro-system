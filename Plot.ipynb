{
 "cells": [
  {
   "cell_type": "code",
   "execution_count": 3,
   "id": "42b178e0",
   "metadata": {},
   "outputs": [],
   "source": [
    "import numpy as np\n",
    "import matplotlib.pyplot as plt"
   ]
  },
  {
   "cell_type": "code",
   "execution_count": 4,
   "id": "5b72d669",
   "metadata": {
    "scrolled": true
   },
   "outputs": [
    {
     "data": {
      "text/plain": [
       "array([[[0.66370754, 0.43756811],\n",
       "        [0.53267747, 0.94315197],\n",
       "        [0.52731374, 0.18801202],\n",
       "        [0.52795728, 0.17521083],\n",
       "        [0.91165383, 0.92010432]],\n",
       "\n",
       "       [[0.77971852, 0.75242118],\n",
       "        [0.7289323 , 0.42549784],\n",
       "        [0.84160251, 0.03170932],\n",
       "        [0.35618121, 0.23269304],\n",
       "        [0.48573854, 0.48207828]],\n",
       "\n",
       "       [[0.44901058, 0.72625014],\n",
       "        [0.1459763 , 0.61752606],\n",
       "        [0.04592991, 0.7901287 ],\n",
       "        [0.95561851, 0.2822553 ],\n",
       "        [0.50023538, 0.45547372]],\n",
       "\n",
       "       [[0.966045  , 0.6488555 ],\n",
       "        [0.7898923 , 0.72929397],\n",
       "        [0.97351393, 0.51721503],\n",
       "        [0.5209443 , 0.30182663],\n",
       "        [0.34899258, 0.26438991]],\n",
       "\n",
       "       [[0.06273236, 0.79389891],\n",
       "        [0.1479021 , 0.46429008],\n",
       "        [0.43446185, 0.79804719],\n",
       "        [0.12876723, 0.74066329],\n",
       "        [0.42363471, 0.78657049]],\n",
       "\n",
       "       [[0.77304005, 0.53344912],\n",
       "        [0.1331173 , 0.74700711],\n",
       "        [0.27502843, 0.7102094 ],\n",
       "        [0.21066514, 0.73695789],\n",
       "        [0.18054959, 0.77536262]],\n",
       "\n",
       "       [[0.51210469, 0.55304032],\n",
       "        [0.20430659, 0.30409502],\n",
       "        [0.57707543, 0.57221369],\n",
       "        [0.04477909, 0.67239845],\n",
       "        [0.16238874, 0.08155738]],\n",
       "\n",
       "       [[0.91133691, 0.97248317],\n",
       "        [0.91680786, 0.0415971 ],\n",
       "        [0.09804592, 0.28762291],\n",
       "        [0.81748029, 0.99221418],\n",
       "        [0.4599826 , 0.36736925]],\n",
       "\n",
       "       [[0.7437662 , 0.16874706],\n",
       "        [0.87150534, 0.72135714],\n",
       "        [0.81366746, 0.36640009],\n",
       "        [0.61715295, 0.40770475],\n",
       "        [0.60292699, 0.77008134]],\n",
       "\n",
       "       [[0.81801701, 0.08137993],\n",
       "        [0.62075303, 0.80813295],\n",
       "        [0.80801601, 0.25267637],\n",
       "        [0.03014076, 0.80019441],\n",
       "        [0.28865179, 0.779027  ]],\n",
       "\n",
       "       [[0.72996954, 0.60553975],\n",
       "        [0.43777638, 0.98034215],\n",
       "        [0.16180189, 0.76067872],\n",
       "        [0.22517489, 0.3966364 ],\n",
       "        [0.55664323, 0.56658799]],\n",
       "\n",
       "       [[0.01513522, 0.05315908],\n",
       "        [0.43672243, 0.16131042],\n",
       "        [0.6606729 , 0.63677643],\n",
       "        [0.55716617, 0.06543708],\n",
       "        [0.94262485, 0.0078516 ]],\n",
       "\n",
       "       [[0.68629788, 0.77518856],\n",
       "        [0.74156311, 0.31819095],\n",
       "        [0.5345523 , 0.25804435],\n",
       "        [0.28096972, 0.13879736],\n",
       "        [0.21274874, 0.46256219]],\n",
       "\n",
       "       [[0.90139499, 0.08673085],\n",
       "        [0.2295463 , 0.28068476],\n",
       "        [0.25545873, 0.07237058],\n",
       "        [0.37387586, 0.458193  ],\n",
       "        [0.50966318, 0.70545352]],\n",
       "\n",
       "       [[0.31121615, 0.82824735],\n",
       "        [0.64406171, 0.3335016 ],\n",
       "        [0.49431525, 0.02298703],\n",
       "        [0.57784337, 0.79423625],\n",
       "        [0.98920268, 0.34158205]],\n",
       "\n",
       "       [[0.36091481, 0.70632087],\n",
       "        [0.54139673, 0.35567464],\n",
       "        [0.01948875, 0.06293226],\n",
       "        [0.05358344, 0.3885033 ],\n",
       "        [0.53935461, 0.95361731]]])"
      ]
     },
     "execution_count": 4,
     "metadata": {},
     "output_type": "execute_result"
    }
   ],
   "source": [
    "rel = np.random.rand(16,5,2)\n",
    "rel"
   ]
  },
  {
   "cell_type": "code",
   "execution_count": 5,
   "id": "e3f55a67",
   "metadata": {
    "scrolled": true
   },
   "outputs": [
    {
     "data": {
      "text/plain": [
       "array([[[[0.66370754, 0.43756811],\n",
       "         [0.53267747, 0.94315197],\n",
       "         [0.52731374, 0.18801202],\n",
       "         [0.52795728, 0.17521083],\n",
       "         [0.91165383, 0.92010432]],\n",
       "\n",
       "        [[0.77971852, 0.75242118],\n",
       "         [0.7289323 , 0.42549784],\n",
       "         [0.84160251, 0.03170932],\n",
       "         [0.35618121, 0.23269304],\n",
       "         [0.48573854, 0.48207828]],\n",
       "\n",
       "        [[0.44901058, 0.72625014],\n",
       "         [0.1459763 , 0.61752606],\n",
       "         [0.04592991, 0.7901287 ],\n",
       "         [0.95561851, 0.2822553 ],\n",
       "         [0.50023538, 0.45547372]],\n",
       "\n",
       "        [[0.966045  , 0.6488555 ],\n",
       "         [0.7898923 , 0.72929397],\n",
       "         [0.97351393, 0.51721503],\n",
       "         [0.5209443 , 0.30182663],\n",
       "         [0.34899258, 0.26438991]]],\n",
       "\n",
       "\n",
       "       [[[0.06273236, 0.79389891],\n",
       "         [0.1479021 , 0.46429008],\n",
       "         [0.43446185, 0.79804719],\n",
       "         [0.12876723, 0.74066329],\n",
       "         [0.42363471, 0.78657049]],\n",
       "\n",
       "        [[0.77304005, 0.53344912],\n",
       "         [0.1331173 , 0.74700711],\n",
       "         [0.27502843, 0.7102094 ],\n",
       "         [0.21066514, 0.73695789],\n",
       "         [0.18054959, 0.77536262]],\n",
       "\n",
       "        [[0.51210469, 0.55304032],\n",
       "         [0.20430659, 0.30409502],\n",
       "         [0.57707543, 0.57221369],\n",
       "         [0.04477909, 0.67239845],\n",
       "         [0.16238874, 0.08155738]],\n",
       "\n",
       "        [[0.91133691, 0.97248317],\n",
       "         [0.91680786, 0.0415971 ],\n",
       "         [0.09804592, 0.28762291],\n",
       "         [0.81748029, 0.99221418],\n",
       "         [0.4599826 , 0.36736925]]],\n",
       "\n",
       "\n",
       "       [[[0.7437662 , 0.16874706],\n",
       "         [0.87150534, 0.72135714],\n",
       "         [0.81366746, 0.36640009],\n",
       "         [0.61715295, 0.40770475],\n",
       "         [0.60292699, 0.77008134]],\n",
       "\n",
       "        [[0.81801701, 0.08137993],\n",
       "         [0.62075303, 0.80813295],\n",
       "         [0.80801601, 0.25267637],\n",
       "         [0.03014076, 0.80019441],\n",
       "         [0.28865179, 0.779027  ]],\n",
       "\n",
       "        [[0.72996954, 0.60553975],\n",
       "         [0.43777638, 0.98034215],\n",
       "         [0.16180189, 0.76067872],\n",
       "         [0.22517489, 0.3966364 ],\n",
       "         [0.55664323, 0.56658799]],\n",
       "\n",
       "        [[0.01513522, 0.05315908],\n",
       "         [0.43672243, 0.16131042],\n",
       "         [0.6606729 , 0.63677643],\n",
       "         [0.55716617, 0.06543708],\n",
       "         [0.94262485, 0.0078516 ]]],\n",
       "\n",
       "\n",
       "       [[[0.68629788, 0.77518856],\n",
       "         [0.74156311, 0.31819095],\n",
       "         [0.5345523 , 0.25804435],\n",
       "         [0.28096972, 0.13879736],\n",
       "         [0.21274874, 0.46256219]],\n",
       "\n",
       "        [[0.90139499, 0.08673085],\n",
       "         [0.2295463 , 0.28068476],\n",
       "         [0.25545873, 0.07237058],\n",
       "         [0.37387586, 0.458193  ],\n",
       "         [0.50966318, 0.70545352]],\n",
       "\n",
       "        [[0.31121615, 0.82824735],\n",
       "         [0.64406171, 0.3335016 ],\n",
       "         [0.49431525, 0.02298703],\n",
       "         [0.57784337, 0.79423625],\n",
       "         [0.98920268, 0.34158205]],\n",
       "\n",
       "        [[0.36091481, 0.70632087],\n",
       "         [0.54139673, 0.35567464],\n",
       "         [0.01948875, 0.06293226],\n",
       "         [0.05358344, 0.3885033 ],\n",
       "         [0.53935461, 0.95361731]]]])"
      ]
     },
     "execution_count": 5,
     "metadata": {},
     "output_type": "execute_result"
    }
   ],
   "source": [
    "rel = rel.reshape(4,4,5,2)\n",
    "rel"
   ]
  },
  {
   "cell_type": "code",
   "execution_count": 6,
   "id": "db07401e",
   "metadata": {},
   "outputs": [],
   "source": [
    "loss = np.min(rel[...,0], axis=1)\n",
    "acc = np.max(rel[...,1], axis=1)"
   ]
  },
  {
   "cell_type": "code",
   "execution_count": 10,
   "id": "80c6566a",
   "metadata": {},
   "outputs": [
    {
     "data": {
      "text/plain": [
       "[<matplotlib.lines.Line2D at 0x140019f90>]"
      ]
     },
     "execution_count": 10,
     "metadata": {},
     "output_type": "execute_result"
    },
    {
     "data": {
      "image/png": "[encoded data removed]",
      "text/plain": [
       "<Figure size 432x288 with 1 Axes>"
      ]
     },
     "metadata": {
      "needs_background": "light"
     },
     "output_type": "display_data"
    }
   ],
   "source": [
    "fig, ax = plt.subplots()\n",
    "ax.plot(np.arange(0,20), np.minimum.accumulate(loss.flatten()))"
   ]
  },
  {
   "cell_type": "code",
   "execution_count": 8,
   "id": "27353961",
   "metadata": {},
   "outputs": [
    {
     "data": {
      "text/plain": [
       "array([[0.44901058, 0.1459763 , 0.04592991, 0.35618121, 0.34899258],\n",
       "       [0.06273236, 0.1331173 , 0.09804592, 0.04477909, 0.16238874],\n",
       "       [0.01513522, 0.43672243, 0.16180189, 0.03014076, 0.28865179],\n",
       "       [0.31121615, 0.2295463 , 0.01948875, 0.05358344, 0.21274874]])"
      ]
     },
     "execution_count": 8,
     "metadata": {},
     "output_type": "execute_result"
    }
   ],
   "source": [
    "loss"
   ]
  },
  {
   "cell_type": "code",
   "execution_count": 9,
   "id": "f8d5e7ef",
   "metadata": {},
   "outputs": [
    {
     "data": {
      "text/plain": [
       "array([0.44901058, 0.1459763 , 0.04592991, 0.35618121, 0.34899258,\n",
       "       0.06273236, 0.1331173 , 0.09804592, 0.04477909, 0.16238874,\n",
       "       0.01513522, 0.43672243, 0.16180189, 0.03014076, 0.28865179,\n",
       "       0.31121615, 0.2295463 , 0.01948875, 0.05358344, 0.21274874])"
      ]
     },
     "execution_count": 9,
     "metadata": {},
     "output_type": "execute_result"
    }
   ],
   "source": [
    "loss.flatten()"
   ]
  },
  {
   "cell_type": "code",
   "execution_count": null,
   "id": "17aa42ee",
   "metadata": {},
   "outputs": [],
   "source": []
  }
 ],
 "metadata": {
  "kernelspec": {
   "display_name": "Python 3 (ipykernel)",
   "language": "python",
   "name": "python3"
  },
  "language_info": {
   "codemirror_mode": {
    "name": "ipython",
    "version": 3
   },
   "file_extension": ".py",
   "mimetype": "text/x-python",
   "name": "python",
   "nbconvert_exporter": "python",
   "pygments_lexer": "ipython3",
   "version": "3.7.6"
  }
 },
 "nbformat": 4,
 "nbformat_minor": 5
}